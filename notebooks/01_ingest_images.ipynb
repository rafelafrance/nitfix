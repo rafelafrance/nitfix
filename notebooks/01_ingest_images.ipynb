{
 "cells": [
  {
   "cell_type": "markdown",
   "metadata": {
    "toc": true
   },
   "source": [
    "<h1>Table of Contents<span class=\"tocSkip\"></span></h1>\n",
    "<div class=\"toc\"><ul class=\"toc-item\"><li><span><a href=\"#Setup\" data-toc-modified-id=\"Setup-1\"><span class=\"toc-item-num\">1&nbsp;&nbsp;</span>Setup</a></span></li><li><span><a href=\"#Create-images-and-errors-tables|\" data-toc-modified-id=\"Create-images-and-errors-tables|-2\"><span class=\"toc-item-num\">2&nbsp;&nbsp;</span>Create images and errors tables|</a></span></li><li><span><a href=\"#Get-Files-Already-Read\" data-toc-modified-id=\"Get-Files-Already-Read-3\"><span class=\"toc-item-num\">3&nbsp;&nbsp;</span>Get Files Already Read</a></span></li><li><span><a href=\"#Functions\" data-toc-modified-id=\"Functions-4\"><span class=\"toc-item-num\">4&nbsp;&nbsp;</span>Functions</a></span><ul class=\"toc-item\"><li><span><a href=\"#Search-the-image-for-the-sample-ID-(UUID)\" data-toc-modified-id=\"Search-the-image-for-the-sample-ID-(UUID)-4.1\"><span class=\"toc-item-num\">4.1&nbsp;&nbsp;</span>Search the image for the sample ID (UUID)</a></span><ul class=\"toc-item\"><li><span><a href=\"#Create-Window-Slider\" data-toc-modified-id=\"Create-Window-Slider-4.1.1\"><span class=\"toc-item-num\">4.1.1&nbsp;&nbsp;</span>Create Window Slider</a></span></li><li><span><a href=\"#Extract-QR-Code-from-Image\" data-toc-modified-id=\"Extract-QR-Code-from-Image-4.1.2\"><span class=\"toc-item-num\">4.1.2&nbsp;&nbsp;</span>Extract QR Code from Image</a></span></li><li><span><a href=\"#Read-and-Process-Image\" data-toc-modified-id=\"Read-and-Process-Image-4.1.3\"><span class=\"toc-item-num\">4.1.3&nbsp;&nbsp;</span>Read and Process Image</a></span></li></ul></li><li><span><a href=\"#Ingest-Image-Batch\" data-toc-modified-id=\"Ingest-Image-Batch-4.2\"><span class=\"toc-item-num\">4.2&nbsp;&nbsp;</span>Ingest Image Batch</a></span></li><li><span><a href=\"#Resolve-an-error\" data-toc-modified-id=\"Resolve-an-error-4.3\"><span class=\"toc-item-num\">4.3&nbsp;&nbsp;</span>Resolve an error</a></span></li><li><span><a href=\"#Manually-set-an-image-record\" data-toc-modified-id=\"Manually-set-an-image-record-4.4\"><span class=\"toc-item-num\">4.4&nbsp;&nbsp;</span>Manually set an image record</a></span></li></ul></li><li><span><a href=\"#Read-image-Files\" data-toc-modified-id=\"Read-image-Files-5\"><span class=\"toc-item-num\">5&nbsp;&nbsp;</span>Read image Files</a></span><ul class=\"toc-item\"><li><span><a href=\"#Read-New-York-Botanical-Garden-(1st-trip)\" data-toc-modified-id=\"Read-New-York-Botanical-Garden-(1st-trip)-5.1\"><span class=\"toc-item-num\">5.1&nbsp;&nbsp;</span>Read New York Botanical Garden (1st trip)</a></span></li><li><span><a href=\"#Read-Harvard-Herbaria\" data-toc-modified-id=\"Read-Harvard-Herbaria-5.2\"><span class=\"toc-item-num\">5.2&nbsp;&nbsp;</span>Read Harvard Herbaria</a></span></li><li><span><a href=\"#Read-Ohio-State-University-Herbarium\" data-toc-modified-id=\"Read-Ohio-State-University-Herbarium-5.3\"><span class=\"toc-item-num\">5.3&nbsp;&nbsp;</span>Read Ohio State University Herbarium</a></span></li><li><span><a href=\"#Read-California-Academy-of-Sciences-Herbarium\" data-toc-modified-id=\"Read-California-Academy-of-Sciences-Herbarium-5.4\"><span class=\"toc-item-num\">5.4&nbsp;&nbsp;</span>Read California Academy of Sciences Herbarium</a></span></li><li><span><a href=\"#Read-Missouri-Botanical-Garden\" data-toc-modified-id=\"Read-Missouri-Botanical-Garden-5.5\"><span class=\"toc-item-num\">5.5&nbsp;&nbsp;</span>Read Missouri Botanical Garden</a></span></li><li><span><a href=\"#Read-New-York-Botanical-Garden-(2nd-trip)\" data-toc-modified-id=\"Read-New-York-Botanical-Garden-(2nd-trip)-5.6\"><span class=\"toc-item-num\">5.6&nbsp;&nbsp;</span>Read New York Botanical Garden (2nd trip)</a></span></li><li><span><a href=\"#Read-New-York-Botanical-Garden-(3rd-trip)\" data-toc-modified-id=\"Read-New-York-Botanical-Garden-(3rd-trip)-5.7\"><span class=\"toc-item-num\">5.7&nbsp;&nbsp;</span>Read New York Botanical Garden (3rd trip)</a></span></li></ul></li><li><span><a href=\"#Read-Pilot-Data\" data-toc-modified-id=\"Read-Pilot-Data-6\"><span class=\"toc-item-num\">6&nbsp;&nbsp;</span>Read Pilot Data</a></span></li><li><span><a href=\"#Read-Corrales-Data\" data-toc-modified-id=\"Read-Corrales-Data-7\"><span class=\"toc-item-num\">7&nbsp;&nbsp;</span>Read Corrales Data</a></span></li><li><span><a href=\"#Write-Image-Table-to-CSV-File\" data-toc-modified-id=\"Write-Image-Table-to-CSV-File-8\"><span class=\"toc-item-num\">8&nbsp;&nbsp;</span>Write Image Table to CSV File</a></span></li></ul></div>"
   ]
  },
  {
   "cell_type": "markdown",
   "metadata": {},
   "source": [
    "# Setup\n",
    "\n",
    "** Warning: This notebook can take a hours to complete. **"
   ]
  },
  {
   "cell_type": "code",
   "execution_count": 1,
   "metadata": {},
   "outputs": [],
   "source": [
    "from glob import glob\n",
    "from pathlib import Path\n",
    "from collections import namedtuple\n",
    "\n",
    "import pandas as pd\n",
    "from PIL import Image, ImageFilter\n",
    "import exifread\n",
    "import zbarlight\n",
    "from tqdm import tqdm\n",
    "\n",
    "import lib.db as db\n",
    "import lib.util as util\n",
    "import lib.google as google\n",
    "from lib.dict_attr import DictAttrs"
   ]
  },
  {
   "cell_type": "code",
   "execution_count": 2,
   "metadata": {},
   "outputs": [],
   "source": [
    "Dimensions = namedtuple('Dimensions', 'width height')\n",
    "\n",
    "CXN = db.connect()\n",
    "RAW_DATA = Path('..') / 'data' / 'raw'\n",
    "INTERIM_DATA = Path('..') / 'data' / 'interim'\n",
    "PROCESSED_DATA = Path('..') / 'data' / 'processed'"
   ]
  },
  {
   "cell_type": "markdown",
   "metadata": {},
   "source": [
    "# Create images and errors tables|"
   ]
  },
  {
   "cell_type": "code",
   "execution_count": 3,
   "metadata": {},
   "outputs": [],
   "source": [
    "def create_images_table():\n",
    "    CXN.execute('DROP TABLE IF EXISTS raw_images')\n",
    "    CXN.execute(\"\"\"\n",
    "        CREATE TABLE raw_images (\n",
    "            sample_id  TEXT PRIMARY KEY NOT NULL,\n",
    "            image_file TEXT NOT NULL UNIQUE\n",
    "        )\"\"\")\n",
    "    CXN.execute(\"\"\"CREATE INDEX image_idx ON raw_images (sample_id)\"\"\")\n",
    "    CXN.execute(\"\"\"CREATE INDEX image_file ON raw_images (image_file)\"\"\")"
   ]
  },
  {
   "cell_type": "code",
   "execution_count": 4,
   "metadata": {},
   "outputs": [],
   "source": [
    "def create_errors_table():\n",
    "    \"\"\"Create errors table for persisting errors.\"\"\"\n",
    "    CXN.execute('DROP TABLE IF EXISTS image_errors')\n",
    "    CXN.execute(\"\"\"\n",
    "        CREATE TABLE errors (\n",
    "            image_file TEXT NOT NULL,\n",
    "            msg        TEXT,\n",
    "            ok         INTEGER,\n",
    "            resolution TEXT\n",
    "        )\"\"\")\n",
    "    CXN.execute(\"\"\"CREATE INDEX error_idx ON image_errors (image_file)\"\"\")"
   ]
  },
  {
   "cell_type": "code",
   "execution_count": 5,
   "metadata": {},
   "outputs": [],
   "source": [
    "# create_images_table()\n",
    "# create_errors_table()"
   ]
  },
  {
   "cell_type": "markdown",
   "metadata": {},
   "source": [
    "# Get Files Already Read"
   ]
  },
  {
   "cell_type": "code",
   "execution_count": 6,
   "metadata": {},
   "outputs": [],
   "source": [
    "images = pd.read_sql('SELECT * FROM raw_images', CXN)\n",
    "errors = pd.read_sql('SELECT * FROM image_errors', CXN)\n",
    "skip_images = set(images.image_file) | set(errors.image_file)"
   ]
  },
  {
   "cell_type": "markdown",
   "metadata": {},
   "source": [
    "# Functions\n",
    "\n",
    "## Search the image for the sample ID (UUID)\n",
    "\n",
    "### Create Window Slider\n",
    "\n",
    "It helps with feature extraction by limiting the search area"
   ]
  },
  {
   "cell_type": "code",
   "execution_count": 7,
   "metadata": {},
   "outputs": [],
   "source": [
    "def window_slider(image_size, window=None, stride=None):\n",
    "    window = window if window else Dimensions(400, 400)\n",
    "    stride = stride if stride else Dimensions(200, 200)\n",
    "\n",
    "    for top in range(0, image_size.height, stride.height):\n",
    "        bottom = top + window.height\n",
    "        bottom = image_size.height if bottom > image_size.height else bottom\n",
    "\n",
    "        for left in range(0, image_size.width, stride.width):\n",
    "            right = left + window.width\n",
    "            right = image_size.width if right > image_size.width else right\n",
    "\n",
    "            box = (left, top, right, bottom)\n",
    "\n",
    "            yield box"
   ]
  },
  {
   "cell_type": "markdown",
   "metadata": {},
   "source": [
    "### Extract QR Code from Image"
   ]
  },
  {
   "cell_type": "code",
   "execution_count": 8,
   "metadata": {},
   "outputs": [],
   "source": [
    "def get_qr_code(image):\n",
    "    # Try a direct extraction\n",
    "    qr_code = zbarlight.scan_codes('qrcode', image)\n",
    "    if qr_code:\n",
    "        return qr_code[0].decode('utf-8')\n",
    "\n",
    "    # Try a slider\n",
    "    for box in window_slider(image):\n",
    "        cropped = image.crop(box)\n",
    "        qr_code = zbarlight.scan_codes('qrcode', cropped)\n",
    "        if qr_code:\n",
    "            return qr_code[0].decode('utf-8')\n",
    "\n",
    "    # Try rotating the image *sigh*\n",
    "    for degrees in range(5, 85, 5):\n",
    "        rotated = image.rotate(degrees)\n",
    "        qr_code = zbarlight.scan_codes('qrcode', rotated)\n",
    "        if qr_code:\n",
    "            return qr_code[0].decode('utf-8')\n",
    "\n",
    "    # Try to sharpen the image\n",
    "    sharpened = image.filter(ImageFilter.SHARPEN)\n",
    "    qr_code = zbarlight.scan_codes('qrcode', sharpened)\n",
    "    if qr_code:\n",
    "        return qr_code[0].decode('utf-8')\n",
    "\n",
    "    return None"
   ]
  },
  {
   "cell_type": "markdown",
   "metadata": {},
   "source": [
    "### Read and Process Image"
   ]
  },
  {
   "cell_type": "code",
   "execution_count": 9,
   "metadata": {},
   "outputs": [],
   "source": [
    "def get_image_data(image_file):\n",
    "    with open(image_file, 'rb') as image_file:\n",
    "        # exif = exifread.process_file(image_file)\n",
    "        image = Image.open(image_file)\n",
    "        image.load()\n",
    "\n",
    "    qr_code = get_qr_code(image)\n",
    "\n",
    "    return qr_code"
   ]
  },
  {
   "cell_type": "markdown",
   "metadata": {},
   "source": [
    "## Ingest Image Batch"
   ]
  },
  {
   "cell_type": "code",
   "execution_count": 10,
   "metadata": {},
   "outputs": [],
   "source": [
    "def ingest_images(dir_name, skip_images):\n",
    "    pattern = str(dir_name / '*.JPG')\n",
    "\n",
    "    sample_ids = {}  # Keep track of already used sample_ids\n",
    "\n",
    "    images = []  # A batch of images to insert\n",
    "    errors = []  # A batch of errors to insert\n",
    "\n",
    "    files = sorted(glob(pattern))\n",
    "\n",
    "    for image_file in tqdm(files):\n",
    "        if image_file in skip_images:\n",
    "            continue\n",
    "\n",
    "        sample_id = get_image_data(image_file)\n",
    "\n",
    "        # Handle a missing sample ID\n",
    "        if not sample_id:\n",
    "            msg = 'MISSING: QR code missing in {}'.format(image_file)\n",
    "            errors.append((image_file, msg))\n",
    "\n",
    "        # Handle a duplicate sample ID\n",
    "        elif sample_ids.get(sample_id):\n",
    "            msg = ('DUPLICATES: Files {} and {} have the same '\n",
    "                   'QR code').format(sample_ids[sample_id], image_file)\n",
    "            errors.append((image_file, msg))\n",
    "\n",
    "        # The image seems OK\n",
    "        else:\n",
    "            sample_ids[sample_id] = image_file\n",
    "            images.append((sample_id, image_file))\n",
    "\n",
    "    # Insert the image and error batches\n",
    "    if images:\n",
    "        sql = 'INSERT INTO raw_images (sample_id, image_file) VALUES (?, ?)'\n",
    "        CXN.executemany(sql, images)\n",
    "        CXN.commit()\n",
    "\n",
    "    if errors:\n",
    "        sql = 'INSERT INTO image_errors (image_file, msg) VALUES (?, ?)'\n",
    "        CXN.executemany(sql, errors)\n",
    "        CXN.commit()"
   ]
  },
  {
   "cell_type": "markdown",
   "metadata": {},
   "source": [
    "## Resolve an error"
   ]
  },
  {
   "cell_type": "code",
   "execution_count": 11,
   "metadata": {},
   "outputs": [],
   "source": [
    "def resolve_error(dir_name, image_file, ok, resolution):\n",
    "    image_file = str(dir_name / f'{image_file}.JPG')\n",
    "    sql = \"\"\"\n",
    "        UPDATE image_errors\n",
    "           SET ok = ?, resolution = ?\n",
    "         WHERE image_file = ?\"\"\"\n",
    "    CXN.execute(sql, (ok, resolution, image_file))\n",
    "    CXN.commit()"
   ]
  },
  {
   "cell_type": "markdown",
   "metadata": {},
   "source": [
    "## Manually set an image record"
   ]
  },
  {
   "cell_type": "code",
   "execution_count": 12,
   "metadata": {},
   "outputs": [],
   "source": [
    "def manual_insert(dir_name, image_file, sample_id, skip_images):\n",
    "    image_file = str(dir_name / f'{image_file}.JPG')\n",
    "    if image_file in skip_images:\n",
    "        return\n",
    "    sql = 'INSERT INTO raw_images (sample_id, image_file) VALUES (?, ?)'\n",
    "    CXN.execute(sql, (sample_id, image_file))\n",
    "    CXN.commit()"
   ]
  },
  {
   "cell_type": "markdown",
   "metadata": {},
   "source": [
    "# Read image Files\n",
    "\n",
    "## Read New York Botanical Garden (1st trip)"
   ]
  },
  {
   "cell_type": "code",
   "execution_count": 13,
   "metadata": {},
   "outputs": [
    {
     "name": "stderr",
     "output_type": "stream",
     "text": [
      "100%|██████████| 1236/1236 [00:00<00:00, 566141.72it/s]\n"
     ]
    }
   ],
   "source": [
    "path = RAW_DATA / 'DOE-nitfix_specimen_photos'\n",
    "\n",
    "ingest_images(path, skip_images)\n",
    "\n",
    "resolve_error(path, 'R0000149', 1, 'OK: Genuine duplicate')\n",
    "resolve_error(path, 'R0000151', 1, 'OK: Genuine duplicate')\n",
    "resolve_error(path, 'R0000158', 1, 'OK: Genuine duplicate')\n",
    "resolve_error(path, 'R0000165', 1, 'OK: Genuine duplicate')\n",
    "resolve_error(path, 'R0000674', 1, 'OK: Is a duplicate of R0000473')\n",
    "resolve_error(path, 'R0000835', 1, 'OK: Is a duplicate of R0000836')\n",
    "resolve_error(path, 'R0000895', 1, 'OK: Genuine duplicate')\n",
    "resolve_error(path, 'R0000937', 1, 'OK: Genuine duplicate')\n",
    "resolve_error(path, 'R0001055', 1, 'OK: Genuine duplicate')"
   ]
  },
  {
   "cell_type": "markdown",
   "metadata": {},
   "source": [
    "## Read Harvard Herbaria"
   ]
  },
  {
   "cell_type": "code",
   "execution_count": 14,
   "metadata": {},
   "outputs": [
    {
     "name": "stderr",
     "output_type": "stream",
     "text": [
      "100%|██████████| 483/483 [00:00<00:00, 502941.62it/s]\n"
     ]
    }
   ],
   "source": [
    "path = RAW_DATA / 'HUH_DOE-nitfix_specimen_photos'\n",
    "\n",
    "ingest_images(path, skip_images)\n",
    "\n",
    "resolve_error(path, 'R0001262', 1, 'OK: Is a duplicate of R0001263')\n",
    "resolve_error(path, 'R0001729', 1, 'OK: Is a duplicate of R0001728')"
   ]
  },
  {
   "cell_type": "markdown",
   "metadata": {},
   "source": [
    "## Read Ohio State University Herbarium"
   ]
  },
  {
   "cell_type": "code",
   "execution_count": 15,
   "metadata": {},
   "outputs": [
    {
     "name": "stderr",
     "output_type": "stream",
     "text": [
      "100%|██████████| 688/688 [00:00<00:00, 571988.34it/s]\n"
     ]
    }
   ],
   "source": [
    "path = RAW_DATA / 'OS_DOE-nitfix_specimen_photos'\n",
    "\n",
    "ingest_images(path, skip_images)\n",
    "\n",
    "resolve_error(path, 'R0000229', 1, 'OK: Genuine duplicate')\n",
    "resolve_error(path, 'R0001835', 1, 'OK: Genuine duplicate')\n",
    "resolve_error(path, 'R0001898', 1, 'OK: Genuine duplicate')"
   ]
  },
  {
   "cell_type": "markdown",
   "metadata": {},
   "source": [
    "## Read California Academy of Sciences Herbarium"
   ]
  },
  {
   "cell_type": "code",
   "execution_count": 16,
   "metadata": {},
   "outputs": [
    {
     "name": "stderr",
     "output_type": "stream",
     "text": [
      "100%|██████████| 2596/2596 [00:00<00:00, 599978.69it/s]\n"
     ]
    }
   ],
   "source": [
    "path = RAW_DATA / 'CAS-DOE-nitfix_specimen_photos'\n",
    "\n",
    "ingest_images(path, skip_images)\n",
    "\n",
    "resolve_error(path, 'R0001361', 1, 'OK: Genuine duplicate')\n",
    "resolve_error(path, 'R0002349', 1, 'OK: Genuine duplicate')"
   ]
  },
  {
   "cell_type": "markdown",
   "metadata": {},
   "source": [
    "## Read Missouri Botanical Garden"
   ]
  },
  {
   "cell_type": "code",
   "execution_count": 17,
   "metadata": {},
   "outputs": [
    {
     "name": "stderr",
     "output_type": "stream",
     "text": [
      "100%|██████████| 1027/1027 [00:00<00:00, 421070.40it/s]\n"
     ]
    }
   ],
   "source": [
    "path = RAW_DATA / 'MO-DOE-nitfix_specimen_photos'\n",
    "\n",
    "ingest_images(path, skip_images)\n",
    "\n",
    "resolve_error(path, 'R0002933', 1, 'OK: Genuine duplicate')\n",
    "resolve_error(path, 'R0003226', 1, 'OK: Genuine duplicate')\n",
    "resolve_error(path, 'R0003663', 1, 'OK: Manually fixed')\n",
    "resolve_error(path, 'R0003509', 0, 'ERROR: Blurry image')\n",
    "\n",
    "manual_insert(\n",
    "    path, 'R0003663', '2eea159f-3c25-42ef-837d-27ad545a6779', skip_images)"
   ]
  },
  {
   "cell_type": "markdown",
   "metadata": {},
   "source": [
    "## Read New York Botanical Garden (2nd trip)"
   ]
  },
  {
   "cell_type": "code",
   "execution_count": 18,
   "metadata": {},
   "outputs": [
    {
     "name": "stderr",
     "output_type": "stream",
     "text": [
      "100%|██████████| 1307/1307 [00:00<00:00, 530837.16it/s]\n"
     ]
    }
   ],
   "source": [
    "path = RAW_DATA / 'NY_visit_2'\n",
    "\n",
    "ingest_images(path, skip_images)"
   ]
  },
  {
   "cell_type": "markdown",
   "metadata": {},
   "source": [
    "## Read New York Botanical Garden (3rd trip)"
   ]
  },
  {
   "cell_type": "code",
   "execution_count": 19,
   "metadata": {},
   "outputs": [
    {
     "name": "stderr",
     "output_type": "stream",
     "text": [
      "100%|██████████| 1112/1112 [00:00<00:00, 580396.47it/s]\n"
     ]
    }
   ],
   "source": [
    "path = RAW_DATA / 'NY_DOE-nitfix_visit3'\n",
    "\n",
    "ingest_images(path, skip_images)"
   ]
  },
  {
   "cell_type": "markdown",
   "metadata": {},
   "source": [
    "# Read Pilot Data"
   ]
  },
  {
   "cell_type": "code",
   "execution_count": 20,
   "metadata": {},
   "outputs": [
    {
     "name": "stdout",
     "output_type": "stream",
     "text": [
      "456\n"
     ]
    },
    {
     "data": {
      "text/html": [
       "<div>\n",
       "<style scoped>\n",
       "    .dataframe tbody tr th:only-of-type {\n",
       "        vertical-align: middle;\n",
       "    }\n",
       "\n",
       "    .dataframe tbody tr th {\n",
       "        vertical-align: top;\n",
       "    }\n",
       "\n",
       "    .dataframe thead th {\n",
       "        text-align: right;\n",
       "    }\n",
       "</style>\n",
       "<table border=\"1\" class=\"dataframe\">\n",
       "  <thead>\n",
       "    <tr style=\"text-align: right;\">\n",
       "      <th></th>\n",
       "      <th>pilot_id</th>\n",
       "      <th>sample_id</th>\n",
       "      <th>image_file</th>\n",
       "    </tr>\n",
       "  </thead>\n",
       "  <tbody>\n",
       "    <tr>\n",
       "      <th>0</th>\n",
       "      <td>ny: cronquist 11617</td>\n",
       "      <td>2179dce7-dac2-4fc1-84a3-8725acefa8cc</td>\n",
       "      <td>../data/raw/UFBI_sample_photos/20170523_154701...</td>\n",
       "    </tr>\n",
       "    <tr>\n",
       "      <th>1</th>\n",
       "      <td>ny: nee 38556</td>\n",
       "      <td>00420ba6-4228-49e8-845c-30a967de4b51</td>\n",
       "      <td>../data/raw/UFBI_sample_photos/20170523_154645...</td>\n",
       "    </tr>\n",
       "    <tr>\n",
       "      <th>2</th>\n",
       "      <td>ny: jorengensen 65676</td>\n",
       "      <td>72b64a1e-0dd9-4f44-9f82-afaee163d57b</td>\n",
       "      <td>../data/raw/UFBI_sample_photos/20170523_154638...</td>\n",
       "    </tr>\n",
       "    <tr>\n",
       "      <th>3</th>\n",
       "      <td>ny: jaramillo 10160</td>\n",
       "      <td>3364f3bb-c0a1-4af4-8b3b-a780de9f1594</td>\n",
       "      <td>../data/raw/UFBI_sample_photos/20170523_154629...</td>\n",
       "    </tr>\n",
       "    <tr>\n",
       "      <th>4</th>\n",
       "      <td>ny: jorgensen 61589</td>\n",
       "      <td>6e76a0be-4b0f-4e01-a6e6-1cd1395d4458</td>\n",
       "      <td>../data/raw/UFBI_sample_photos/20170523_154621...</td>\n",
       "    </tr>\n",
       "  </tbody>\n",
       "</table>\n",
       "</div>"
      ],
      "text/plain": [
       "                pilot_id                             sample_id  \\\n",
       "0    ny: cronquist 11617  2179dce7-dac2-4fc1-84a3-8725acefa8cc   \n",
       "1          ny: nee 38556  00420ba6-4228-49e8-845c-30a967de4b51   \n",
       "2  ny: jorengensen 65676  72b64a1e-0dd9-4f44-9f82-afaee163d57b   \n",
       "3    ny: jaramillo 10160  3364f3bb-c0a1-4af4-8b3b-a780de9f1594   \n",
       "4    ny: jorgensen 61589  6e76a0be-4b0f-4e01-a6e6-1cd1395d4458   \n",
       "\n",
       "                                          image_file  \n",
       "0  ../data/raw/UFBI_sample_photos/20170523_154701...  \n",
       "1  ../data/raw/UFBI_sample_photos/20170523_154645...  \n",
       "2  ../data/raw/UFBI_sample_photos/20170523_154638...  \n",
       "3  ../data/raw/UFBI_sample_photos/20170523_154629...  \n",
       "4  ../data/raw/UFBI_sample_photos/20170523_154621...  "
      ]
     },
     "execution_count": 20,
     "metadata": {},
     "output_type": "execute_result"
    }
   ],
   "source": [
    "csv_name = 'pilot.csv'\n",
    "csv_path = INTERIM_DATA / csv_name\n",
    "\n",
    "google.sheet_to_csv('UFBI_identifiers_photos', csv_path)\n",
    "\n",
    "pilot = pd.read_csv(csv_path)\n",
    "\n",
    "pilot['image_file'] = pilot['File'].apply(\n",
    "    lambda x: f'../data/raw/UFBI_sample_photos/{x}')\n",
    "\n",
    "pilot.drop(['File'], axis=1, inplace=True)\n",
    "pilot.rename(columns={'Identifier': 'pilot_id'}, inplace=True)\n",
    "pilot.pilot_id = pilot.pilot_id.str.lower().str.split().str.join(' ')\n",
    "\n",
    "print(len(pilot))\n",
    "pilot.head()"
   ]
  },
  {
   "cell_type": "code",
   "execution_count": 21,
   "metadata": {},
   "outputs": [],
   "source": [
    "name = 'raw_pilot'\n",
    "pilot.to_csv(PROCESSED_DATA / f'{name}.csv', index=False)\n",
    "pilot.to_sql(name, CXN, if_exists='replace', index=False)\n",
    "\n",
    "already_in = pilot.sample_id.isin(images.sample_id)\n",
    "pilot = pilot[~already_in]\n",
    "\n",
    "pilot.drop('pilot_id', axis=1, inplace=True)\n",
    "pilot.to_sql('raw_images', CXN, if_exists='append', index=False)"
   ]
  },
  {
   "cell_type": "markdown",
   "metadata": {},
   "source": [
    "# Read Corrales Data"
   ]
  },
  {
   "cell_type": "code",
   "execution_count": 22,
   "metadata": {},
   "outputs": [
    {
     "data": {
      "text/html": [
       "<div>\n",
       "<style scoped>\n",
       "    .dataframe tbody tr th:only-of-type {\n",
       "        vertical-align: middle;\n",
       "    }\n",
       "\n",
       "    .dataframe tbody tr th {\n",
       "        vertical-align: top;\n",
       "    }\n",
       "\n",
       "    .dataframe thead th {\n",
       "        text-align: right;\n",
       "    }\n",
       "</style>\n",
       "<table border=\"1\" class=\"dataframe\">\n",
       "  <thead>\n",
       "    <tr style=\"text-align: right;\">\n",
       "      <th></th>\n",
       "      <th>corrales_id</th>\n",
       "      <th>sample_id</th>\n",
       "      <th>image_file</th>\n",
       "    </tr>\n",
       "  </thead>\n",
       "  <tbody>\n",
       "    <tr>\n",
       "      <th>0</th>\n",
       "      <td>corrales: corrales 770</td>\n",
       "      <td>eb9dc632-82a9-479f-88d5-f172ee6cc2d7</td>\n",
       "      <td>../data/raw/missing_photos/Corrales_770.jpg</td>\n",
       "    </tr>\n",
       "    <tr>\n",
       "      <th>1</th>\n",
       "      <td>corrales: corrales 830</td>\n",
       "      <td>4a31b17c-08f2-4236-a7b1-2261554ea658</td>\n",
       "      <td>../data/raw/missing_photos/Corrales_830.jpg</td>\n",
       "    </tr>\n",
       "    <tr>\n",
       "      <th>2</th>\n",
       "      <td>corrales: corrales 792</td>\n",
       "      <td>3ffa0f4c-1180-4268-8ba5-c9cc2e251350</td>\n",
       "      <td>../data/raw/missing_photos/Corrales_792.jpg</td>\n",
       "    </tr>\n",
       "    <tr>\n",
       "      <th>3</th>\n",
       "      <td>corrales: corrales 704</td>\n",
       "      <td>b6b6b66e-3b3b-4d5c-8197-a959a8fe715e</td>\n",
       "      <td>../data/raw/missing_photos/Corrales_704.jpg</td>\n",
       "    </tr>\n",
       "    <tr>\n",
       "      <th>4</th>\n",
       "      <td>corrales: corrales 754</td>\n",
       "      <td>56013e5d-6b1b-4c1c-8f01-3bb7e57c3a83</td>\n",
       "      <td>../data/raw/missing_photos/Corrales_754.jpg</td>\n",
       "    </tr>\n",
       "  </tbody>\n",
       "</table>\n",
       "</div>"
      ],
      "text/plain": [
       "              corrales_id                             sample_id  \\\n",
       "0  corrales: corrales 770  eb9dc632-82a9-479f-88d5-f172ee6cc2d7   \n",
       "1  corrales: corrales 830  4a31b17c-08f2-4236-a7b1-2261554ea658   \n",
       "2  corrales: corrales 792  3ffa0f4c-1180-4268-8ba5-c9cc2e251350   \n",
       "3  corrales: corrales 704  b6b6b66e-3b3b-4d5c-8197-a959a8fe715e   \n",
       "4  corrales: corrales 754  56013e5d-6b1b-4c1c-8f01-3bb7e57c3a83   \n",
       "\n",
       "                                    image_file  \n",
       "0  ../data/raw/missing_photos/Corrales_770.jpg  \n",
       "1  ../data/raw/missing_photos/Corrales_830.jpg  \n",
       "2  ../data/raw/missing_photos/Corrales_792.jpg  \n",
       "3  ../data/raw/missing_photos/Corrales_704.jpg  \n",
       "4  ../data/raw/missing_photos/Corrales_754.jpg  "
      ]
     },
     "execution_count": 22,
     "metadata": {},
     "output_type": "execute_result"
    }
   ],
   "source": [
    "csv_name = 'pilot.csv'\n",
    "csv_path = INTERIM_DATA / csv_name\n",
    "\n",
    "google.sheet_to_csv('corrales_data', csv_path)\n",
    "\n",
    "corrales = pd.read_csv(csv_path)\n",
    "corrales.corrales_id = corrales.corrales_id.str.lower()\n",
    "corrales.head()"
   ]
  },
  {
   "cell_type": "code",
   "execution_count": 23,
   "metadata": {},
   "outputs": [],
   "source": [
    "name = 'raw_corrales'\n",
    "corrales.to_csv(PROCESSED_DATA / f'{name}.csv', index=False)\n",
    "corrales.to_sql(name, CXN, if_exists='replace', index=False)\n",
    "\n",
    "already_in = corrales.sample_id.isin(images.sample_id)\n",
    "corrales = corrales[~already_in]\n",
    "\n",
    "corrales.drop('corrales_id', axis=1, inplace=True)\n",
    "corrales.to_sql('raw_images', CXN, if_exists='append', index=False)"
   ]
  },
  {
   "cell_type": "markdown",
   "metadata": {},
   "source": [
    "# Write Image Table to CSV File"
   ]
  },
  {
   "cell_type": "code",
   "execution_count": 24,
   "metadata": {},
   "outputs": [
    {
     "data": {
      "text/html": [
       "<div>\n",
       "<style scoped>\n",
       "    .dataframe tbody tr th:only-of-type {\n",
       "        vertical-align: middle;\n",
       "    }\n",
       "\n",
       "    .dataframe tbody tr th {\n",
       "        vertical-align: top;\n",
       "    }\n",
       "\n",
       "    .dataframe thead th {\n",
       "        text-align: right;\n",
       "    }\n",
       "</style>\n",
       "<table border=\"1\" class=\"dataframe\">\n",
       "  <thead>\n",
       "    <tr style=\"text-align: right;\">\n",
       "      <th></th>\n",
       "      <th>sample_id</th>\n",
       "      <th>image_file</th>\n",
       "    </tr>\n",
       "  </thead>\n",
       "  <tbody>\n",
       "    <tr>\n",
       "      <th>0</th>\n",
       "      <td>6fcdf583-e9bb-4764-84de-f277cc6ec6b7</td>\n",
       "      <td>../data/raw/DOE-nitfix_specimen_photos/R000000...</td>\n",
       "    </tr>\n",
       "    <tr>\n",
       "      <th>1</th>\n",
       "      <td>6fa18219-4958-4d75-8bf3-032fa909315c</td>\n",
       "      <td>../data/raw/DOE-nitfix_specimen_photos/R000000...</td>\n",
       "    </tr>\n",
       "    <tr>\n",
       "      <th>2</th>\n",
       "      <td>6f93bea8-43f4-45ad-95f5-ecad63f13037</td>\n",
       "      <td>../data/raw/DOE-nitfix_specimen_photos/R000000...</td>\n",
       "    </tr>\n",
       "    <tr>\n",
       "      <th>3</th>\n",
       "      <td>6f66cc88-3583-4e9b-97ea-03b1d681def8</td>\n",
       "      <td>../data/raw/DOE-nitfix_specimen_photos/R000000...</td>\n",
       "    </tr>\n",
       "    <tr>\n",
       "      <th>4</th>\n",
       "      <td>6f5bc099-ff55-4740-8a2f-e63466b47892</td>\n",
       "      <td>../data/raw/DOE-nitfix_specimen_photos/R000000...</td>\n",
       "    </tr>\n",
       "  </tbody>\n",
       "</table>\n",
       "</div>"
      ],
      "text/plain": [
       "                              sample_id  \\\n",
       "0  6fcdf583-e9bb-4764-84de-f277cc6ec6b7   \n",
       "1  6fa18219-4958-4d75-8bf3-032fa909315c   \n",
       "2  6f93bea8-43f4-45ad-95f5-ecad63f13037   \n",
       "3  6f66cc88-3583-4e9b-97ea-03b1d681def8   \n",
       "4  6f5bc099-ff55-4740-8a2f-e63466b47892   \n",
       "\n",
       "                                          image_file  \n",
       "0  ../data/raw/DOE-nitfix_specimen_photos/R000000...  \n",
       "1  ../data/raw/DOE-nitfix_specimen_photos/R000000...  \n",
       "2  ../data/raw/DOE-nitfix_specimen_photos/R000000...  \n",
       "3  ../data/raw/DOE-nitfix_specimen_photos/R000000...  \n",
       "4  ../data/raw/DOE-nitfix_specimen_photos/R000000...  "
      ]
     },
     "execution_count": 24,
     "metadata": {},
     "output_type": "execute_result"
    }
   ],
   "source": [
    "csv_name = 'images.csv'\n",
    "\n",
    "df = pd.read_sql('SELECT * FROM raw_images', CXN)\n",
    "\n",
    "csv_path = PROCESSED_DATA / csv_name\n",
    "df.to_csv(csv_path, index=False)\n",
    "\n",
    "df.head()"
   ]
  },
  {
   "cell_type": "code",
   "execution_count": 25,
   "metadata": {},
   "outputs": [
    {
     "data": {
      "text/html": [
       "<div>\n",
       "<style scoped>\n",
       "    .dataframe tbody tr th:only-of-type {\n",
       "        vertical-align: middle;\n",
       "    }\n",
       "\n",
       "    .dataframe tbody tr th {\n",
       "        vertical-align: top;\n",
       "    }\n",
       "\n",
       "    .dataframe thead th {\n",
       "        text-align: right;\n",
       "    }\n",
       "</style>\n",
       "<table border=\"1\" class=\"dataframe\">\n",
       "  <thead>\n",
       "    <tr style=\"text-align: right;\">\n",
       "      <th></th>\n",
       "      <th>image_file</th>\n",
       "      <th>msg</th>\n",
       "      <th>ok</th>\n",
       "      <th>resolution</th>\n",
       "    </tr>\n",
       "  </thead>\n",
       "  <tbody>\n",
       "    <tr>\n",
       "      <th>0</th>\n",
       "      <td>../data/raw/DOE-nitfix_specimen_photos/R000014...</td>\n",
       "      <td>DUPLICATES: Files ../data/raw/DOE-nitfix_speci...</td>\n",
       "      <td>1.0</td>\n",
       "      <td>OK: Genuine duplicate</td>\n",
       "    </tr>\n",
       "    <tr>\n",
       "      <th>1</th>\n",
       "      <td>../data/raw/DOE-nitfix_specimen_photos/R000015...</td>\n",
       "      <td>DUPLICATES: Files ../data/raw/DOE-nitfix_speci...</td>\n",
       "      <td>1.0</td>\n",
       "      <td>OK: Genuine duplicate</td>\n",
       "    </tr>\n",
       "    <tr>\n",
       "      <th>2</th>\n",
       "      <td>../data/raw/DOE-nitfix_specimen_photos/R000015...</td>\n",
       "      <td>DUPLICATES: Files ../data/raw/DOE-nitfix_speci...</td>\n",
       "      <td>1.0</td>\n",
       "      <td>OK: Genuine duplicate</td>\n",
       "    </tr>\n",
       "    <tr>\n",
       "      <th>3</th>\n",
       "      <td>../data/raw/DOE-nitfix_specimen_photos/R000016...</td>\n",
       "      <td>DUPLICATES: Files ../data/raw/DOE-nitfix_speci...</td>\n",
       "      <td>1.0</td>\n",
       "      <td>OK: Genuine duplicate</td>\n",
       "    </tr>\n",
       "    <tr>\n",
       "      <th>4</th>\n",
       "      <td>../data/raw/DOE-nitfix_specimen_photos/R000067...</td>\n",
       "      <td>DUPLICATES: Files ../data/raw/DOE-nitfix_speci...</td>\n",
       "      <td>1.0</td>\n",
       "      <td>OK: Is a duplicate of R0000473</td>\n",
       "    </tr>\n",
       "  </tbody>\n",
       "</table>\n",
       "</div>"
      ],
      "text/plain": [
       "                                          image_file  \\\n",
       "0  ../data/raw/DOE-nitfix_specimen_photos/R000014...   \n",
       "1  ../data/raw/DOE-nitfix_specimen_photos/R000015...   \n",
       "2  ../data/raw/DOE-nitfix_specimen_photos/R000015...   \n",
       "3  ../data/raw/DOE-nitfix_specimen_photos/R000016...   \n",
       "4  ../data/raw/DOE-nitfix_specimen_photos/R000067...   \n",
       "\n",
       "                                                 msg   ok  \\\n",
       "0  DUPLICATES: Files ../data/raw/DOE-nitfix_speci...  1.0   \n",
       "1  DUPLICATES: Files ../data/raw/DOE-nitfix_speci...  1.0   \n",
       "2  DUPLICATES: Files ../data/raw/DOE-nitfix_speci...  1.0   \n",
       "3  DUPLICATES: Files ../data/raw/DOE-nitfix_speci...  1.0   \n",
       "4  DUPLICATES: Files ../data/raw/DOE-nitfix_speci...  1.0   \n",
       "\n",
       "                       resolution  \n",
       "0           OK: Genuine duplicate  \n",
       "1           OK: Genuine duplicate  \n",
       "2           OK: Genuine duplicate  \n",
       "3           OK: Genuine duplicate  \n",
       "4  OK: Is a duplicate of R0000473  "
      ]
     },
     "execution_count": 25,
     "metadata": {},
     "output_type": "execute_result"
    }
   ],
   "source": [
    "csv_name = 'errors.csv'\n",
    "\n",
    "df = pd.read_sql('SELECT * FROM image_errors', CXN)\n",
    "\n",
    "csv_path = PROCESSED_DATA / csv_name\n",
    "df.to_csv(csv_path, index=False)\n",
    "\n",
    "df.head()"
   ]
  },
  {
   "cell_type": "code",
   "execution_count": null,
   "metadata": {},
   "outputs": [],
   "source": []
  }
 ],
 "metadata": {
  "kernelspec": {
   "display_name": "Python 3",
   "language": "python",
   "name": "python3"
  },
  "language_info": {
   "codemirror_mode": {
    "name": "ipython",
    "version": 3
   },
   "file_extension": ".py",
   "mimetype": "text/x-python",
   "name": "python",
   "nbconvert_exporter": "python",
   "pygments_lexer": "ipython3",
   "version": "3.6.3"
  },
  "toc": {
   "nav_menu": {},
   "number_sections": true,
   "sideBar": true,
   "skip_h1_title": false,
   "title_cell": "Table of Contents",
   "title_sidebar": "Contents",
   "toc_cell": true,
   "toc_position": {},
   "toc_section_display": true,
   "toc_window_display": false
  }
 },
 "nbformat": 4,
 "nbformat_minor": 2
}
