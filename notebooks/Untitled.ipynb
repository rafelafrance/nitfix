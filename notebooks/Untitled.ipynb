{
 "cells": [
  {
   "cell_type": "code",
   "execution_count": 3,
   "metadata": {},
   "outputs": [],
   "source": [
    "%matplotlib inline\n",
    "\n",
    "import pandas as pd\n",
    "import matplotlib.pyplot as plt\n",
    "\n",
    "import lib.db as db"
   ]
  },
  {
   "cell_type": "code",
   "execution_count": 14,
   "metadata": {},
   "outputs": [
    {
     "data": {
      "text/html": [
       "<div>\n",
       "<style scoped>\n",
       "    .dataframe tbody tr th:only-of-type {\n",
       "        vertical-align: middle;\n",
       "    }\n",
       "\n",
       "    .dataframe tbody tr th {\n",
       "        vertical-align: top;\n",
       "    }\n",
       "\n",
       "    .dataframe thead th {\n",
       "        text-align: right;\n",
       "    }\n",
       "</style>\n",
       "<table border=\"1\" class=\"dataframe\">\n",
       "  <thead>\n",
       "    <tr style=\"text-align: right;\">\n",
       "      <th></th>\n",
       "      <th>picogreen_id</th>\n",
       "      <th>well</th>\n",
       "      <th>rfu</th>\n",
       "      <th>ng_microliter</th>\n",
       "      <th>ng_microliter_mean</th>\n",
       "      <th>quant_method</th>\n",
       "      <th>quant_date</th>\n",
       "      <th>sample_id</th>\n",
       "    </tr>\n",
       "  </thead>\n",
       "  <tbody>\n",
       "    <tr>\n",
       "      <th>0</th>\n",
       "      <td>13_02</td>\n",
       "      <td></td>\n",
       "      <td></td>\n",
       "      <td></td>\n",
       "      <td></td>\n",
       "      <td></td>\n",
       "      <td></td>\n",
       "      <td>e58072c6-ce0f-4029-9246-9756c391d944</td>\n",
       "    </tr>\n",
       "    <tr>\n",
       "      <th>1</th>\n",
       "      <td>13_01</td>\n",
       "      <td>A1</td>\n",
       "      <td>195.286</td>\n",
       "      <td>9.64549</td>\n",
       "      <td>10.18926376</td>\n",
       "      <td>picogreen</td>\n",
       "      <td>2_15_18</td>\n",
       "      <td>c84c6871-887f-479e-bf1e-ff1c68b1c490</td>\n",
       "    </tr>\n",
       "    <tr>\n",
       "      <th>2</th>\n",
       "      <td></td>\n",
       "      <td>B1</td>\n",
       "      <td>217.399</td>\n",
       "      <td>10.733</td>\n",
       "      <td>NA</td>\n",
       "      <td>picogreen</td>\n",
       "      <td>2_15_18</td>\n",
       "      <td></td>\n",
       "    </tr>\n",
       "    <tr>\n",
       "      <th>3</th>\n",
       "      <td>13_02</td>\n",
       "      <td>A2</td>\n",
       "      <td>1149.629</td>\n",
       "      <td>56.5812</td>\n",
       "      <td>65.82438892</td>\n",
       "      <td>picogreen</td>\n",
       "      <td>2_15_18</td>\n",
       "      <td>e58072c6-ce0f-4029-9246-9756c391d944</td>\n",
       "    </tr>\n",
       "    <tr>\n",
       "      <th>4</th>\n",
       "      <td></td>\n",
       "      <td>B2</td>\n",
       "      <td>1525.514</td>\n",
       "      <td>75.0676</td>\n",
       "      <td>NA</td>\n",
       "      <td>picogreen</td>\n",
       "      <td>2_15_18</td>\n",
       "      <td></td>\n",
       "    </tr>\n",
       "  </tbody>\n",
       "</table>\n",
       "</div>"
      ],
      "text/plain": [
       "  picogreen_id well       rfu ng_microliter ng_microliter_mean quant_method  \\\n",
       "0        13_02                                                                \n",
       "1        13_01   A1   195.286       9.64549        10.18926376    picogreen   \n",
       "2                B1   217.399        10.733                 NA    picogreen   \n",
       "3        13_02   A2  1149.629       56.5812        65.82438892    picogreen   \n",
       "4                B2  1525.514       75.0676                 NA    picogreen   \n",
       "\n",
       "  quant_date                             sample_id  \n",
       "0             e58072c6-ce0f-4029-9246-9756c391d944  \n",
       "1    2_15_18  c84c6871-887f-479e-bf1e-ff1c68b1c490  \n",
       "2    2_15_18                                        \n",
       "3    2_15_18  e58072c6-ce0f-4029-9246-9756c391d944  \n",
       "4    2_15_18                                        "
      ]
     },
     "execution_count": 14,
     "metadata": {},
     "output_type": "execute_result"
    }
   ],
   "source": [
    "cnx = db.connect()\n",
    "\n",
    "pico = pd.read_sql('SELECT * FROM picogreen', cnx)\n",
    "pico.head()"
   ]
  },
  {
   "cell_type": "code",
   "execution_count": 37,
   "metadata": {},
   "outputs": [
    {
     "data": {
      "text/plain": [
       "534"
      ]
     },
     "execution_count": 37,
     "metadata": {},
     "output_type": "execute_result"
    }
   ],
   "source": [
    "has_id = pico['picogreen_id'].str.len() > 3\n",
    "has_yield = pico['ng_microliter_mean'].str.len() > 3\n",
    "\n",
    "yields = pd.to_numeric(pico[has_id & has_yield]['ng_microliter_mean'])\n",
    "# yields.head()\n",
    "# yields.describe()\n",
    "yields.count()"
   ]
  },
  {
   "cell_type": "code",
   "execution_count": 39,
   "metadata": {},
   "outputs": [
    {
     "data": {
      "text/plain": [
       "(array([102.,  53.,  55.,  40.,  43.,  28.,  26.,  28.,  13.,  18.,  15.,\n",
       "         14.,   7.,  11.,   4.,   8.,   5.,   7.,   5.,   6.,   8.,   8.,\n",
       "          3.,   4.,   0.,   4.,   1.,   2.,   2.,   1.,   4.,   3.,   0.,\n",
       "          0.,   2.,   0.,   0.,   0.,   1.,   1.,   0.,   1.,   0.,   0.,\n",
       "          0.,   0.,   0.,   0.,   0.,   1.]),\n",
       " array([1.71189692e-01, 4.20487385e+00, 8.23855801e+00, 1.22722422e+01,\n",
       "        1.63059263e+01, 2.03396105e+01, 2.43732946e+01, 2.84069788e+01,\n",
       "        3.24406630e+01, 3.64743471e+01, 4.05080313e+01, 4.45417154e+01,\n",
       "        4.85753996e+01, 5.26090837e+01, 5.66427679e+01, 6.06764521e+01,\n",
       "        6.47101362e+01, 6.87438204e+01, 7.27775045e+01, 7.68111887e+01,\n",
       "        8.08448729e+01, 8.48785570e+01, 8.89122412e+01, 9.29459253e+01,\n",
       "        9.69796095e+01, 1.01013294e+02, 1.05046978e+02, 1.09080662e+02,\n",
       "        1.13114346e+02, 1.17148030e+02, 1.21181714e+02, 1.25215399e+02,\n",
       "        1.29249083e+02, 1.33282767e+02, 1.37316451e+02, 1.41350135e+02,\n",
       "        1.45383819e+02, 1.49417504e+02, 1.53451188e+02, 1.57484872e+02,\n",
       "        1.61518556e+02, 1.65552240e+02, 1.69585924e+02, 1.73619608e+02,\n",
       "        1.77653293e+02, 1.81686977e+02, 1.85720661e+02, 1.89754345e+02,\n",
       "        1.93788029e+02, 1.97821713e+02, 2.01855398e+02]),\n",
       " <a list of 50 Patch objects>)"
      ]
     },
     "execution_count": 39,
     "metadata": {},
     "output_type": "execute_result"
    },
    {
     "data": {
      "image/png": "[encoded data removed]",
      "text/plain": [
       "<Figure size 432x288 with 1 Axes>"
      ]
     },
     "metadata": {},
     "output_type": "display_data"
    }
   ],
   "source": [
    "plt.hist(yields, 50)"
   ]
  }
 ],
 "metadata": {
  "kernelspec": {
   "display_name": "Python 3",
   "language": "python",
   "name": "python3"
  },
  "language_info": {
   "codemirror_mode": {
    "name": "ipython",
    "version": 3
   },
   "file_extension": ".py",
   "mimetype": "text/x-python",
   "name": "python",
   "nbconvert_exporter": "python",
   "pygments_lexer": "ipython3",
   "version": "3.6.3"
  }
 },
 "nbformat": 4,
 "nbformat_minor": 2
}
