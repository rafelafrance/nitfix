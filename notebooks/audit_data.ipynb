{
 "cells": [
  {
   "cell_type": "code",
   "execution_count": 1,
   "metadata": {},
   "outputs": [],
   "source": [
    "import os\n",
    "from glob import glob\n",
    "from pathlib import Path\n",
    "from datetime import datetime\n",
    "import pandas as pd\n",
    "import lib.db as db\n",
    "import lib.util as util"
   ]
  },
  {
   "cell_type": "code",
   "execution_count": 2,
   "metadata": {},
   "outputs": [],
   "source": [
    "CXN = db.connect_up()"
   ]
  },
  {
   "cell_type": "markdown",
   "metadata": {},
   "source": [
    "## Look for duplicate sample IDs in the image table"
   ]
  },
  {
   "cell_type": "code",
   "execution_count": 3,
   "metadata": {},
   "outputs": [
    {
     "data": {
      "text/html": [
       "<div>\n",
       "<style scoped>\n",
       "    .dataframe tbody tr th:only-of-type {\n",
       "        vertical-align: middle;\n",
       "    }\n",
       "\n",
       "    .dataframe tbody tr th {\n",
       "        vertical-align: top;\n",
       "    }\n",
       "\n",
       "    .dataframe thead th {\n",
       "        text-align: right;\n",
       "    }\n",
       "</style>\n",
       "<table border=\"1\" class=\"dataframe\">\n",
       "  <thead>\n",
       "    <tr style=\"text-align: right;\">\n",
       "      <th></th>\n",
       "      <th>image_file</th>\n",
       "      <th>sample_id</th>\n",
       "    </tr>\n",
       "  </thead>\n",
       "  <tbody>\n",
       "  </tbody>\n",
       "</table>\n",
       "</div>"
      ],
      "text/plain": [
       "Empty DataFrame\n",
       "Columns: [image_file, sample_id]\n",
       "Index: []"
      ]
     },
     "execution_count": 3,
     "metadata": {},
     "output_type": "execute_result"
    }
   ],
   "source": [
    "def check_image_sample_ids():\n",
    "    sql = \"\"\"\n",
    "        WITH dups AS (SELECT sample_id, COUNT(*) AS n\n",
    "                        FROM images\n",
    "                    GROUP BY sample_id\n",
    "                    HAVING n > 1)\n",
    "        SELECT *\n",
    "          FROM images\n",
    "         WHERE sample_id IN (SELECT sample_id FROM dups)\n",
    "      ORDER BY sample_id\n",
    "    \"\"\"\n",
    "    return pd.read_sql(sql, CXN)\n",
    "\n",
    "\n",
    "check_image_sample_ids()"
   ]
  },
  {
   "cell_type": "markdown",
   "metadata": {},
   "source": [
    "## Look for duplicate IDs in the taxon IDs table"
   ]
  },
  {
   "cell_type": "code",
   "execution_count": 4,
   "metadata": {},
   "outputs": [
    {
     "data": {
      "text/html": [
       "<div>\n",
       "<style scoped>\n",
       "    .dataframe tbody tr th:only-of-type {\n",
       "        vertical-align: middle;\n",
       "    }\n",
       "\n",
       "    .dataframe tbody tr th {\n",
       "        vertical-align: top;\n",
       "    }\n",
       "\n",
       "    .dataframe thead th {\n",
       "        text-align: right;\n",
       "    }\n",
       "</style>\n",
       "<table border=\"1\" class=\"dataframe\">\n",
       "  <thead>\n",
       "    <tr style=\"text-align: right;\">\n",
       "      <th></th>\n",
       "      <th>id</th>\n",
       "      <th>scientific_name</th>\n",
       "      <th>image_file</th>\n",
       "    </tr>\n",
       "  </thead>\n",
       "  <tbody>\n",
       "    <tr>\n",
       "      <th>0</th>\n",
       "      <td>188b1756-2a10-4db8-b897-640a91f3a858</td>\n",
       "      <td>Calliandra humilis</td>\n",
       "      <td>CAS-DOE-nitfix_specimen_photos/R0000613.JPG</td>\n",
       "    </tr>\n",
       "    <tr>\n",
       "      <th>1</th>\n",
       "      <td>188b1756-2a10-4db8-b897-640a91f3a858</td>\n",
       "      <td>Zapoteca formosa</td>\n",
       "      <td>CAS-DOE-nitfix_specimen_photos/R0000613.JPG</td>\n",
       "    </tr>\n",
       "    <tr>\n",
       "      <th>2</th>\n",
       "      <td>37fd5e47-9bc1-42b5-af0b-221140d67728</td>\n",
       "      <td>Monnina pseudosalicifolia</td>\n",
       "      <td>NY_DOE-nitfix_visit3/R0005299.JPG</td>\n",
       "    </tr>\n",
       "    <tr>\n",
       "      <th>3</th>\n",
       "      <td>37fd5e47-9bc1-42b5-af0b-221140d67728</td>\n",
       "      <td>Monnina weddelliana</td>\n",
       "      <td>NY_DOE-nitfix_visit3/R0005299.JPG</td>\n",
       "    </tr>\n",
       "    <tr>\n",
       "      <th>4</th>\n",
       "      <td>51535d90-c316-4262-9cfe-3bf6d6bbb095</td>\n",
       "      <td>Kotschya strobilantha</td>\n",
       "      <td>MO-DOE-nitfix_visit2/R0005831.JPG</td>\n",
       "    </tr>\n",
       "    <tr>\n",
       "      <th>5</th>\n",
       "      <td>51535d90-c316-4262-9cfe-3bf6d6bbb095</td>\n",
       "      <td>Lathyrus ochrus</td>\n",
       "      <td>MO-DOE-nitfix_visit2/R0005831.JPG</td>\n",
       "    </tr>\n",
       "    <tr>\n",
       "      <th>6</th>\n",
       "      <td>68d40646-2b30-4eb6-988e-c87eba536489</td>\n",
       "      <td>Jacksonia aculeata</td>\n",
       "      <td>MO-DOE-nitfix_visit2/R0006295.JPG</td>\n",
       "    </tr>\n",
       "    <tr>\n",
       "      <th>7</th>\n",
       "      <td>68d40646-2b30-4eb6-988e-c87eba536489</td>\n",
       "      <td>Jacksonia alata</td>\n",
       "      <td>MO-DOE-nitfix_visit2/R0006295.JPG</td>\n",
       "    </tr>\n",
       "    <tr>\n",
       "      <th>8</th>\n",
       "      <td>704626ba-27ae-4b82-b4fd-7c6aacb184fe</td>\n",
       "      <td>Lotus ornithopodioides</td>\n",
       "      <td>MO-DOE-nitfix_visit2/R0005988.JPG</td>\n",
       "    </tr>\n",
       "    <tr>\n",
       "      <th>9</th>\n",
       "      <td>704626ba-27ae-4b82-b4fd-7c6aacb184fe</td>\n",
       "      <td>Lotus polyphyllos</td>\n",
       "      <td>MO-DOE-nitfix_visit2/R0005988.JPG</td>\n",
       "    </tr>\n",
       "    <tr>\n",
       "      <th>10</th>\n",
       "      <td>e5c8328c-b105-46fa-894e-523a163063a6</td>\n",
       "      <td>Baphia massaiensis</td>\n",
       "      <td>OS_DOE-nitfix_specimen_photos/R0001946.JPG</td>\n",
       "    </tr>\n",
       "    <tr>\n",
       "      <th>11</th>\n",
       "      <td>e5c8328c-b105-46fa-894e-523a163063a6</td>\n",
       "      <td>Baphia spathacea</td>\n",
       "      <td>OS_DOE-nitfix_specimen_photos/R0001946.JPG</td>\n",
       "    </tr>\n",
       "  </tbody>\n",
       "</table>\n",
       "</div>"
      ],
      "text/plain": [
       "                                      id            scientific_name  \\\n",
       "0   188b1756-2a10-4db8-b897-640a91f3a858         Calliandra humilis   \n",
       "1   188b1756-2a10-4db8-b897-640a91f3a858           Zapoteca formosa   \n",
       "2   37fd5e47-9bc1-42b5-af0b-221140d67728  Monnina pseudosalicifolia   \n",
       "3   37fd5e47-9bc1-42b5-af0b-221140d67728        Monnina weddelliana   \n",
       "4   51535d90-c316-4262-9cfe-3bf6d6bbb095      Kotschya strobilantha   \n",
       "5   51535d90-c316-4262-9cfe-3bf6d6bbb095            Lathyrus ochrus   \n",
       "6   68d40646-2b30-4eb6-988e-c87eba536489         Jacksonia aculeata   \n",
       "7   68d40646-2b30-4eb6-988e-c87eba536489            Jacksonia alata   \n",
       "8   704626ba-27ae-4b82-b4fd-7c6aacb184fe     Lotus ornithopodioides   \n",
       "9   704626ba-27ae-4b82-b4fd-7c6aacb184fe          Lotus polyphyllos   \n",
       "10  e5c8328c-b105-46fa-894e-523a163063a6         Baphia massaiensis   \n",
       "11  e5c8328c-b105-46fa-894e-523a163063a6           Baphia spathacea   \n",
       "\n",
       "                                     image_file  \n",
       "0   CAS-DOE-nitfix_specimen_photos/R0000613.JPG  \n",
       "1   CAS-DOE-nitfix_specimen_photos/R0000613.JPG  \n",
       "2             NY_DOE-nitfix_visit3/R0005299.JPG  \n",
       "3             NY_DOE-nitfix_visit3/R0005299.JPG  \n",
       "4             MO-DOE-nitfix_visit2/R0005831.JPG  \n",
       "5             MO-DOE-nitfix_visit2/R0005831.JPG  \n",
       "6             MO-DOE-nitfix_visit2/R0006295.JPG  \n",
       "7             MO-DOE-nitfix_visit2/R0006295.JPG  \n",
       "8             MO-DOE-nitfix_visit2/R0005988.JPG  \n",
       "9             MO-DOE-nitfix_visit2/R0005988.JPG  \n",
       "10   OS_DOE-nitfix_specimen_photos/R0001946.JPG  \n",
       "11   OS_DOE-nitfix_specimen_photos/R0001946.JPG  "
      ]
     },
     "execution_count": 4,
     "metadata": {},
     "output_type": "execute_result"
    }
   ],
   "source": [
    "def check_duplicate_taxon_ids():\n",
    "    sql = \"\"\"\n",
    "        WITH dups AS (SELECT id, COUNT(*) AS n\n",
    "                        FROM taxon_ids\n",
    "                    GROUP BY id\n",
    "                    HAVING n > 1)\n",
    "        SELECT id, scientific_name, image_file\n",
    "          FROM taxon_ids\n",
    "          JOIN images ON (id = images.sample_id)\n",
    "         WHERE id IN (SELECT id FROM dups)\n",
    "      ORDER BY id\n",
    "    \"\"\"\n",
    "    return pd.read_sql(sql, CXN)\n",
    "\n",
    "\n",
    "check_duplicate_taxon_ids()"
   ]
  },
  {
   "cell_type": "code",
   "execution_count": 5,
   "metadata": {},
   "outputs": [
    {
     "name": "stdout",
     "output_type": "stream",
     "text": [
      "Image records:    11,126\n",
      "Image errors:   +     59\n",
      "Image files:    - 10,681 This includes errors\n",
      "Pilot images:   -    456 No files for these\n",
      "Missing images: -     48 No files for these\n",
      "Check:          =      0 pass\n"
     ]
    }
   ],
   "source": [
    "def check_image_records():\n",
    "    image_files = 0\n",
    "    for image_dir in util.IMAGE_DIRS:\n",
    "        pattern = os.fspath(util.IMAGE_ROOT_UP / image_dir / '*.JPG')\n",
    "        image_files += len(glob(pattern))\n",
    "\n",
    "    sql = \"\"\"SELECT COUNT(*) FROM images\"\"\"\n",
    "    image_recs = CXN.execute(sql).fetchone()[0]\n",
    "\n",
    "    errors = CXN.execute('SELECT COUNT(*) FROM image_errors').fetchone()[0]\n",
    "\n",
    "    sql = \"\"\"SELECT COUNT(*) FROM images\n",
    "              WHERE image_file LIKE 'UFBI_sample_photos/%'\"\"\"\n",
    "    pilot = CXN.execute(sql).fetchone()[0]\n",
    "\n",
    "    sql = \"\"\"SELECT COUNT(*) FROM images\n",
    "              WHERE image_file LIKE 'missing_photos/%'\"\"\"\n",
    "    missing = CXN.execute(sql).fetchone()[0]\n",
    "\n",
    "    check = image_recs\n",
    "    check += errors\n",
    "    check -= image_files\n",
    "    check -= pilot\n",
    "    check -= missing\n",
    "    result = 'fail' if check else 'pass'\n",
    "\n",
    "    print(f'Image records:    {image_recs:6,d}')\n",
    "    print(f'Image errors:   + {errors:6,d}')\n",
    "    print(f'Image files:    - {image_files:6,d} This includes errors')\n",
    "    print(f'Pilot images:   - {pilot:6,d} No files for these')\n",
    "    print(f'Missing images: - {missing:6,d} No files for these')\n",
    "    print(f'Check:          = {check:6,d} {result}')\n",
    "\n",
    "\n",
    "check_image_records()"
   ]
  },
  {
   "cell_type": "markdown",
   "metadata": {},
   "source": [
    "## Can we find the extra image record"
   ]
  },
  {
   "cell_type": "code",
   "execution_count": 6,
   "metadata": {},
   "outputs": [
    {
     "data": {
      "text/plain": [
       "set()"
      ]
     },
     "execution_count": 6,
     "metadata": {},
     "output_type": "execute_result"
    }
   ],
   "source": [
    "def find_missing_image_records():\n",
    "    image_files = set()\n",
    "    for image_dir in util.IMAGE_DIRS:\n",
    "        pattern = os.fspath(util.IMAGE_ROOT_UP / image_dir / '*.JPG')\n",
    "        files = {util.normalize_file_name(x) for x in glob(pattern)}\n",
    "        image_files |= files\n",
    "\n",
    "    sql = \"\"\"SELECT * FROM images\"\"\"\n",
    "    image_recs = CXN.execute(sql).fetchall()\n",
    "    image_recs = {x[0] for x in image_recs}\n",
    "\n",
    "    errors = CXN.execute('SELECT * FROM image_errors').fetchall()\n",
    "    errors = {x[0] for x in errors}\n",
    "\n",
    "    sql = \"\"\"SELECT * FROM images\n",
    "              WHERE image_file LIKE 'UFBI_sample_photos/%'\"\"\"\n",
    "    pilot = CXN.execute(sql).fetchall()\n",
    "    pilot = {x[0] for x in pilot}\n",
    "\n",
    "    sql = \"\"\"SELECT * FROM images\n",
    "              WHERE image_file LIKE 'missing_photos/%'\"\"\"\n",
    "    missing = CXN.execute(sql).fetchall()\n",
    "    missing = {x[0] for x in missing}\n",
    "\n",
    "    image_recs |= errors\n",
    "    image_recs -= image_files\n",
    "    image_recs -= pilot\n",
    "    image_recs -= missing\n",
    "\n",
    "    return image_recs\n",
    "\n",
    "\n",
    "find_missing_image_records()"
   ]
  },
  {
   "cell_type": "code",
   "execution_count": null,
   "metadata": {},
   "outputs": [],
   "source": []
  }
 ],
 "metadata": {
  "kernelspec": {
   "display_name": "Python 3",
   "language": "python",
   "name": "python3"
  },
  "language_info": {
   "codemirror_mode": {
    "name": "ipython",
    "version": 3
   },
   "file_extension": ".py",
   "mimetype": "text/x-python",
   "name": "python",
   "nbconvert_exporter": "python",
   "pygments_lexer": "ipython3",
   "version": "3.6.5"
  },
  "toc": {
   "nav_menu": {},
   "number_sections": false,
   "sideBar": true,
   "skip_h1_title": false,
   "title_cell": "Table of Contents",
   "title_sidebar": "Contents",
   "toc_cell": false,
   "toc_position": {
    "height": "calc(100% - 180px)",
    "left": "10px",
    "top": "150px",
    "width": "270px"
   },
   "toc_section_display": true,
   "toc_window_display": false
  }
 },
 "nbformat": 4,
 "nbformat_minor": 2
}
