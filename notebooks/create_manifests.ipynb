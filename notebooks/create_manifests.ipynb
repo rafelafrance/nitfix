{
 "cells": [
  {
   "cell_type": "markdown",
   "metadata": {
    "toc": true
   },
   "source": [
    "<h1>Table of Contents<span class=\"tocSkip\"></span></h1>\n",
    "<div class=\"toc\"><ul class=\"toc-item\"><li><span><a href=\"#Setup\" data-toc-modified-id=\"Setup-1\"><span class=\"toc-item-num\">1&nbsp;&nbsp;</span>Setup</a></span></li><li><span><a href=\"#CalAcademy-Manifest\" data-toc-modified-id=\"CalAcademy-Manifest-2\"><span class=\"toc-item-num\">2&nbsp;&nbsp;</span>CalAcademy Manifest</a></span></li><li><span><a href=\"#MOBOT-Manifest-(Old)\" data-toc-modified-id=\"MOBOT-Manifest-(Old)-3\"><span class=\"toc-item-num\">3&nbsp;&nbsp;</span>MOBOT Manifest (Old)</a></span></li></ul></div>"
   ]
  },
  {
   "cell_type": "markdown",
   "metadata": {},
   "source": [
    "# Setup"
   ]
  },
  {
   "cell_type": "code",
   "execution_count": 2,
   "metadata": {},
   "outputs": [],
   "source": [
    "from os.path import basename\n",
    "from pathlib import Path\n",
    "\n",
    "import pandas as pd\n",
    "\n",
    "import lib.db as db\n",
    "import lib.util as util"
   ]
  },
  {
   "cell_type": "code",
   "execution_count": 3,
   "metadata": {},
   "outputs": [],
   "source": [
    "CXN = db.connect()\n",
    "INTERIM_DATA = Path('..') / 'data' / 'interim'"
   ]
  },
  {
   "cell_type": "markdown",
   "metadata": {},
   "source": [
    "# CalAcademy Manifest"
   ]
  },
  {
   "cell_type": "code",
   "execution_count": 15,
   "metadata": {},
   "outputs": [
    {
     "name": "stdout",
     "output_type": "stream",
     "text": [
      "2589\n"
     ]
    },
    {
     "data": {
      "text/html": [
       "<div>\n",
       "<style scoped>\n",
       "    .dataframe tbody tr th:only-of-type {\n",
       "        vertical-align: middle;\n",
       "    }\n",
       "\n",
       "    .dataframe tbody tr th {\n",
       "        vertical-align: top;\n",
       "    }\n",
       "\n",
       "    .dataframe thead th {\n",
       "        text-align: right;\n",
       "    }\n",
       "</style>\n",
       "<table border=\"1\" class=\"dataframe\">\n",
       "  <thead>\n",
       "    <tr style=\"text-align: right;\">\n",
       "      <th></th>\n",
       "      <th>image_file</th>\n",
       "      <th>sample_id</th>\n",
       "      <th>scientific_name</th>\n",
       "    </tr>\n",
       "  </thead>\n",
       "  <tbody>\n",
       "    <tr>\n",
       "      <th>0</th>\n",
       "      <td>R0001833.JPG</td>\n",
       "      <td>4360e849-b172-4ed9-973f-c5899b17842c</td>\n",
       "      <td>Begonia acetosella</td>\n",
       "    </tr>\n",
       "    <tr>\n",
       "      <th>1</th>\n",
       "      <td>R0001851.JPG</td>\n",
       "      <td>45ed57c1-fcbc-4aca-adaa-1c3938c9cf24</td>\n",
       "      <td>Begonia almedana</td>\n",
       "    </tr>\n",
       "    <tr>\n",
       "      <th>2</th>\n",
       "      <td>R0001852.JPG</td>\n",
       "      <td>45e91b4e-fca1-485e-9dce-bb030900a807</td>\n",
       "      <td>Begonia angustiloba</td>\n",
       "    </tr>\n",
       "    <tr>\n",
       "      <th>3</th>\n",
       "      <td>R0001853.JPG</td>\n",
       "      <td>45e3b5f1-9f85-4b15-b96c-ca03aca2148d</td>\n",
       "      <td>Begonia aptera</td>\n",
       "    </tr>\n",
       "    <tr>\n",
       "      <th>4</th>\n",
       "      <td>R0001799.JPG</td>\n",
       "      <td>445bbcdd-0827-40bf-89a6-bc11f0652765</td>\n",
       "      <td>Begonia arborescens</td>\n",
       "    </tr>\n",
       "  </tbody>\n",
       "</table>\n",
       "</div>"
      ],
      "text/plain": [
       "     image_file                             sample_id      scientific_name\n",
       "0  R0001833.JPG  4360e849-b172-4ed9-973f-c5899b17842c   Begonia acetosella\n",
       "1  R0001851.JPG  45ed57c1-fcbc-4aca-adaa-1c3938c9cf24     Begonia almedana\n",
       "2  R0001852.JPG  45e91b4e-fca1-485e-9dce-bb030900a807  Begonia angustiloba\n",
       "3  R0001853.JPG  45e3b5f1-9f85-4b15-b96c-ca03aca2148d       Begonia aptera\n",
       "4  R0001799.JPG  445bbcdd-0827-40bf-89a6-bc11f0652765  Begonia arborescens"
      ]
     },
     "execution_count": 15,
     "metadata": {},
     "output_type": "execute_result"
    }
   ],
   "source": [
    "sql = \"\"\"\n",
    "    SELECT image_file, raw_images.sample_id, scientific_name FROM raw_images\n",
    "      JOIN taxon_ids ON (taxon_ids.id = raw_images.sample_id)\n",
    "     WHERE image_file LIKE '%/CAS-DOE-nitfix_specimen_photos/%'\n",
    "\"\"\"\n",
    "images = pd.read_sql(sql, CXN)\n",
    "\n",
    "images.image_file = images.image_file.str.extract(r'.*/(.*)', expand=False)\n",
    "\n",
    "print(len(images))\n",
    "images.head()"
   ]
  },
  {
   "cell_type": "code",
   "execution_count": 17,
   "metadata": {},
   "outputs": [
    {
     "name": "stdout",
     "output_type": "stream",
     "text": [
      "7\n"
     ]
    },
    {
     "data": {
      "text/html": [
       "<div>\n",
       "<style scoped>\n",
       "    .dataframe tbody tr th:only-of-type {\n",
       "        vertical-align: middle;\n",
       "    }\n",
       "\n",
       "    .dataframe tbody tr th {\n",
       "        vertical-align: top;\n",
       "    }\n",
       "\n",
       "    .dataframe thead th {\n",
       "        text-align: right;\n",
       "    }\n",
       "</style>\n",
       "<table border=\"1\" class=\"dataframe\">\n",
       "  <thead>\n",
       "    <tr style=\"text-align: right;\">\n",
       "      <th></th>\n",
       "      <th>image_file</th>\n",
       "    </tr>\n",
       "  </thead>\n",
       "  <tbody>\n",
       "    <tr>\n",
       "      <th>0</th>\n",
       "      <td>R0000614.JPG</td>\n",
       "    </tr>\n",
       "    <tr>\n",
       "      <th>1</th>\n",
       "      <td>R0001311.JPG</td>\n",
       "    </tr>\n",
       "    <tr>\n",
       "      <th>2</th>\n",
       "      <td>R0001361.JPG</td>\n",
       "    </tr>\n",
       "    <tr>\n",
       "      <th>3</th>\n",
       "      <td>R0002092.JPG</td>\n",
       "    </tr>\n",
       "    <tr>\n",
       "      <th>4</th>\n",
       "      <td>R0002349.JPG</td>\n",
       "    </tr>\n",
       "    <tr>\n",
       "      <th>5</th>\n",
       "      <td>R0002381.JPG</td>\n",
       "    </tr>\n",
       "    <tr>\n",
       "      <th>6</th>\n",
       "      <td>R0002641.JPG</td>\n",
       "    </tr>\n",
       "  </tbody>\n",
       "</table>\n",
       "</div>"
      ],
      "text/plain": [
       "     image_file\n",
       "0  R0000614.JPG\n",
       "1  R0001311.JPG\n",
       "2  R0001361.JPG\n",
       "3  R0002092.JPG\n",
       "4  R0002349.JPG\n",
       "5  R0002381.JPG\n",
       "6  R0002641.JPG"
      ]
     },
     "execution_count": 17,
     "metadata": {},
     "output_type": "execute_result"
    }
   ],
   "source": [
    "sql = \"\"\"\n",
    "    SELECT image_file FROM image_errors\n",
    "     WHERE image_file LIKE '%/CAS-DOE-nitfix_specimen_photos/%'\n",
    "\"\"\"\n",
    "errors = pd.read_sql(sql, CXN)\n",
    "errors.image_file = errors.image_file.str.extract(r'.*/(.*)', expand=False)\n",
    "\n",
    "print(len(errors))\n",
    "errors"
   ]
  },
  {
   "cell_type": "code",
   "execution_count": 18,
   "metadata": {},
   "outputs": [],
   "source": [
    "images.to_csv(INTERIM_DATA / 'cas_manifest.csv', index=False)\n",
    "errors.to_csv(INTERIM_DATA / 'cas_manifest_missing.csv', index=False)"
   ]
  },
  {
   "cell_type": "markdown",
   "metadata": {},
   "source": [
    "# MOBOT Manifest (Old)"
   ]
  },
  {
   "cell_type": "code",
   "execution_count": 17,
   "metadata": {},
   "outputs": [],
   "source": [
    "taxonomy = pd.read_sql('SELECT * FROM taxons', CXN)\n",
    "\n",
    "sql = \"\"\"SELECT *\n",
    "           FROM images\n",
    "          WHERE file_name LIKE '%/MO-DOE-nitfix_specimen_photos/%'\"\"\"\n",
    "\n",
    "images = pd.read_sql(sql, CXN)\n",
    "\n",
    "taxons = {}\n",
    "for key, taxon in taxonomy.iterrows():\n",
    "    guids = util.split_uuids(taxon.sample_ids)\n",
    "    for guid in guids:\n",
    "        taxons[guid] = taxon.scientific_name"
   ]
  },
  {
   "cell_type": "code",
   "execution_count": 20,
   "metadata": {},
   "outputs": [
    {
     "data": {
      "text/html": [
       "<div>\n",
       "<style scoped>\n",
       "    .dataframe tbody tr th:only-of-type {\n",
       "        vertical-align: middle;\n",
       "    }\n",
       "\n",
       "    .dataframe tbody tr th {\n",
       "        vertical-align: top;\n",
       "    }\n",
       "\n",
       "    .dataframe thead th {\n",
       "        text-align: right;\n",
       "    }\n",
       "</style>\n",
       "<table border=\"1\" class=\"dataframe\">\n",
       "  <thead>\n",
       "    <tr style=\"text-align: right;\">\n",
       "      <th></th>\n",
       "      <th>sample_id</th>\n",
       "      <th>file_name</th>\n",
       "      <th>resolved_name</th>\n",
       "    </tr>\n",
       "  </thead>\n",
       "  <tbody>\n",
       "    <tr>\n",
       "      <th>0</th>\n",
       "      <td>0e6f248b-aa6c-40f1-b571-1f0db94ad3a3</td>\n",
       "      <td>../data/raw/MO-DOE-nitfix_specimen_photos/R000...</td>\n",
       "      <td>Abrus fruticulosus</td>\n",
       "    </tr>\n",
       "    <tr>\n",
       "      <th>1</th>\n",
       "      <td>0e669154-9371-441d-85fa-683c1761b184</td>\n",
       "      <td>../data/raw/MO-DOE-nitfix_specimen_photos/R000...</td>\n",
       "      <td>Abrus schimperi</td>\n",
       "    </tr>\n",
       "    <tr>\n",
       "      <th>2</th>\n",
       "      <td>0e641ae8-5219-495f-8c72-7b76449c67bc</td>\n",
       "      <td>../data/raw/MO-DOE-nitfix_specimen_photos/R000...</td>\n",
       "      <td>Adenocarpus anagyrifolius</td>\n",
       "    </tr>\n",
       "    <tr>\n",
       "      <th>3</th>\n",
       "      <td>0e5e5134-11b2-47ee-aef3-6b1d753b172f</td>\n",
       "      <td>../data/raw/MO-DOE-nitfix_specimen_photos/R000...</td>\n",
       "      <td>Adenocarpus bacquei</td>\n",
       "    </tr>\n",
       "    <tr>\n",
       "      <th>4</th>\n",
       "      <td>0e5a4cc5-bd58-4062-8918-94e0c8e9fa7e</td>\n",
       "      <td>../data/raw/MO-DOE-nitfix_specimen_photos/R000...</td>\n",
       "      <td>Adenocarpus decorticans</td>\n",
       "    </tr>\n",
       "  </tbody>\n",
       "</table>\n",
       "</div>"
      ],
      "text/plain": [
       "                              sample_id  \\\n",
       "0  0e6f248b-aa6c-40f1-b571-1f0db94ad3a3   \n",
       "1  0e669154-9371-441d-85fa-683c1761b184   \n",
       "2  0e641ae8-5219-495f-8c72-7b76449c67bc   \n",
       "3  0e5e5134-11b2-47ee-aef3-6b1d753b172f   \n",
       "4  0e5a4cc5-bd58-4062-8918-94e0c8e9fa7e   \n",
       "\n",
       "                                           file_name  \\\n",
       "0  ../data/raw/MO-DOE-nitfix_specimen_photos/R000...   \n",
       "1  ../data/raw/MO-DOE-nitfix_specimen_photos/R000...   \n",
       "2  ../data/raw/MO-DOE-nitfix_specimen_photos/R000...   \n",
       "3  ../data/raw/MO-DOE-nitfix_specimen_photos/R000...   \n",
       "4  ../data/raw/MO-DOE-nitfix_specimen_photos/R000...   \n",
       "\n",
       "               resolved_name  \n",
       "0         Abrus fruticulosus  \n",
       "1            Abrus schimperi  \n",
       "2  Adenocarpus anagyrifolius  \n",
       "3        Adenocarpus bacquei  \n",
       "4    Adenocarpus decorticans  "
      ]
     },
     "execution_count": 20,
     "metadata": {},
     "output_type": "execute_result"
    }
   ],
   "source": [
    "for key, image in images.iterrows():\n",
    "    images.loc[key, 'resolved_name'] = taxons.get(image.sample_id)\n",
    "\n",
    "images.head()"
   ]
  },
  {
   "cell_type": "code",
   "execution_count": 33,
   "metadata": {},
   "outputs": [
    {
     "name": "stdout",
     "output_type": "stream",
     "text": [
      "1024\n"
     ]
    },
    {
     "data": {
      "text/html": [
       "<div>\n",
       "<style scoped>\n",
       "    .dataframe tbody tr th:only-of-type {\n",
       "        vertical-align: middle;\n",
       "    }\n",
       "\n",
       "    .dataframe tbody tr th {\n",
       "        vertical-align: top;\n",
       "    }\n",
       "\n",
       "    .dataframe thead th {\n",
       "        text-align: right;\n",
       "    }\n",
       "</style>\n",
       "<table border=\"1\" class=\"dataframe\">\n",
       "  <thead>\n",
       "    <tr style=\"text-align: right;\">\n",
       "      <th></th>\n",
       "      <th>sample_id</th>\n",
       "      <th>file_name</th>\n",
       "      <th>resolved_name</th>\n",
       "    </tr>\n",
       "  </thead>\n",
       "  <tbody>\n",
       "    <tr>\n",
       "      <th>0</th>\n",
       "      <td>0e6f248b-aa6c-40f1-b571-1f0db94ad3a3</td>\n",
       "      <td>R0002644.JPG</td>\n",
       "      <td>Abrus fruticulosus</td>\n",
       "    </tr>\n",
       "    <tr>\n",
       "      <th>1</th>\n",
       "      <td>0e669154-9371-441d-85fa-683c1761b184</td>\n",
       "      <td>R0002645.JPG</td>\n",
       "      <td>Abrus schimperi</td>\n",
       "    </tr>\n",
       "    <tr>\n",
       "      <th>2</th>\n",
       "      <td>0e641ae8-5219-495f-8c72-7b76449c67bc</td>\n",
       "      <td>R0002646.JPG</td>\n",
       "      <td>Adenocarpus anagyrifolius</td>\n",
       "    </tr>\n",
       "    <tr>\n",
       "      <th>3</th>\n",
       "      <td>0e5e5134-11b2-47ee-aef3-6b1d753b172f</td>\n",
       "      <td>R0002647.JPG</td>\n",
       "      <td>Adenocarpus bacquei</td>\n",
       "    </tr>\n",
       "    <tr>\n",
       "      <th>4</th>\n",
       "      <td>0e5a4cc5-bd58-4062-8918-94e0c8e9fa7e</td>\n",
       "      <td>R0002648.JPG</td>\n",
       "      <td>Adenocarpus decorticans</td>\n",
       "    </tr>\n",
       "  </tbody>\n",
       "</table>\n",
       "</div>"
      ],
      "text/plain": [
       "                              sample_id     file_name  \\\n",
       "0  0e6f248b-aa6c-40f1-b571-1f0db94ad3a3  R0002644.JPG   \n",
       "1  0e669154-9371-441d-85fa-683c1761b184  R0002645.JPG   \n",
       "2  0e641ae8-5219-495f-8c72-7b76449c67bc  R0002646.JPG   \n",
       "3  0e5e5134-11b2-47ee-aef3-6b1d753b172f  R0002647.JPG   \n",
       "4  0e5a4cc5-bd58-4062-8918-94e0c8e9fa7e  R0002648.JPG   \n",
       "\n",
       "               resolved_name  \n",
       "0         Abrus fruticulosus  \n",
       "1            Abrus schimperi  \n",
       "2  Adenocarpus anagyrifolius  \n",
       "3        Adenocarpus bacquei  \n",
       "4    Adenocarpus decorticans  "
      ]
     },
     "execution_count": 33,
     "metadata": {},
     "output_type": "execute_result"
    }
   ],
   "source": [
    "images.file_name = images.file_name.apply(basename)\n",
    "print(len(images))\n",
    "images.head()"
   ]
  },
  {
   "cell_type": "code",
   "execution_count": 31,
   "metadata": {},
   "outputs": [],
   "source": [
    "csv_path = INTERIM_DATA / 'mobot_manifest.csv'\n",
    "images.to_csv(csv_path, index=False)"
   ]
  },
  {
   "cell_type": "code",
   "execution_count": 32,
   "metadata": {},
   "outputs": [
    {
     "data": {
      "text/plain": [
       "32"
      ]
     },
     "execution_count": 32,
     "metadata": {},
     "output_type": "execute_result"
    }
   ],
   "source": [
    "missing = images.resolved_name.isna()\n",
    "missing_images = images[missing]\n",
    "len(missing_images)"
   ]
  }
 ],
 "metadata": {
  "kernelspec": {
   "display_name": "Python 3",
   "language": "python",
   "name": "python3"
  },
  "language_info": {
   "codemirror_mode": {
    "name": "ipython",
    "version": 3
   },
   "file_extension": ".py",
   "mimetype": "text/x-python",
   "name": "python",
   "nbconvert_exporter": "python",
   "pygments_lexer": "ipython3",
   "version": "3.6.3"
  },
  "toc": {
   "nav_menu": {},
   "number_sections": true,
   "sideBar": true,
   "skip_h1_title": false,
   "title_cell": "Table of Contents",
   "title_sidebar": "Contents",
   "toc_cell": true,
   "toc_position": {},
   "toc_section_display": true,
   "toc_window_display": false
  }
 },
 "nbformat": 4,
 "nbformat_minor": 2
}
