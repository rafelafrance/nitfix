{
 "cells": [
  {
   "cell_type": "code",
   "execution_count": 1,
   "id": "0d1b4c2d-0904-4a57-98f9-780206e76c71",
   "metadata": {},
   "outputs": [],
   "source": [
    "import sys\n",
    "sys.path.append('..')"
   ]
  },
  {
   "cell_type": "code",
   "execution_count": 2,
   "id": "170fc338-7857-497d-9531-643b250b4288",
   "metadata": {},
   "outputs": [],
   "source": [
    "import os\n",
    "from shutil import copy\n",
    "from pathlib import Path\n",
    "\n",
    "import pandas as pd\n",
    "\n",
    "import nitfix.lib.db as db\n",
    "import nitfix.lib.util as util"
   ]
  },
  {
   "cell_type": "code",
   "execution_count": 3,
   "id": "4550e7e2-4d91-4f24-bcac-f6918f324dd5",
   "metadata": {},
   "outputs": [],
   "source": [
    "DIR = Path('..') / 'data' / 'temp' / 'senna'\n",
    "os.makedirs(DIR, exist_ok=True)"
   ]
  },
  {
   "cell_type": "code",
   "execution_count": 4,
   "id": "5c00e9a8-221a-430a-9b1d-817edeeb869a",
   "metadata": {},
   "outputs": [],
   "source": [
    "IMAGES = Path('..') / '..' / 'Dropbox' / 'nitfix_photos'"
   ]
  },
  {
   "cell_type": "code",
   "execution_count": 5,
   "id": "5f5b24cb-d8e2-4de9-b81e-2321da7a391a",
   "metadata": {},
   "outputs": [],
   "source": [
    "sql = \"\"\"\n",
    "select *\n",
    "from images\n",
    "join taxonomy_ids using (sample_id)\n",
    "join taxonomy using (sci_name)\n",
    "left join nfn_data using (sample_id)\n",
    "where sci_name like 'Senna%'\n",
    "\"\"\""
   ]
  },
  {
   "cell_type": "code",
   "execution_count": 6,
   "id": "4af78613-29c7-4832-aba1-ba04cf6ac9b1",
   "metadata": {},
   "outputs": [],
   "source": [
    "with db.connect() as cxn:\n",
    "    df = pd.read_sql(sql, cxn)"
   ]
  },
  {
   "cell_type": "code",
   "execution_count": 7,
   "id": "dc5e44b8-6fc9-466e-9f22-8756f85754a7",
   "metadata": {},
   "outputs": [
    {
     "data": {
      "text/plain": [
       "(189, 74)"
      ]
     },
     "execution_count": 7,
     "metadata": {},
     "output_type": "execute_result"
    }
   ],
   "source": [
    "df.to_csv(DIR / 'senna_2022-10-20.csv', index=False)\n",
    "df.shape"
   ]
  },
  {
   "cell_type": "code",
   "execution_count": 8,
   "id": "a7b2ac5b-2f32-40d0-83f7-982799444121",
   "metadata": {},
   "outputs": [
    {
     "data": {
      "text/plain": [
       "0                       NY_visit_2/R0003782.JPG\n",
       "1                       NY_visit_2/R0003783.JPG\n",
       "2                       NY_visit_2/R0003784.JPG\n",
       "3                       NY_visit_2/R0003785.JPG\n",
       "4    OS_DOE-nitfix_specimen_photos/R0001818.JPG\n",
       "Name: image_file, dtype: object"
      ]
     },
     "execution_count": 8,
     "metadata": {},
     "output_type": "execute_result"
    }
   ],
   "source": [
    "df['image_file'].head()"
   ]
  },
  {
   "cell_type": "code",
   "execution_count": 9,
   "id": "bf11db85-1062-458c-8788-f266b28d148a",
   "metadata": {},
   "outputs": [],
   "source": [
    "for path in df['image_file']:\n",
    "    src = IMAGES / path\n",
    "    dst = DIR / src.name\n",
    "    copy(src, dst)"
   ]
  },
  {
   "cell_type": "code",
   "execution_count": null,
   "id": "eba65c90-a4b0-4671-ba91-444976b07c1e",
   "metadata": {},
   "outputs": [],
   "source": []
  }
 ],
 "metadata": {
  "kernelspec": {
   "display_name": "Python 3 (ipykernel)",
   "language": "python",
   "name": "python3"
  },
  "language_info": {
   "codemirror_mode": {
    "name": "ipython",
    "version": 3
   },
   "file_extension": ".py",
   "mimetype": "text/x-python",
   "name": "python",
   "nbconvert_exporter": "python",
   "pygments_lexer": "ipython3",
   "version": "3.10.6"
  }
 },
 "nbformat": 4,
 "nbformat_minor": 5
}
