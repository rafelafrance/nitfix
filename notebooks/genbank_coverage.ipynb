{
 "cells": [
  {
   "cell_type": "code",
   "execution_count": 3,
   "metadata": {},
   "outputs": [],
   "source": [
    "from pathlib import Path\n",
    "import pandas as pd"
   ]
  },
  {
   "cell_type": "code",
   "execution_count": 4,
   "metadata": {},
   "outputs": [],
   "source": [
    "PROCESSED_DATA = Path('..') / 'data' / 'processed'"
   ]
  },
  {
   "cell_type": "code",
   "execution_count": 28,
   "metadata": {},
   "outputs": [
    {
     "data": {
      "text/html": [
       "<div>\n",
       "<style scoped>\n",
       "    .dataframe tbody tr th:only-of-type {\n",
       "        vertical-align: middle;\n",
       "    }\n",
       "\n",
       "    .dataframe tbody tr th {\n",
       "        vertical-align: top;\n",
       "    }\n",
       "\n",
       "    .dataframe thead th {\n",
       "        text-align: right;\n",
       "    }\n",
       "</style>\n",
       "<table border=\"1\" class=\"dataframe\">\n",
       "  <thead>\n",
       "    <tr style=\"text-align: right;\">\n",
       "      <th></th>\n",
       "      <th>sample_id_1</th>\n",
       "      <th>sample_id_2</th>\n",
       "      <th>sample_id_3</th>\n",
       "    </tr>\n",
       "  </thead>\n",
       "  <tbody>\n",
       "    <tr>\n",
       "      <th>1666</th>\n",
       "      <td>NY: Fay 209</td>\n",
       "      <td>a81c64db-7424-469e-bc68-34c5c8d005d8</td>\n",
       "      <td>None</td>\n",
       "    </tr>\n",
       "    <tr>\n",
       "      <th>1987</th>\n",
       "      <td>TEX: Cuevas 78</td>\n",
       "      <td>TEX: Ballesteros 344</td>\n",
       "      <td>None</td>\n",
       "    </tr>\n",
       "    <tr>\n",
       "      <th>1998</th>\n",
       "      <td>NY: Martinez-C. D000804</td>\n",
       "      <td>NY: Irwin 26242</td>\n",
       "      <td>None</td>\n",
       "    </tr>\n",
       "    <tr>\n",
       "      <th>2000</th>\n",
       "      <td>NY: Reitsma 2032</td>\n",
       "      <td>NY: Etuge 188</td>\n",
       "      <td>None</td>\n",
       "    </tr>\n",
       "    <tr>\n",
       "      <th>3083</th>\n",
       "      <td>26f8ca56-2e7b-42f2-8670-61eb4071edd1</td>\n",
       "      <td>26eed0b8-6b7c-4a13-aa32-7f69917d9672</td>\n",
       "      <td>None</td>\n",
       "    </tr>\n",
       "  </tbody>\n",
       "</table>\n",
       "</div>"
      ],
      "text/plain": [
       "                               sample_id_1  \\\n",
       "1666                           NY: Fay 209   \n",
       "1987                        TEX: Cuevas 78   \n",
       "1998               NY: Martinez-C. D000804   \n",
       "2000                      NY: Reitsma 2032   \n",
       "3083  26f8ca56-2e7b-42f2-8670-61eb4071edd1   \n",
       "\n",
       "                                sample_id_2 sample_id_3  \n",
       "1666   a81c64db-7424-469e-bc68-34c5c8d005d8        None  \n",
       "1987                   TEX: Ballesteros 344        None  \n",
       "1998                        NY: Irwin 26242        None  \n",
       "2000                          NY: Etuge 188        None  \n",
       "3083   26eed0b8-6b7c-4a13-aa32-7f69917d9672        None  "
      ]
     },
     "execution_count": 28,
     "metadata": {},
     "output_type": "execute_result"
    }
   ],
   "source": [
    "csv_name = 'taxonomy.csv'\n",
    "csv_path = PROCESSED_DATA / csv_name\n",
    "\n",
    "taxonomy = pd.read_csv(csv_path).fillna('')\n",
    "\n",
    "ids = taxonomy.sample_ids.str.split(';', expand=True)\n",
    "ids.rename(\n",
    "    columns={\n",
    "        0: 'sample_id_1',\n",
    "        1: 'sample_id_2',\n",
    "        2: 'sample_id_3'\n",
    "    },\n",
    "    inplace=True)\n",
    "\n",
    "has_2_ids = ids['sample_id_2'].notna()\n",
    "\n",
    "with_2_ids = ids[has_2_ids]\n",
    "with_2_ids.head()"
   ]
  },
  {
   "cell_type": "code",
   "execution_count": null,
   "metadata": {},
   "outputs": [],
   "source": []
  },
  {
   "cell_type": "code",
   "execution_count": null,
   "metadata": {},
   "outputs": [],
   "source": []
  }
 ],
 "metadata": {
  "kernelspec": {
   "display_name": "Python 3",
   "language": "python",
   "name": "python3"
  },
  "language_info": {
   "codemirror_mode": {
    "name": "ipython",
    "version": 3
   },
   "file_extension": ".py",
   "mimetype": "text/x-python",
   "name": "python",
   "nbconvert_exporter": "python",
   "pygments_lexer": "ipython3",
   "version": "3.6.3"
  }
 },
 "nbformat": 4,
 "nbformat_minor": 2
}
