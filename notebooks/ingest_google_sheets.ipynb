{
 "cells": [
  {
   "cell_type": "markdown",
   "metadata": {},
   "source": [
    "# Ingest Data from Google Sheets"
   ]
  },
  {
   "cell_type": "code",
   "execution_count": 1,
   "metadata": {},
   "outputs": [],
   "source": [
    "import os\n",
    "from os.path import join, exists\n",
    "import argparse\n",
    "from pathlib import Path\n",
    "\n",
    "import pandas as pd\n",
    "\n",
    "import httplib2\n",
    "from apiclient import discovery\n",
    "from oauth2client import client\n",
    "from oauth2client import tools\n",
    "from oauth2client.file import Storage\n",
    "\n",
    "import lib.db as db\n",
    "import lib.google as google"
   ]
  },
  {
   "cell_type": "code",
   "execution_count": 2,
   "metadata": {},
   "outputs": [],
   "source": [
    "CXN = db.connect()\n",
    "INTERIM_DATA = Path('..') / 'data' / 'interim'"
   ]
  },
  {
   "cell_type": "markdown",
   "metadata": {},
   "source": [
    "### Constants for working with Google Sheets API"
   ]
  },
  {
   "cell_type": "code",
   "execution_count": 3,
   "metadata": {},
   "outputs": [],
   "source": [
    "MASTER_TAXONOMY = '14J1_gHf4g4BHfG-qVJTx3Z296xyXPIXWNAGRx0uReWk'\n",
    "SAMPLE_PLATES = '1uPOtAuu3VQUcVkRsY4q2GtfeFrs1l9udkyNEaxvqjmA'\n",
    "GENBANK_LOCI = '1TQjJWVrdToNr6E5AhWhIQ3PdX8uMQSI7qD5MYyUHazU'\n",
    "PICOGREEN = '1uXI4-m8xmy50ljxghGnN3zEjF9K2bqXkghin9mWf_0o'"
   ]
  },
  {
   "cell_type": "code",
   "execution_count": 4,
   "metadata": {},
   "outputs": [],
   "source": [
    "SCOPES = 'https://www.googleapis.com/auth/drive'\n",
    "CREDENTIALS = 'drive-nitfix.json'\n",
    "APPLICATION = 'Google Drive API Python'\n",
    "SECRETS = 'data/secrets/client_drive_secrets.json'\n",
    "VERSION = 'v3'"
   ]
  },
  {
   "cell_type": "markdown",
   "metadata": {},
   "source": [
    "### Export Google Sheet"
   ]
  },
  {
   "cell_type": "markdown",
   "metadata": {},
   "source": [
    "Validate the user's credentials from storage or prompt for new credentials."
   ]
  },
  {
   "cell_type": "code",
   "execution_count": 5,
   "metadata": {},
   "outputs": [],
   "source": [
    "def get_credentials():\n",
    "    home_dir = os.path.expanduser('~')\n",
    "    credential_dir = join(home_dir, '.credentials')\n",
    "    if not exists(credential_dir):\n",
    "        os.makedirs(credential_dir)\n",
    "    credential_path = join(credential_dir, CREDENTIALS)\n",
    "\n",
    "    store = Storage(credential_path)\n",
    "    credentials = store.get()\n",
    "    if not credentials or credentials.invalid:\n",
    "        flow = client.flow_from_clientsecrets(SECRETS, SCOPES)\n",
    "        flow.user_agent = APPLICATION\n",
    "        flags = argparse.ArgumentParser(\n",
    "            parents=[tools.argparser]).parse_args()\n",
    "        credentials = tools.run_flow(flow, store, flags)\n",
    "        print('Storing credentials to ' + credential_path)\n",
    "    return credentials"
   ]
  },
  {
   "cell_type": "markdown",
   "metadata": {},
   "source": [
    "Get the Google Drive API"
   ]
  },
  {
   "cell_type": "code",
   "execution_count": 6,
   "metadata": {},
   "outputs": [],
   "source": [
    "def get_service(google_app):\n",
    "    credentials = get_credentials()\n",
    "    http = credentials.authorize(httplib2.Http())\n",
    "    return discovery.build(google_app, VERSION, http=http)"
   ]
  },
  {
   "cell_type": "markdown",
   "metadata": {},
   "source": [
    "Export the Google Sheet"
   ]
  },
  {
   "cell_type": "code",
   "execution_count": 7,
   "metadata": {},
   "outputs": [],
   "source": [
    "def export_sheet_csv(sheet_name, csv_file):\n",
    "    service = get_service('drive')\n",
    "    files = service.files().list(\n",
    "        q='name=\"{}\" and mimeType=\"{}\"'.format(\n",
    "            sheet_name, 'application/vnd.google-apps.spreadsheet'),\n",
    "        orderBy='modifiedTime desc,name').execute().get('files', [])\n",
    "\n",
    "    data = service.files().export(\n",
    "        fileId=files[0]['id'], mimeType='text/csv').execute()\n",
    "\n",
    "    if not data:\n",
    "        raise FileNotFoundError(\n",
    "            'Could not read Google sheet {}'.format(sheet_name))\n",
    "\n",
    "    csv_file.write(data)\n",
    "    csv_file.flush()\n",
    "    csv_file.seek(0)"
   ]
  },
  {
   "cell_type": "markdown",
   "metadata": {},
   "source": [
    "### Ingest the Master Taxonomy"
   ]
  },
  {
   "cell_type": "code",
   "execution_count": 32,
   "metadata": {
    "scrolled": false
   },
   "outputs": [
    {
     "data": {
      "text/html": [
       "<div>\n",
       "<style scoped>\n",
       "    .dataframe tbody tr th:only-of-type {\n",
       "        vertical-align: middle;\n",
       "    }\n",
       "\n",
       "    .dataframe tbody tr th {\n",
       "        vertical-align: top;\n",
       "    }\n",
       "\n",
       "    .dataframe thead th {\n",
       "        text-align: right;\n",
       "    }\n",
       "</style>\n",
       "<table border=\"1\" class=\"dataframe\">\n",
       "  <thead>\n",
       "    <tr style=\"text-align: right;\">\n",
       "      <th></th>\n",
       "      <th>taxon_key</th>\n",
       "      <th>family</th>\n",
       "      <th>scientific_name</th>\n",
       "      <th>authority</th>\n",
       "      <th>synonyms</th>\n",
       "      <th>sample_ids</th>\n",
       "      <th>provider_acronym</th>\n",
       "      <th>provider_id</th>\n",
       "      <th>quality_notes</th>\n",
       "      <th>genus</th>\n",
       "    </tr>\n",
       "  </thead>\n",
       "  <tbody>\n",
       "    <tr>\n",
       "      <th>0</th>\n",
       "      <td>kew-2640275</td>\n",
       "      <td>Anisophylleaceae</td>\n",
       "      <td>Anisophyllea apetala</td>\n",
       "      <td>Scort. ex King</td>\n",
       "      <td>NaN</td>\n",
       "      <td>NaN</td>\n",
       "      <td>NaN</td>\n",
       "      <td>NaN</td>\n",
       "      <td>NaN</td>\n",
       "      <td>Anisophyllea</td>\n",
       "    </tr>\n",
       "    <tr>\n",
       "      <th>1</th>\n",
       "      <td>kew-2640276</td>\n",
       "      <td>Anisophylleaceae</td>\n",
       "      <td>Anisophyllea beccariana</td>\n",
       "      <td>Baill.</td>\n",
       "      <td>NaN</td>\n",
       "      <td>NaN</td>\n",
       "      <td>NaN</td>\n",
       "      <td>NaN</td>\n",
       "      <td>NaN</td>\n",
       "      <td>Anisophyllea</td>\n",
       "    </tr>\n",
       "    <tr>\n",
       "      <th>2</th>\n",
       "      <td>kew-2640277</td>\n",
       "      <td>Anisophylleaceae</td>\n",
       "      <td>Anisophyllea boehmii</td>\n",
       "      <td>Engl.</td>\n",
       "      <td>Anisophyllea exellii, Anisophyllea gossweileri</td>\n",
       "      <td>NaN</td>\n",
       "      <td>NaN</td>\n",
       "      <td>NaN</td>\n",
       "      <td>NaN</td>\n",
       "      <td>Anisophyllea</td>\n",
       "    </tr>\n",
       "    <tr>\n",
       "      <th>3</th>\n",
       "      <td>kew-2640279</td>\n",
       "      <td>Anisophylleaceae</td>\n",
       "      <td>Anisophyllea buchneri</td>\n",
       "      <td>Engl. &amp; Brehmer</td>\n",
       "      <td>NaN</td>\n",
       "      <td>NaN</td>\n",
       "      <td>NaN</td>\n",
       "      <td>NaN</td>\n",
       "      <td>NaN</td>\n",
       "      <td>Anisophyllea</td>\n",
       "    </tr>\n",
       "    <tr>\n",
       "      <th>4</th>\n",
       "      <td>kew-2640280</td>\n",
       "      <td>Anisophylleaceae</td>\n",
       "      <td>Anisophyllea buettneri</td>\n",
       "      <td>Engl.</td>\n",
       "      <td>Anisophyllea brachystila</td>\n",
       "      <td>NaN</td>\n",
       "      <td>NaN</td>\n",
       "      <td>NaN</td>\n",
       "      <td>NaN</td>\n",
       "      <td>Anisophyllea</td>\n",
       "    </tr>\n",
       "  </tbody>\n",
       "</table>\n",
       "</div>"
      ],
      "text/plain": [
       "     taxon_key            family          scientific_name        authority  \\\n",
       "0  kew-2640275  Anisophylleaceae     Anisophyllea apetala   Scort. ex King   \n",
       "1  kew-2640276  Anisophylleaceae  Anisophyllea beccariana           Baill.   \n",
       "2  kew-2640277  Anisophylleaceae     Anisophyllea boehmii            Engl.   \n",
       "3  kew-2640279  Anisophylleaceae    Anisophyllea buchneri  Engl. & Brehmer   \n",
       "4  kew-2640280  Anisophylleaceae   Anisophyllea buettneri            Engl.   \n",
       "\n",
       "                                         synonyms sample_ids provider_acronym  \\\n",
       "0                                             NaN        NaN              NaN   \n",
       "1                                             NaN        NaN              NaN   \n",
       "2  Anisophyllea exellii, Anisophyllea gossweileri        NaN              NaN   \n",
       "3                                             NaN        NaN              NaN   \n",
       "4                        Anisophyllea brachystila        NaN              NaN   \n",
       "\n",
       "  provider_id quality_notes         genus  \n",
       "0         NaN           NaN  Anisophyllea  \n",
       "1         NaN           NaN  Anisophyllea  \n",
       "2         NaN           NaN  Anisophyllea  \n",
       "3         NaN           NaN  Anisophyllea  \n",
       "4         NaN           NaN  Anisophyllea  "
      ]
     },
     "execution_count": 32,
     "metadata": {},
     "output_type": "execute_result"
    }
   ],
   "source": [
    "csv_path = INTERIM_DATA / 'taxons.csv'\n",
    "\n",
    "with open(csv_path, 'wb') as csv_out:\n",
    "    export_sheet_csv('NitFixMasterTaxonomy', csv_out)\n",
    "\n",
    "df = pd.read_csv(csv_path)\n",
    "df.rename(columns={\n",
    "    'Unnamed: 0': 'taxon_key',\n",
    "    'family': 'family',\n",
    "    'scientificName': 'scientific_name',\n",
    "    'scientificNameAuthorship': 'authority',\n",
    "    'Synonyms': 'synonyms',\n",
    "    'Tissue sample identifier': 'sample_ids',\n",
    "    'Provider acronym': 'provider_acronym',\n",
    "    'Provider identifier': 'provider_id',\n",
    "    'Unnamed: 8': 'quality_notes',\n",
    "}, inplace=True)\n",
    "\n",
    "df['genus'] = df['scientific_name'].str.split().str[0]\n",
    "\n",
    "df.head()\n",
    "\n",
    "# df.to_sql('taxons', CXN, if_exists='replace')"
   ]
  },
  {
   "cell_type": "markdown",
   "metadata": {},
   "source": [
    "### Ingest the Sample Plates\n",
    "\n",
    "Get the entered data from the sample_plates Google sheet.\n",
    "\n",
    "There is a fixed format to the plates:\n",
    "```\n",
    "                        Plate column 1  ...     Plate column 12\n",
    "plate_id:UUID\n",
    "entry_date:ISO_Date\n",
    "local_id:Text\n",
    "protocol:Text\n",
    "notes:Text\n",
    "results:Text\n",
    "Plate row A                UUID?          ...     UUID?\n",
    "    .                        .            ...       .\n",
    "    .                        .            ...       .\n",
    "    .                        .            ...       .\n",
    "Plate row H                UUID?          ...     UUID?\n",
    "```"
   ]
  },
  {
   "cell_type": "code",
   "execution_count": 68,
   "metadata": {},
   "outputs": [
    {
     "data": {
      "text/html": [
       "<div>\n",
       "<style scoped>\n",
       "    .dataframe tbody tr th:only-of-type {\n",
       "        vertical-align: middle;\n",
       "    }\n",
       "\n",
       "    .dataframe tbody tr th {\n",
       "        vertical-align: top;\n",
       "    }\n",
       "\n",
       "    .dataframe thead th {\n",
       "        text-align: right;\n",
       "    }\n",
       "</style>\n",
       "<table border=\"1\" class=\"dataframe\">\n",
       "  <thead>\n",
       "    <tr style=\"text-align: right;\">\n",
       "      <th></th>\n",
       "      <th>0</th>\n",
       "      <th>1</th>\n",
       "      <th>2</th>\n",
       "      <th>3</th>\n",
       "      <th>4</th>\n",
       "      <th>5</th>\n",
       "    </tr>\n",
       "  </thead>\n",
       "  <tbody>\n",
       "    <tr>\n",
       "      <th>0</th>\n",
       "      <td>00f5f483-3657-40de-8aad-7639c6b8e74a</td>\n",
       "      <td>2018-01-11</td>\n",
       "      <td>Local identifier: NITFIX_1</td>\n",
       "      <td>Protocol: Protocol_NitFix_1</td>\n",
       "      <td>Notes: OSU SAMPLES. Failed grinding,low yield,...</td>\n",
       "      <td>Quantification NA</td>\n",
       "    </tr>\n",
       "    <tr>\n",
       "      <th>1</th>\n",
       "      <td>02b81f81-0fc3-45de-9ad4-0d85eb8d5c94</td>\n",
       "      <td>2018-01-17</td>\n",
       "      <td>Local identifier: NITFIX_2</td>\n",
       "      <td>Protocol</td>\n",
       "      <td>Notes: OSU SAMPLES. Tube and cap failure, samp...</td>\n",
       "      <td>Quantification NA</td>\n",
       "    </tr>\n",
       "    <tr>\n",
       "      <th>2</th>\n",
       "      <td>031fc196-3587-477d-8bd2-4a9f5167be4d</td>\n",
       "      <td>2018-01-18</td>\n",
       "      <td>Local identifier:NITFIX_3</td>\n",
       "      <td>Protocol</td>\n",
       "      <td>Notes: OSU SAMPLES</td>\n",
       "      <td>Quantification 3/5</td>\n",
       "    </tr>\n",
       "    <tr>\n",
       "      <th>3</th>\n",
       "      <td>037a4923-94f1-4134-b6dc-b36478e37bcc</td>\n",
       "      <td>2018-01-19</td>\n",
       "      <td>Local identifier: NITFIX_4</td>\n",
       "      <td>Protocol</td>\n",
       "      <td>Notes:Contamination, Samples Discarded</td>\n",
       "      <td>Quantification NA</td>\n",
       "    </tr>\n",
       "    <tr>\n",
       "      <th>4</th>\n",
       "      <td>04a4aca9-a339-40f6-b2f0-047b1513e4de</td>\n",
       "      <td>2018-01-23</td>\n",
       "      <td>Local identifier: NITFIX_5</td>\n",
       "      <td>Protocol</td>\n",
       "      <td>Notes: OSU SAMPLES.</td>\n",
       "      <td>Quantification 3/5</td>\n",
       "    </tr>\n",
       "  </tbody>\n",
       "</table>\n",
       "</div>"
      ],
      "text/plain": [
       "                                      0           1  \\\n",
       "0  00f5f483-3657-40de-8aad-7639c6b8e74a  2018-01-11   \n",
       "1  02b81f81-0fc3-45de-9ad4-0d85eb8d5c94  2018-01-17   \n",
       "2  031fc196-3587-477d-8bd2-4a9f5167be4d  2018-01-18   \n",
       "3  037a4923-94f1-4134-b6dc-b36478e37bcc  2018-01-19   \n",
       "4  04a4aca9-a339-40f6-b2f0-047b1513e4de  2018-01-23   \n",
       "\n",
       "                            2                            3  \\\n",
       "0  Local identifier: NITFIX_1  Protocol: Protocol_NitFix_1   \n",
       "1  Local identifier: NITFIX_2                     Protocol   \n",
       "2   Local identifier:NITFIX_3                     Protocol   \n",
       "3  Local identifier: NITFIX_4                     Protocol   \n",
       "4  Local identifier: NITFIX_5                     Protocol   \n",
       "\n",
       "                                                   4                   5  \n",
       "0  Notes: OSU SAMPLES. Failed grinding,low yield,...   Quantification NA  \n",
       "1  Notes: OSU SAMPLES. Tube and cap failure, samp...   Quantification NA  \n",
       "2                                 Notes: OSU SAMPLES  Quantification 3/5  \n",
       "3             Notes:Contamination, Samples Discarded   Quantification NA  \n",
       "4                                Notes: OSU SAMPLES.  Quantification 3/5  "
      ]
     },
     "execution_count": 68,
     "metadata": {},
     "output_type": "execute_result"
    }
   ],
   "source": [
    "csv_path = INTERIM_DATA / 'sample_plates.csv'\n",
    "step = 14\n",
    "\n",
    "# with open(csv_path, 'wb') as csv_out:\n",
    "#     export_sheet_csv('sample_plates', csv_out)\n",
    "\n",
    "df = pd.read_csv(csv_path)\n",
    "\n",
    "has_data = df['Plate ID'].notna()\n",
    "df = df[has_data]\n",
    "df.reset_index(drop=True, inplace=True)\n",
    "\n",
    "parts = []\n",
    "for i in range(6):\n",
    "    part = df.iloc[i::step, [0]]\n",
    "    part.reset_index(drop=True, inplace=True)\n",
    "    parts.append(part)\n",
    "\n",
    "df = pd.concat(parts, axis=1, ignore_index=True)\n",
    "\n",
    "# len(df)\n",
    "df.head()"
   ]
  },
  {
   "cell_type": "code",
   "execution_count": null,
   "metadata": {},
   "outputs": [],
   "source": []
  }
 ],
 "metadata": {
  "kernelspec": {
   "display_name": "Python 3",
   "language": "python",
   "name": "python3"
  },
  "language_info": {
   "codemirror_mode": {
    "name": "ipython",
    "version": 3
   },
   "file_extension": ".py",
   "mimetype": "text/x-python",
   "name": "python",
   "nbconvert_exporter": "python",
   "pygments_lexer": "ipython3",
   "version": "3.6.3"
  }
 },
 "nbformat": 4,
 "nbformat_minor": 2
}
