{
 "cells": [
  {
   "cell_type": "markdown",
   "metadata": {
    "toc": true
   },
   "source": [
    "<h1>Table of Contents<span class=\"tocSkip\"></span></h1>\n",
    "<div class=\"toc\"><ul class=\"toc-item\"><li><span><a href=\"#Setup\" data-toc-modified-id=\"Setup-1\"><span class=\"toc-item-num\">1&nbsp;&nbsp;</span>Setup</a></span></li><li><span><a href=\"#Create-images-and-errors-tables|\" data-toc-modified-id=\"Create-images-and-errors-tables|-2\"><span class=\"toc-item-num\">2&nbsp;&nbsp;</span>Create images and errors tables|</a></span></li><li><span><a href=\"#Functions\" data-toc-modified-id=\"Functions-3\"><span class=\"toc-item-num\">3&nbsp;&nbsp;</span>Functions</a></span><ul class=\"toc-item\"><li><span><a href=\"#Search-the-image-for-the-sample-ID-(UUID)\" data-toc-modified-id=\"Search-the-image-for-the-sample-ID-(UUID)-3.1\"><span class=\"toc-item-num\">3.1&nbsp;&nbsp;</span>Search the image for the sample ID (UUID)</a></span><ul class=\"toc-item\"><li><span><a href=\"#Create-Window-Slider\" data-toc-modified-id=\"Create-Window-Slider-3.1.1\"><span class=\"toc-item-num\">3.1.1&nbsp;&nbsp;</span>Create Window Slider</a></span></li><li><span><a href=\"#Extract-QR-Code-from-Image\" data-toc-modified-id=\"Extract-QR-Code-from-Image-3.1.2\"><span class=\"toc-item-num\">3.1.2&nbsp;&nbsp;</span>Extract QR Code from Image</a></span></li><li><span><a href=\"#Read-and-Process-Image\" data-toc-modified-id=\"Read-and-Process-Image-3.1.3\"><span class=\"toc-item-num\">3.1.3&nbsp;&nbsp;</span>Read and Process Image</a></span></li></ul></li><li><span><a href=\"#Ingest-Image-Batch\" data-toc-modified-id=\"Ingest-Image-Batch-3.2\"><span class=\"toc-item-num\">3.2&nbsp;&nbsp;</span>Ingest Image Batch</a></span></li><li><span><a href=\"#Resolve-an-error\" data-toc-modified-id=\"Resolve-an-error-3.3\"><span class=\"toc-item-num\">3.3&nbsp;&nbsp;</span>Resolve an error</a></span></li><li><span><a href=\"#Manually-set-an-image-record\" data-toc-modified-id=\"Manually-set-an-image-record-3.4\"><span class=\"toc-item-num\">3.4&nbsp;&nbsp;</span>Manually set an image record</a></span></li><li><span><a href=\"#Create-tables\" data-toc-modified-id=\"Create-tables-3.5\"><span class=\"toc-item-num\">3.5&nbsp;&nbsp;</span>Create tables</a></span></li></ul></li><li><span><a href=\"#Ingest-images\" data-toc-modified-id=\"Ingest-images-4\"><span class=\"toc-item-num\">4&nbsp;&nbsp;</span>Ingest images</a></span><ul class=\"toc-item\"><li><span><a href=\"#Ingest-New-York-Botanical-Garden-(1st-trip)\" data-toc-modified-id=\"Ingest-New-York-Botanical-Garden-(1st-trip)-4.1\"><span class=\"toc-item-num\">4.1&nbsp;&nbsp;</span>Ingest New York Botanical Garden (1st trip)</a></span></li><li><span><a href=\"#Ingest-Harvard-Herbaria\" data-toc-modified-id=\"Ingest-Harvard-Herbaria-4.2\"><span class=\"toc-item-num\">4.2&nbsp;&nbsp;</span>Ingest Harvard Herbaria</a></span></li><li><span><a href=\"#Ingest-Ohio-State-University-Herbarium\" data-toc-modified-id=\"Ingest-Ohio-State-University-Herbarium-4.3\"><span class=\"toc-item-num\">4.3&nbsp;&nbsp;</span>Ingest Ohio State University Herbarium</a></span></li><li><span><a href=\"#Ingest-California-Academy-of-Sciences-Herbarium\" data-toc-modified-id=\"Ingest-California-Academy-of-Sciences-Herbarium-4.4\"><span class=\"toc-item-num\">4.4&nbsp;&nbsp;</span>Ingest California Academy of Sciences Herbarium</a></span></li><li><span><a href=\"#Ingest-Missouri-Botanical-Garden\" data-toc-modified-id=\"Ingest-Missouri-Botanical-Garden-4.5\"><span class=\"toc-item-num\">4.5&nbsp;&nbsp;</span>Ingest Missouri Botanical Garden</a></span></li><li><span><a href=\"#Ingest-New-York-Botanical-Garden-(2nd-trip)\" data-toc-modified-id=\"Ingest-New-York-Botanical-Garden-(2nd-trip)-4.6\"><span class=\"toc-item-num\">4.6&nbsp;&nbsp;</span>Ingest New York Botanical Garden (2nd trip)</a></span></li></ul></li><li><span><a href=\"#Write-Image-Table-to-CSV-File\" data-toc-modified-id=\"Write-Image-Table-to-CSV-File-5\"><span class=\"toc-item-num\">5&nbsp;&nbsp;</span>Write Image Table to CSV File</a></span></li></ul></div>"
   ]
  },
  {
   "cell_type": "markdown",
   "metadata": {},
   "source": [
    "# Setup\n",
    "\n",
    "** Warning: This notebook can take a hours to complete. **"
   ]
  },
  {
   "cell_type": "code",
   "execution_count": 1,
   "metadata": {},
   "outputs": [],
   "source": [
    "from glob import glob\n",
    "from pathlib import Path\n",
    "from collections import namedtuple\n",
    "\n",
    "import pandas as pd\n",
    "from PIL import Image, ImageFilter\n",
    "import exifread\n",
    "import zbarlight\n",
    "from tqdm import tqdm\n",
    "\n",
    "import lib.db as db\n",
    "import lib.util as util\n",
    "import lib.google as google\n",
    "from lib.dict_attr import DictAttrs"
   ]
  },
  {
   "cell_type": "code",
   "execution_count": 2,
   "metadata": {},
   "outputs": [],
   "source": [
    "Dimensions = namedtuple('Dimensions', 'width height')\n",
    "\n",
    "CXN = db.connect()\n",
    "RAW_DATA = Path('..') / 'data' / 'raw'\n",
    "INTERIM_DATA = Path('..') / 'data' / 'interim'\n",
    "PROCESSED_DATA = Path('..') / 'data' / 'processed'"
   ]
  },
  {
   "cell_type": "markdown",
   "metadata": {},
   "source": [
    "# Create images and errors tables|"
   ]
  },
  {
   "cell_type": "code",
   "execution_count": 3,
   "metadata": {},
   "outputs": [],
   "source": [
    "def create_images_table():\n",
    "    CXN.execute('DROP TABLE IF EXISTS images')\n",
    "    CXN.execute(\"\"\"\n",
    "        CREATE TABLE images (\n",
    "            sample_id TEXT PRIMARY KEY NOT NULL,\n",
    "            file_name TEXT NOT NULL UNIQUE\n",
    "        )\"\"\")\n",
    "    CXN.execute(\"\"\"CREATE INDEX image_idx ON images (sample_id)\"\"\")"
   ]
  },
  {
   "cell_type": "code",
   "execution_count": 4,
   "metadata": {},
   "outputs": [],
   "source": [
    "def create_errors_table():\n",
    "    \"\"\"Create errors table for persisting errors.\"\"\"\n",
    "    CXN.execute('DROP TABLE IF EXISTS errors')\n",
    "    CXN.execute(\"\"\"\n",
    "        CREATE TABLE errors (\n",
    "            error_key   TEXT NOT NULL,\n",
    "            msg         TEXT,\n",
    "            ok          INTEGER,\n",
    "            resolution  TEXT\n",
    "        )\"\"\")\n",
    "    CXN.execute(\"\"\"CREATE INDEX error_idx ON errors (error_key)\"\"\")"
   ]
  },
  {
   "cell_type": "markdown",
   "metadata": {},
   "source": [
    "# Functions\n",
    "\n",
    "## Search the image for the sample ID (UUID)\n",
    "\n",
    "### Create Window Slider\n",
    "\n",
    "It helps with feature extraction by limiting the search area"
   ]
  },
  {
   "cell_type": "code",
   "execution_count": 5,
   "metadata": {},
   "outputs": [],
   "source": [
    "def window_slider(image_size, window=None, stride=None):\n",
    "    window = window if window else Dimensions(400, 400)\n",
    "    stride = stride if stride else Dimensions(200, 200)\n",
    "\n",
    "    for top in range(0, image_size.height, stride.height):\n",
    "        bottom = top + window.height\n",
    "        bottom = image_size.height if bottom > image_size.height else bottom\n",
    "\n",
    "        for left in range(0, image_size.width, stride.width):\n",
    "            right = left + window.width\n",
    "            right = image_size.width if right > image_size.width else right\n",
    "\n",
    "            box = (left, top, right, bottom)\n",
    "\n",
    "            yield box"
   ]
  },
  {
   "cell_type": "markdown",
   "metadata": {},
   "source": [
    "### Extract QR Code from Image"
   ]
  },
  {
   "cell_type": "code",
   "execution_count": 6,
   "metadata": {},
   "outputs": [],
   "source": [
    "def get_qr_code(image):\n",
    "    # Try a direct extraction\n",
    "    qr_code = zbarlight.scan_codes('qrcode', image)\n",
    "    if qr_code:\n",
    "        return qr_code[0].decode('utf-8')\n",
    "\n",
    "    # Try a slider\n",
    "    for box in window_slider(image):\n",
    "        cropped = image.crop(box)\n",
    "        qr_code = zbarlight.scan_codes('qrcode', cropped)\n",
    "        if qr_code:\n",
    "            return qr_code[0].decode('utf-8')\n",
    "\n",
    "    # Try rotating the image *sigh*\n",
    "    for degrees in range(5, 85, 5):\n",
    "        rotated = image.rotate(degrees)\n",
    "        qr_code = zbarlight.scan_codes('qrcode', rotated)\n",
    "        if qr_code:\n",
    "            return qr_code[0].decode('utf-8')\n",
    "\n",
    "    # Try to sharpen the image\n",
    "    sharpened = image.filter(ImageFilter.SHARPEN)\n",
    "    qr_code = zbarlight.scan_codes('qrcode', sharpened)\n",
    "    if qr_code:\n",
    "        return qr_code[0].decode('utf-8')\n",
    "\n",
    "    return None"
   ]
  },
  {
   "cell_type": "markdown",
   "metadata": {},
   "source": [
    "### Read and Process Image"
   ]
  },
  {
   "cell_type": "code",
   "execution_count": 7,
   "metadata": {},
   "outputs": [],
   "source": [
    "def get_image_data(file_name):\n",
    "    with open(file_name, 'rb') as image_file:\n",
    "        # exif = exifread.process_file(image_file)\n",
    "        image = Image.open(image_file)\n",
    "        image.load()\n",
    "\n",
    "    qr_code = get_qr_code(image)\n",
    "\n",
    "    return qr_code"
   ]
  },
  {
   "cell_type": "markdown",
   "metadata": {},
   "source": [
    "## Ingest Image Batch"
   ]
  },
  {
   "cell_type": "code",
   "execution_count": 8,
   "metadata": {},
   "outputs": [],
   "source": [
    "def ingest_images(dir_name):\n",
    "    pattern = str(dir_name / '*.JPG')\n",
    "\n",
    "    sample_ids = {}  # Keep track of already used sample_ids\n",
    "\n",
    "    images = []  # A batch of images to insert\n",
    "    errors = []  # A batch of errors to insert\n",
    "\n",
    "    files = sorted(glob(pattern))\n",
    "\n",
    "    for file_name in tqdm(files):\n",
    "        sample_id = get_image_data(file_name)\n",
    "\n",
    "        # Handle a missing sample ID\n",
    "        if not sample_id:\n",
    "            msg = 'MISSING: QR code missing in {}'.format(file_name)\n",
    "            errors.append((file_name, msg))\n",
    "\n",
    "        # Handle a duplicate sample ID\n",
    "        elif sample_ids.get(sample_id):\n",
    "            msg = ('DUPLICATES: Files {} and {} have the same '\n",
    "                   'QR code').format(sample_ids[sample_id], file_name)\n",
    "            errors.append((file_name, msg))\n",
    "\n",
    "        # The image seems OK\n",
    "        else:\n",
    "            sample_ids[sample_id] = file_name\n",
    "            images.append((sample_id, file_name))\n",
    "\n",
    "    # Insert the image and error batches\n",
    "    sql = 'INSERT INTO images (sample_id, file_name) VALUES (?, ?)'\n",
    "    CXN.executemany(sql, images)\n",
    "\n",
    "    sql = 'INSERT INTO errors (error_key, msg) VALUES (?, ?)'\n",
    "    CXN.executemany(sql, errors)\n",
    "\n",
    "    CXN.commit()"
   ]
  },
  {
   "cell_type": "markdown",
   "metadata": {},
   "source": [
    "## Resolve an error"
   ]
  },
  {
   "cell_type": "code",
   "execution_count": 9,
   "metadata": {},
   "outputs": [],
   "source": [
    "def resolve_error(dir_name, file_name, ok, resolution):\n",
    "    error_key = str(dir_name / f'{file_name}.JPG')\n",
    "    sql = 'UPDATE errors SET ok = ?, resolution = ? WHERE error_key = ?'\n",
    "    CXN.execute(sql, (ok, resolution, error_key))\n",
    "    CXN.commit()"
   ]
  },
  {
   "cell_type": "markdown",
   "metadata": {},
   "source": [
    "## Manually set an image record"
   ]
  },
  {
   "cell_type": "code",
   "execution_count": 10,
   "metadata": {},
   "outputs": [],
   "source": [
    "def manual_insert(dir_name, file_name, sample_id):\n",
    "    file_name = str(RAW_DATA / dir_name / f'{file_name}.JPG')\n",
    "    sql = 'INSERT INTO images (sample_id, file_name) VALUES (?, ?)'\n",
    "    CXN.execute(sql, (sample_id, file_name))\n",
    "    CXN.commit()"
   ]
  },
  {
   "cell_type": "markdown",
   "metadata": {},
   "source": [
    "## Create tables"
   ]
  },
  {
   "cell_type": "code",
   "execution_count": 11,
   "metadata": {},
   "outputs": [],
   "source": [
    "create_images_table()\n",
    "create_errors_table()"
   ]
  },
  {
   "cell_type": "markdown",
   "metadata": {},
   "source": [
    "# Ingest images\n",
    "\n",
    "## Ingest New York Botanical Garden (1st trip)"
   ]
  },
  {
   "cell_type": "code",
   "execution_count": 12,
   "metadata": {},
   "outputs": [
    {
     "name": "stderr",
     "output_type": "stream",
     "text": [
      "100%|██████████| 1236/1236 [29:24<00:00,  1.43s/it]\n"
     ]
    }
   ],
   "source": [
    "path = RAW_DATA / 'DOE-nitfix_specimen_photos'\n",
    "\n",
    "ingest_images(path)\n",
    "\n",
    "resolve_error(path, 'R0000149', 1, 'OK: Genuine duplicate')\n",
    "resolve_error(path, 'R0000151', 1, 'OK: Genuine duplicate')\n",
    "resolve_error(path, 'R0000158', 1, 'OK: Genuine duplicate')\n",
    "resolve_error(path, 'R0000165', 1, 'OK: Genuine duplicate')\n",
    "resolve_error(path, 'R0000674', 1, 'OK: Is a duplicate of R0000473')\n",
    "resolve_error(path, 'R0000835', 1, 'OK: Is a duplicate of R0000836')\n",
    "resolve_error(path, 'R0000895', 1, 'OK: Genuine duplicate')\n",
    "resolve_error(path, 'R0000937', 1, 'OK: Genuine duplicate')\n",
    "resolve_error(path, 'R0001055', 1, 'OK: Genuine duplicate')"
   ]
  },
  {
   "cell_type": "markdown",
   "metadata": {},
   "source": [
    "## Ingest Harvard Herbaria"
   ]
  },
  {
   "cell_type": "code",
   "execution_count": 13,
   "metadata": {},
   "outputs": [
    {
     "name": "stderr",
     "output_type": "stream",
     "text": [
      "100%|██████████| 483/483 [12:01<00:00,  1.49s/it]\n"
     ]
    }
   ],
   "source": [
    "path = RAW_DATA / 'HUH_DOE-nitfix_specimen_photos'\n",
    "\n",
    "ingest_images(path)\n",
    "\n",
    "resolve_error(path, 'R0001262', 1, 'OK: Is a duplicate of R0001263')\n",
    "resolve_error(path, 'R0001729', 1, 'OK: Is a duplicate of R0001728')"
   ]
  },
  {
   "cell_type": "markdown",
   "metadata": {},
   "source": [
    "## Ingest Ohio State University Herbarium"
   ]
  },
  {
   "cell_type": "code",
   "execution_count": 14,
   "metadata": {},
   "outputs": [
    {
     "name": "stderr",
     "output_type": "stream",
     "text": [
      "100%|██████████| 688/688 [15:28<00:00,  1.35s/it]\n"
     ]
    }
   ],
   "source": [
    "path = RAW_DATA / 'OS_DOE-nitfix_specimen_photos'\n",
    "\n",
    "ingest_images(path)\n",
    "\n",
    "resolve_error(path, 'R0000229', 1, 'OK: Genuine duplicate')\n",
    "resolve_error(path, 'R0001835', 1, 'OK: Genuine duplicate')\n",
    "resolve_error(path, 'R0001898', 1, 'OK: Genuine duplicate')"
   ]
  },
  {
   "cell_type": "markdown",
   "metadata": {},
   "source": [
    "## Ingest California Academy of Sciences Herbarium"
   ]
  },
  {
   "cell_type": "code",
   "execution_count": 15,
   "metadata": {},
   "outputs": [
    {
     "name": "stderr",
     "output_type": "stream",
     "text": [
      "100%|██████████| 2412/2412 [56:44<00:00,  1.41s/it]\n"
     ]
    }
   ],
   "source": [
    "path = RAW_DATA / 'CAS-DOE-nitfix_specimen_photos'\n",
    "\n",
    "ingest_images(path)\n",
    "\n",
    "resolve_error(path, 'R0001361', 1, 'OK: Genuine duplicate')\n",
    "resolve_error(path, 'R0002349', 1, 'OK: Genuine duplicate')"
   ]
  },
  {
   "cell_type": "markdown",
   "metadata": {},
   "source": [
    "## Ingest Missouri Botanical Garden"
   ]
  },
  {
   "cell_type": "code",
   "execution_count": 16,
   "metadata": {},
   "outputs": [
    {
     "name": "stderr",
     "output_type": "stream",
     "text": [
      "100%|██████████| 1027/1027 [23:32<00:00,  1.38s/it]\n"
     ]
    }
   ],
   "source": [
    "path = RAW_DATA / 'MO-DOE-nitfix_specimen_photos'\n",
    "\n",
    "ingest_images(path)\n",
    "\n",
    "resolve_error(path, 'R0002933', 1, 'OK: Genuine duplicate')\n",
    "resolve_error(path, 'R0003226', 1, 'OK: Genuine duplicate')\n",
    "resolve_error(path, 'R0003663', 1, 'OK: Manually fixed')\n",
    "resolve_error(path, 'R0003509', 0, 'ERROR: Blurry image')\n",
    "\n",
    "manual_insert(path, 'R0003663', '2eea159f-3c25-42ef-837d-27ad545a6779')"
   ]
  },
  {
   "cell_type": "markdown",
   "metadata": {},
   "source": [
    "## Ingest New York Botanical Garden (2nd trip)"
   ]
  },
  {
   "cell_type": "code",
   "execution_count": 17,
   "metadata": {},
   "outputs": [
    {
     "name": "stderr",
     "output_type": "stream",
     "text": [
      "100%|██████████| 683/683 [16:52<00:00,  1.48s/it]\n"
     ]
    }
   ],
   "source": [
    "path = RAW_DATA / 'NY_visit_2'\n",
    "\n",
    "ingest_images(path)"
   ]
  },
  {
   "cell_type": "markdown",
   "metadata": {},
   "source": [
    "# Write Image Table to CSV File"
   ]
  },
  {
   "cell_type": "code",
   "execution_count": 18,
   "metadata": {},
   "outputs": [
    {
     "data": {
      "text/html": [
       "<div>\n",
       "<style scoped>\n",
       "    .dataframe tbody tr th:only-of-type {\n",
       "        vertical-align: middle;\n",
       "    }\n",
       "\n",
       "    .dataframe tbody tr th {\n",
       "        vertical-align: top;\n",
       "    }\n",
       "\n",
       "    .dataframe thead th {\n",
       "        text-align: right;\n",
       "    }\n",
       "</style>\n",
       "<table border=\"1\" class=\"dataframe\">\n",
       "  <thead>\n",
       "    <tr style=\"text-align: right;\">\n",
       "      <th></th>\n",
       "      <th>sample_id</th>\n",
       "      <th>file_name</th>\n",
       "    </tr>\n",
       "  </thead>\n",
       "  <tbody>\n",
       "    <tr>\n",
       "      <th>0</th>\n",
       "      <td>6fcdf583-e9bb-4764-84de-f277cc6ec6b7</td>\n",
       "      <td>../data/raw/DOE-nitfix_specimen_photos/R000000...</td>\n",
       "    </tr>\n",
       "    <tr>\n",
       "      <th>1</th>\n",
       "      <td>6fa18219-4958-4d75-8bf3-032fa909315c</td>\n",
       "      <td>../data/raw/DOE-nitfix_specimen_photos/R000000...</td>\n",
       "    </tr>\n",
       "    <tr>\n",
       "      <th>2</th>\n",
       "      <td>6f93bea8-43f4-45ad-95f5-ecad63f13037</td>\n",
       "      <td>../data/raw/DOE-nitfix_specimen_photos/R000000...</td>\n",
       "    </tr>\n",
       "    <tr>\n",
       "      <th>3</th>\n",
       "      <td>6f66cc88-3583-4e9b-97ea-03b1d681def8</td>\n",
       "      <td>../data/raw/DOE-nitfix_specimen_photos/R000000...</td>\n",
       "    </tr>\n",
       "    <tr>\n",
       "      <th>4</th>\n",
       "      <td>6f5bc099-ff55-4740-8a2f-e63466b47892</td>\n",
       "      <td>../data/raw/DOE-nitfix_specimen_photos/R000000...</td>\n",
       "    </tr>\n",
       "  </tbody>\n",
       "</table>\n",
       "</div>"
      ],
      "text/plain": [
       "                              sample_id  \\\n",
       "0  6fcdf583-e9bb-4764-84de-f277cc6ec6b7   \n",
       "1  6fa18219-4958-4d75-8bf3-032fa909315c   \n",
       "2  6f93bea8-43f4-45ad-95f5-ecad63f13037   \n",
       "3  6f66cc88-3583-4e9b-97ea-03b1d681def8   \n",
       "4  6f5bc099-ff55-4740-8a2f-e63466b47892   \n",
       "\n",
       "                                           file_name  \n",
       "0  ../data/raw/DOE-nitfix_specimen_photos/R000000...  \n",
       "1  ../data/raw/DOE-nitfix_specimen_photos/R000000...  \n",
       "2  ../data/raw/DOE-nitfix_specimen_photos/R000000...  \n",
       "3  ../data/raw/DOE-nitfix_specimen_photos/R000000...  \n",
       "4  ../data/raw/DOE-nitfix_specimen_photos/R000000...  "
      ]
     },
     "execution_count": 18,
     "metadata": {},
     "output_type": "execute_result"
    }
   ],
   "source": [
    "csv_name = 'images.csv'\n",
    "\n",
    "df = pd.read_sql('SELECT * FROM images', CXN)\n",
    "\n",
    "csv_path = PROCESSED_DATA / csv_name\n",
    "df.to_csv(csv_path, index=False)\n",
    "\n",
    "df.head()"
   ]
  },
  {
   "cell_type": "code",
   "execution_count": 19,
   "metadata": {},
   "outputs": [
    {
     "data": {
      "text/html": [
       "<div>\n",
       "<style scoped>\n",
       "    .dataframe tbody tr th:only-of-type {\n",
       "        vertical-align: middle;\n",
       "    }\n",
       "\n",
       "    .dataframe tbody tr th {\n",
       "        vertical-align: top;\n",
       "    }\n",
       "\n",
       "    .dataframe thead th {\n",
       "        text-align: right;\n",
       "    }\n",
       "</style>\n",
       "<table border=\"1\" class=\"dataframe\">\n",
       "  <thead>\n",
       "    <tr style=\"text-align: right;\">\n",
       "      <th></th>\n",
       "      <th>error_key</th>\n",
       "      <th>msg</th>\n",
       "      <th>ok</th>\n",
       "      <th>resolution</th>\n",
       "    </tr>\n",
       "  </thead>\n",
       "  <tbody>\n",
       "    <tr>\n",
       "      <th>0</th>\n",
       "      <td>../data/raw/DOE-nitfix_specimen_photos/R000014...</td>\n",
       "      <td>DUPLICATES: Files ../data/raw/DOE-nitfix_speci...</td>\n",
       "      <td>1.0</td>\n",
       "      <td>OK: Genuine duplicate</td>\n",
       "    </tr>\n",
       "    <tr>\n",
       "      <th>1</th>\n",
       "      <td>../data/raw/DOE-nitfix_specimen_photos/R000015...</td>\n",
       "      <td>DUPLICATES: Files ../data/raw/DOE-nitfix_speci...</td>\n",
       "      <td>1.0</td>\n",
       "      <td>OK: Genuine duplicate</td>\n",
       "    </tr>\n",
       "    <tr>\n",
       "      <th>2</th>\n",
       "      <td>../data/raw/DOE-nitfix_specimen_photos/R000015...</td>\n",
       "      <td>DUPLICATES: Files ../data/raw/DOE-nitfix_speci...</td>\n",
       "      <td>1.0</td>\n",
       "      <td>OK: Genuine duplicate</td>\n",
       "    </tr>\n",
       "    <tr>\n",
       "      <th>3</th>\n",
       "      <td>../data/raw/DOE-nitfix_specimen_photos/R000016...</td>\n",
       "      <td>DUPLICATES: Files ../data/raw/DOE-nitfix_speci...</td>\n",
       "      <td>1.0</td>\n",
       "      <td>OK: Genuine duplicate</td>\n",
       "    </tr>\n",
       "    <tr>\n",
       "      <th>4</th>\n",
       "      <td>../data/raw/DOE-nitfix_specimen_photos/R000067...</td>\n",
       "      <td>DUPLICATES: Files ../data/raw/DOE-nitfix_speci...</td>\n",
       "      <td>1.0</td>\n",
       "      <td>OK: Is a duplicate of R0000473</td>\n",
       "    </tr>\n",
       "  </tbody>\n",
       "</table>\n",
       "</div>"
      ],
      "text/plain": [
       "                                           error_key  \\\n",
       "0  ../data/raw/DOE-nitfix_specimen_photos/R000014...   \n",
       "1  ../data/raw/DOE-nitfix_specimen_photos/R000015...   \n",
       "2  ../data/raw/DOE-nitfix_specimen_photos/R000015...   \n",
       "3  ../data/raw/DOE-nitfix_specimen_photos/R000016...   \n",
       "4  ../data/raw/DOE-nitfix_specimen_photos/R000067...   \n",
       "\n",
       "                                                 msg   ok  \\\n",
       "0  DUPLICATES: Files ../data/raw/DOE-nitfix_speci...  1.0   \n",
       "1  DUPLICATES: Files ../data/raw/DOE-nitfix_speci...  1.0   \n",
       "2  DUPLICATES: Files ../data/raw/DOE-nitfix_speci...  1.0   \n",
       "3  DUPLICATES: Files ../data/raw/DOE-nitfix_speci...  1.0   \n",
       "4  DUPLICATES: Files ../data/raw/DOE-nitfix_speci...  1.0   \n",
       "\n",
       "                       resolution  \n",
       "0           OK: Genuine duplicate  \n",
       "1           OK: Genuine duplicate  \n",
       "2           OK: Genuine duplicate  \n",
       "3           OK: Genuine duplicate  \n",
       "4  OK: Is a duplicate of R0000473  "
      ]
     },
     "execution_count": 19,
     "metadata": {},
     "output_type": "execute_result"
    }
   ],
   "source": [
    "csv_name = 'errors.csv'\n",
    "\n",
    "df = pd.read_sql('SELECT * FROM errors', CXN)\n",
    "\n",
    "csv_path = PROCESSED_DATA / csv_name\n",
    "df.to_csv(csv_path, index=False)\n",
    "\n",
    "df.head()"
   ]
  },
  {
   "cell_type": "code",
   "execution_count": null,
   "metadata": {},
   "outputs": [],
   "source": []
  }
 ],
 "metadata": {
  "kernelspec": {
   "display_name": "Python 3",
   "language": "python",
   "name": "python3"
  },
  "language_info": {
   "codemirror_mode": {
    "name": "ipython",
    "version": 3
   },
   "file_extension": ".py",
   "mimetype": "text/x-python",
   "name": "python",
   "nbconvert_exporter": "python",
   "pygments_lexer": "ipython3",
   "version": "3.6.3"
  },
  "toc": {
   "nav_menu": {},
   "number_sections": true,
   "sideBar": true,
   "skip_h1_title": false,
   "title_cell": "Table of Contents",
   "title_sidebar": "Contents",
   "toc_cell": true,
   "toc_position": {},
   "toc_section_display": true,
   "toc_window_display": false
  }
 },
 "nbformat": 4,
 "nbformat_minor": 2
}
