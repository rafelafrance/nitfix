{
 "cells": [
  {
   "cell_type": "markdown",
   "metadata": {},
   "source": [
    "# Ingest images"
   ]
  },
  {
   "cell_type": "code",
   "execution_count": 1,
   "metadata": {},
   "outputs": [],
   "source": [
    "from glob import glob\n",
    "from pathlib import Path\n",
    "from collections import namedtuple\n",
    "\n",
    "from PIL import Image, ImageFilter\n",
    "import exifread\n",
    "import zbarlight\n",
    "from tqdm import tqdm\n",
    "\n",
    "import lib.db as db\n",
    "import lib.util as util\n",
    "from lib.dict_attr import DictAttrs"
   ]
  },
  {
   "cell_type": "code",
   "execution_count": 2,
   "metadata": {},
   "outputs": [],
   "source": [
    "Dimensions = namedtuple('Dimensions', 'width height')\n",
    "\n",
    "CXN = db.connect()\n",
    "RAW_DATA = Path('..') / 'data' / 'raw'"
   ]
  },
  {
   "cell_type": "markdown",
   "metadata": {},
   "source": [
    "### Create images and errors tables"
   ]
  },
  {
   "cell_type": "code",
   "execution_count": 3,
   "metadata": {},
   "outputs": [],
   "source": [
    "def create_images_table():\n",
    "    CXN.execute('DROP TABLE IF EXISTS images')\n",
    "    CXN.execute(\"\"\"\n",
    "        CREATE TABLE images (\n",
    "            sample_id TEXT PRIMARY KEY NOT NULL,\n",
    "            file_name TEXT NOT NULL UNIQUE\n",
    "        )\"\"\")"
   ]
  },
  {
   "cell_type": "code",
   "execution_count": 4,
   "metadata": {},
   "outputs": [],
   "source": [
    "def create_errors_table():\n",
    "    \"\"\"Create errors table for persisting errors.\"\"\"\n",
    "    CXN.execute('DROP TABLE IF EXISTS errors')\n",
    "    CXN.execute(\"\"\"\n",
    "        CREATE TABLE errors (\n",
    "            error_key   TEXT NOT NULL,\n",
    "            msg         TEXT,\n",
    "            ok          INTEGER,\n",
    "            resolution  TEXT\n",
    "        )\"\"\")\n",
    "    CXN.execute(\"\"\"CREATE INDEX error_idx ON errors (error_key)\"\"\")"
   ]
  },
  {
   "cell_type": "markdown",
   "metadata": {},
   "source": [
    "### Search the image for the sample ID (UUID)"
   ]
  },
  {
   "cell_type": "markdown",
   "metadata": {},
   "source": [
    "This is a helper function that slides a window over the image. It helps with feature extraction by limiting the search area."
   ]
  },
  {
   "cell_type": "code",
   "execution_count": 5,
   "metadata": {},
   "outputs": [],
   "source": [
    "def window_slider(image_size, window=None, stride=None):\n",
    "    window = window if window else Dimensions(400, 400)\n",
    "    stride = stride if stride else Dimensions(200, 200)\n",
    "\n",
    "    for top in range(0, image_size.height, stride.height):\n",
    "        bottom = top + window.height\n",
    "        bottom = image_size.height if bottom > image_size.height else bottom\n",
    "\n",
    "        for left in range(0, image_size.width, stride.width):\n",
    "            right = left + window.width\n",
    "            right = image_size.width if right > image_size.width else right\n",
    "\n",
    "            box = (left, top, right, bottom)\n",
    "\n",
    "            yield box"
   ]
  },
  {
   "cell_type": "markdown",
   "metadata": {},
   "source": [
    "Use various strategies to get the QR code from the image."
   ]
  },
  {
   "cell_type": "code",
   "execution_count": 6,
   "metadata": {},
   "outputs": [],
   "source": [
    "def get_qr_code(image):\n",
    "    # Try a direct extraction\n",
    "    qr_code = zbarlight.scan_codes('qrcode', image)\n",
    "    if qr_code:\n",
    "        return qr_code[0].decode('utf-8')\n",
    "\n",
    "    # Try a slider\n",
    "    for box in window_slider(image):\n",
    "        cropped = image.crop(box)\n",
    "        qr_code = zbarlight.scan_codes('qrcode', cropped)\n",
    "        if qr_code:\n",
    "            return qr_code[0].decode('utf-8')\n",
    "\n",
    "    # Try rotating the image *sigh*\n",
    "    for degrees in range(5, 85, 5):\n",
    "        rotated = image.rotate(degrees)\n",
    "        qr_code = zbarlight.scan_codes('qrcode', rotated)\n",
    "        if qr_code:\n",
    "            return qr_code[0].decode('utf-8')\n",
    "\n",
    "    # Try to sharpen the image\n",
    "    sharpened = image.filter(ImageFilter.SHARPEN)\n",
    "    qr_code = zbarlight.scan_codes('qrcode', sharpened)\n",
    "    if qr_code:\n",
    "        return qr_code[0].decode('utf-8')\n",
    "\n",
    "    return None"
   ]
  },
  {
   "cell_type": "markdown",
   "metadata": {},
   "source": [
    "Read in the image and process it further.\n"
   ]
  },
  {
   "cell_type": "code",
   "execution_count": 7,
   "metadata": {},
   "outputs": [],
   "source": [
    "def get_image_data(file_name):\n",
    "    with open(file_name, 'rb') as image_file:\n",
    "        # exif = exifread.process_file(image_file)\n",
    "        image = Image.open(image_file)\n",
    "        image.load()\n",
    "\n",
    "    qr_code = get_qr_code(image)\n",
    "\n",
    "    return qr_code"
   ]
  },
  {
   "cell_type": "markdown",
   "metadata": {},
   "source": [
    "### Ingest one image batch"
   ]
  },
  {
   "cell_type": "code",
   "execution_count": 8,
   "metadata": {},
   "outputs": [],
   "source": [
    "def ingest_images(dir_name):\n",
    "    pattern = str(dir_name / '*.JPG')\n",
    "\n",
    "    sample_ids = {}  # Keep track of already used sample_ids\n",
    "\n",
    "    images = []  # A batch of images to insert\n",
    "    errors = []  # A batch of errors to insert\n",
    "\n",
    "    files = sorted(glob(pattern))\n",
    "\n",
    "    for file_name in tqdm(files):\n",
    "        sample_id = get_image_data(file_name)\n",
    "\n",
    "        # Handle a missing sample ID\n",
    "        if not sample_id:\n",
    "            msg = 'MISSING: QR code missing in {}'.format(file_name)\n",
    "            errors.append((file_name, msg))\n",
    "\n",
    "        # Handle a duplicate sample ID\n",
    "        elif sample_ids.get(sample_id):\n",
    "            msg = ('DUPLICATES: Files {} and {} have the same '\n",
    "                   'QR code').format(sample_ids[sample_id], file_name)\n",
    "            errors.append((file_name, msg))\n",
    "\n",
    "        # The image seems OK\n",
    "        else:\n",
    "            sample_ids[sample_id] = file_name\n",
    "            images.append((sample_id, file_name))\n",
    "\n",
    "    # Insert the image and error batches\n",
    "    sql = 'INSERT INTO images (sample_id, file_name) VALUES (?, ?)'\n",
    "    CXN.executemany(sql, images)\n",
    "\n",
    "    sql = 'INSERT INTO errors (error_key, msg) VALUES (?, ?)'\n",
    "    CXN.executemany(sql, errors)\n",
    "\n",
    "    CXN.commit()"
   ]
  },
  {
   "cell_type": "markdown",
   "metadata": {},
   "source": [
    "### Resolve an error"
   ]
  },
  {
   "cell_type": "code",
   "execution_count": 9,
   "metadata": {},
   "outputs": [],
   "source": [
    "def resolve_error(dir_name, file_name, ok, resolution):\n",
    "    error_key = str(dir_name / f'{file_name}.JPG')\n",
    "    sql = 'UPDATE errors SET ok = ?, resolution = ? WHERE error_key = ?'\n",
    "    CXN.execute(sql, (ok, resolution, error_key))\n",
    "    CXN.commit()"
   ]
  },
  {
   "cell_type": "markdown",
   "metadata": {},
   "source": [
    "### Manually set an image record"
   ]
  },
  {
   "cell_type": "code",
   "execution_count": 10,
   "metadata": {},
   "outputs": [],
   "source": [
    "def manual_insert(dir_name, file_name, sample_id):\n",
    "    file_name = str(RAW_DATA / dir_name / f'{file_name}.JPG')\n",
    "    sql = 'INSERT INTO images (sample_id, file_name) VALUES (?, ?)'\n",
    "    CXN.execute(sql, (sample_id, file_name))\n",
    "    CXN.commit()"
   ]
  },
  {
   "cell_type": "markdown",
   "metadata": {},
   "source": [
    "### Create tables"
   ]
  },
  {
   "cell_type": "code",
   "execution_count": 11,
   "metadata": {},
   "outputs": [],
   "source": [
    "create_images_table()\n",
    "create_errors_table()"
   ]
  },
  {
   "cell_type": "markdown",
   "metadata": {},
   "source": [
    "### Ingest New York Botanical Garden (1st trip)"
   ]
  },
  {
   "cell_type": "code",
   "execution_count": 12,
   "metadata": {},
   "outputs": [
    {
     "name": "stderr",
     "output_type": "stream",
     "text": [
      "100%|██████████| 1236/1236 [29:43<00:00,  1.44s/it]\n"
     ]
    }
   ],
   "source": [
    "path = RAW_DATA / 'DOE-nitfix_specimen_photos'\n",
    "\n",
    "ingest_images(path)\n",
    "\n",
    "resolve_error(path, 'R0000149', 1, 'OK: Genuine duplicate')\n",
    "resolve_error(path, 'R0000151', 1, 'OK: Genuine duplicate')\n",
    "resolve_error(path, 'R0000158', 1, 'OK: Genuine duplicate')\n",
    "resolve_error(path, 'R0000165', 1, 'OK: Genuine duplicate')\n",
    "resolve_error(path, 'R0000674', 1, 'OK: Is a duplicate of R0000473')\n",
    "resolve_error(path, 'R0000835', 1, 'OK: Is a duplicate of R0000836')\n",
    "resolve_error(path, 'R0000895', 1, 'OK: Genuine duplicate')\n",
    "resolve_error(path, 'R0000937', 1, 'OK: Genuine duplicate')\n",
    "resolve_error(path, 'R0001055', 1, 'OK: Genuine duplicate')"
   ]
  },
  {
   "cell_type": "markdown",
   "metadata": {},
   "source": [
    "### Ingest Harvard Herbaria"
   ]
  },
  {
   "cell_type": "code",
   "execution_count": 13,
   "metadata": {},
   "outputs": [
    {
     "name": "stderr",
     "output_type": "stream",
     "text": [
      "100%|██████████| 483/483 [12:13<00:00,  1.52s/it]\n"
     ]
    }
   ],
   "source": [
    "path = RAW_DATA / 'HUH_DOE-nitfix_specimen_photos'\n",
    "\n",
    "ingest_images(path)\n",
    "\n",
    "resolve_error(path, 'R0001262', 1, 'OK: Is a duplicate of R0001263')\n",
    "resolve_error(path, 'R0001729', 1, 'OK: Is a duplicate of R0001728')"
   ]
  },
  {
   "cell_type": "markdown",
   "metadata": {},
   "source": [
    "### Ingest Ohio State University Herbarium"
   ]
  },
  {
   "cell_type": "code",
   "execution_count": 14,
   "metadata": {},
   "outputs": [
    {
     "name": "stderr",
     "output_type": "stream",
     "text": [
      "100%|██████████| 688/688 [15:29<00:00,  1.35s/it]\n"
     ]
    }
   ],
   "source": [
    "path = RAW_DATA / 'OS_DOE-nitfix_specimen_photos'\n",
    "\n",
    "ingest_images(path)\n",
    "\n",
    "resolve_error(path, 'R0000229', 1, 'OK: Genuine duplicate')\n",
    "resolve_error(path, 'R0001835', 1, 'OK: Genuine duplicate')\n",
    "resolve_error(path, 'R0001898', 1, 'OK: Genuine duplicate')"
   ]
  },
  {
   "cell_type": "markdown",
   "metadata": {},
   "source": [
    "### Ingest California Academy of Sciences Herbarium"
   ]
  },
  {
   "cell_type": "code",
   "execution_count": 15,
   "metadata": {},
   "outputs": [
    {
     "name": "stderr",
     "output_type": "stream",
     "text": [
      "100%|██████████| 2412/2412 [56:43<00:00,  1.41s/it]\n"
     ]
    }
   ],
   "source": [
    "path = RAW_DATA / 'CAS-DOE-nitfix_specimen_photos'\n",
    "\n",
    "ingest_images(path)\n",
    "\n",
    "resolve_error(path, 'R0001361', 1, 'OK: Genuine duplicate')\n",
    "resolve_error(path, 'R0002349', 1, 'OK: Genuine duplicate')"
   ]
  },
  {
   "cell_type": "markdown",
   "metadata": {},
   "source": [
    "### Ingest Missouri Botanical Garden"
   ]
  },
  {
   "cell_type": "code",
   "execution_count": 16,
   "metadata": {},
   "outputs": [
    {
     "name": "stderr",
     "output_type": "stream",
     "text": [
      "100%|██████████| 1027/1027 [23:25<00:00,  1.37s/it]\n"
     ]
    }
   ],
   "source": [
    "path = RAW_DATA / 'MO-DOE-nitfix_specimen_photos'\n",
    "\n",
    "ingest_images(path)\n",
    "\n",
    "resolve_error(path, 'R0002933', 1, 'OK: Genuine duplicate')\n",
    "resolve_error(path, 'R0003226', 1, 'OK: Genuine duplicate')\n",
    "resolve_error(path, 'R0003663', 1, 'OK: Manually fixed')\n",
    "resolve_error(path, 'R0003509', 0, 'ERROR: Blurry image')\n",
    "\n",
    "manual_insert(path, 'R0003663', '2eea159f-3c25-42ef-837d-27ad545a6779')"
   ]
  },
  {
   "cell_type": "markdown",
   "metadata": {},
   "source": [
    "### Ingest New York Botanical Garden (2nd trip)"
   ]
  },
  {
   "cell_type": "code",
   "execution_count": 18,
   "metadata": {},
   "outputs": [
    {
     "name": "stderr",
     "output_type": "stream",
     "text": [
      "100%|██████████| 606/606 [14:34<00:00,  1.44s/it]\n"
     ]
    }
   ],
   "source": [
    "path = RAW_DATA / 'NY_visit_2'\n",
    "\n",
    "ingest_images(path)"
   ]
  },
  {
   "cell_type": "code",
   "execution_count": null,
   "metadata": {},
   "outputs": [],
   "source": []
  }
 ],
 "metadata": {
  "kernelspec": {
   "display_name": "Python 3",
   "language": "python",
   "name": "python3"
  },
  "language_info": {
   "codemirror_mode": {
    "name": "ipython",
    "version": 3
   },
   "file_extension": ".py",
   "mimetype": "text/x-python",
   "name": "python",
   "nbconvert_exporter": "python",
   "pygments_lexer": "ipython3",
   "version": "3.6.3"
  }
 },
 "nbformat": 4,
 "nbformat_minor": 2
}
