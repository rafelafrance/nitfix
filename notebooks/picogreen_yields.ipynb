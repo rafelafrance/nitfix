{
 "cells": [
  {
   "cell_type": "code",
   "execution_count": 1,
   "metadata": {},
   "outputs": [],
   "source": [
    "%matplotlib inline\n",
    "\n",
    "import numpy as np\n",
    "import pandas as pd\n",
    "import matplotlib.pyplot as plt\n",
    "\n",
    "import lib.db as db"
   ]
  },
  {
   "cell_type": "code",
   "execution_count": 2,
   "metadata": {},
   "outputs": [
    {
     "data": {
      "text/html": [
       "<div>\n",
       "<style scoped>\n",
       "    .dataframe tbody tr th:only-of-type {\n",
       "        vertical-align: middle;\n",
       "    }\n",
       "\n",
       "    .dataframe tbody tr th {\n",
       "        vertical-align: top;\n",
       "    }\n",
       "\n",
       "    .dataframe thead th {\n",
       "        text-align: right;\n",
       "    }\n",
       "</style>\n",
       "<table border=\"1\" class=\"dataframe\">\n",
       "  <thead>\n",
       "    <tr style=\"text-align: right;\">\n",
       "      <th></th>\n",
       "      <th>picogreen_id</th>\n",
       "      <th>well</th>\n",
       "      <th>rfu</th>\n",
       "      <th>ng_microliter</th>\n",
       "      <th>ng_microliter_mean</th>\n",
       "      <th>quant_method</th>\n",
       "      <th>quant_date</th>\n",
       "      <th>sample_id</th>\n",
       "    </tr>\n",
       "  </thead>\n",
       "  <tbody>\n",
       "    <tr>\n",
       "      <th>0</th>\n",
       "      <td>13_02</td>\n",
       "      <td></td>\n",
       "      <td></td>\n",
       "      <td></td>\n",
       "      <td></td>\n",
       "      <td></td>\n",
       "      <td></td>\n",
       "      <td>e58072c6-ce0f-4029-9246-9756c391d944</td>\n",
       "    </tr>\n",
       "    <tr>\n",
       "      <th>1</th>\n",
       "      <td>13_01</td>\n",
       "      <td>A1</td>\n",
       "      <td>195.286</td>\n",
       "      <td>9.64549</td>\n",
       "      <td>10.18926376</td>\n",
       "      <td>picogreen</td>\n",
       "      <td>2_15_18</td>\n",
       "      <td>c84c6871-887f-479e-bf1e-ff1c68b1c490</td>\n",
       "    </tr>\n",
       "    <tr>\n",
       "      <th>2</th>\n",
       "      <td></td>\n",
       "      <td>B1</td>\n",
       "      <td>217.399</td>\n",
       "      <td>10.733</td>\n",
       "      <td>NA</td>\n",
       "      <td>picogreen</td>\n",
       "      <td>2_15_18</td>\n",
       "      <td></td>\n",
       "    </tr>\n",
       "    <tr>\n",
       "      <th>3</th>\n",
       "      <td>13_02</td>\n",
       "      <td>A2</td>\n",
       "      <td>1149.629</td>\n",
       "      <td>56.5812</td>\n",
       "      <td>65.82438892</td>\n",
       "      <td>picogreen</td>\n",
       "      <td>2_15_18</td>\n",
       "      <td>e58072c6-ce0f-4029-9246-9756c391d944</td>\n",
       "    </tr>\n",
       "    <tr>\n",
       "      <th>4</th>\n",
       "      <td></td>\n",
       "      <td>B2</td>\n",
       "      <td>1525.514</td>\n",
       "      <td>75.0676</td>\n",
       "      <td>NA</td>\n",
       "      <td>picogreen</td>\n",
       "      <td>2_15_18</td>\n",
       "      <td></td>\n",
       "    </tr>\n",
       "  </tbody>\n",
       "</table>\n",
       "</div>"
      ],
      "text/plain": [
       "  picogreen_id well       rfu ng_microliter ng_microliter_mean quant_method  \\\n",
       "0        13_02                                                                \n",
       "1        13_01   A1   195.286       9.64549        10.18926376    picogreen   \n",
       "2                B1   217.399        10.733                 NA    picogreen   \n",
       "3        13_02   A2  1149.629       56.5812        65.82438892    picogreen   \n",
       "4                B2  1525.514       75.0676                 NA    picogreen   \n",
       "\n",
       "  quant_date                             sample_id  \n",
       "0             e58072c6-ce0f-4029-9246-9756c391d944  \n",
       "1    2_15_18  c84c6871-887f-479e-bf1e-ff1c68b1c490  \n",
       "2    2_15_18                                        \n",
       "3    2_15_18  e58072c6-ce0f-4029-9246-9756c391d944  \n",
       "4    2_15_18                                        "
      ]
     },
     "execution_count": 2,
     "metadata": {},
     "output_type": "execute_result"
    }
   ],
   "source": [
    "cnx = db.connect()\n",
    "\n",
    "pico = pd.read_sql('SELECT * FROM picogreen', cnx)\n",
    "pico.head()"
   ]
  },
  {
   "cell_type": "code",
   "execution_count": 3,
   "metadata": {},
   "outputs": [
    {
     "data": {
      "text/plain": [
       "534"
      ]
     },
     "execution_count": 3,
     "metadata": {},
     "output_type": "execute_result"
    }
   ],
   "source": [
    "has_id = pico['picogreen_id'].str.match(r'\\d\\d_\\d\\d')\n",
    "has_yield = pd.to_numeric(pico['ng_microliter_mean'], errors='coerce').notna()\n",
    "\n",
    "yields = pd.to_numeric(pico[has_id & has_yield]['ng_microliter_mean'])\n",
    "yields.head()"
   ]
  },
  {
   "cell_type": "code",
   "execution_count": 4,
   "metadata": {},
   "outputs": [
    {
     "data": {
      "image/png": "[encoded data removed]",
      "text/plain": [
       "<Figure size 720x720 with 1 Axes>"
      ]
     },
     "metadata": {},
     "output_type": "display_data"
    }
   ],
   "source": [
    "bins = 50\n",
    "\n",
    "plt.subplots(figsize=(10, 10))\n",
    "plt.title(f'Number of extracts with yield ({yields.count()} total, {bins} bin)')\n",
    "plt.xlabel(r'Mean yields (ng/$\\mu$l)')\n",
    "plt.ylabel('Count')\n",
    "plt.grid(True)\n",
    "plt.hist(yields, bins=bins, rwidth=0.9)\n",
    "plt.show()"
   ]
  }
 ],
 "metadata": {
  "kernelspec": {
   "display_name": "Python 3",
   "language": "python",
   "name": "python3"
  },
  "language_info": {
   "codemirror_mode": {
    "name": "ipython",
    "version": 3
   },
   "file_extension": ".py",
   "mimetype": "text/x-python",
   "name": "python",
   "nbconvert_exporter": "python",
   "pygments_lexer": "ipython3",
   "version": "3.6.3"
  }
 },
 "nbformat": 4,
 "nbformat_minor": 2
}
