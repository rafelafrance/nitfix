{
 "cells": [
  {
   "cell_type": "code",
   "execution_count": 1,
   "metadata": {
    "ExecuteTime": {
     "end_time": "2020-04-09T17:41:03.576029Z",
     "start_time": "2020-04-09T17:41:03.573661Z"
    }
   },
   "outputs": [],
   "source": [
    "import sys\n",
    "sys.path.append('..')"
   ]
  },
  {
   "cell_type": "code",
   "execution_count": 34,
   "metadata": {
    "ExecuteTime": {
     "end_time": "2020-04-09T18:07:59.871178Z",
     "start_time": "2020-04-09T18:07:59.867665Z"
    }
   },
   "outputs": [],
   "source": [
    "import os\n",
    "from os.path import dirname\n",
    "from pathlib import Path\n",
    "from PIL import Image\n",
    "import pandas as pd\n",
    "import nitfix.lib.db as db\n",
    "import nitfix.lib.util as util"
   ]
  },
  {
   "cell_type": "code",
   "execution_count": 28,
   "metadata": {
    "ExecuteTime": {
     "end_time": "2020-04-09T18:06:41.446910Z",
     "start_time": "2020-04-09T18:06:41.442683Z"
    }
   },
   "outputs": [],
   "source": [
    "cxn = db.connect()\n",
    "\n",
    "DATA_DIR = Path('..') / 'data'\n",
    "SAMPLE_DIR = DATA_DIR / 'raw' / 'sampled_images'\n",
    "\n",
    "THE_2400_MANIFEST = SAMPLE_DIR / 'nitfix_sample_2020-04-07a.csv'\n",
    "THE_2400_IMAGES = SAMPLE_DIR / 'nitfix_sample_2020-04-07a'\n",
    "\n",
    "THE_100_NAME = 'nitfix_sample_100_2020-04-09a'\n",
    "THE_100_MANIFEST = SAMPLE_DIR / (THE_100_NAME + '.csv')\n",
    "THE_100_IMAGES = SAMPLE_DIR / THE_100_NAME\n",
    "\n",
    "PHOTOS = DATA_DIR / 'raw' / 'photos'\n",
    "TEMP_DIR = DATA_DIR / 'temp'"
   ]
  },
  {
   "cell_type": "code",
   "execution_count": 4,
   "metadata": {
    "ExecuteTime": {
     "end_time": "2020-04-09T17:41:05.381155Z",
     "start_time": "2020-04-09T17:41:05.368488Z"
    }
   },
   "outputs": [
    {
     "data": {
      "text/plain": [
       "(3539, 2)"
      ]
     },
     "execution_count": 4,
     "metadata": {},
     "output_type": "execute_result"
    }
   ],
   "source": [
    "sql = \"\"\"SELECT * FROM images WHERE image_file LIKE '%NY_DOE%';\"\"\"\n",
    "df = pd.read_sql(sql, cxn)\n",
    "df.shape"
   ]
  },
  {
   "cell_type": "code",
   "execution_count": 6,
   "metadata": {
    "ExecuteTime": {
     "end_time": "2020-04-09T17:43:36.950584Z",
     "start_time": "2020-04-09T17:43:36.943260Z"
    }
   },
   "outputs": [
    {
     "data": {
      "text/html": [
       "<div>\n",
       "<style scoped>\n",
       "    .dataframe tbody tr th:only-of-type {\n",
       "        vertical-align: middle;\n",
       "    }\n",
       "\n",
       "    .dataframe tbody tr th {\n",
       "        vertical-align: top;\n",
       "    }\n",
       "\n",
       "    .dataframe thead th {\n",
       "        text-align: right;\n",
       "    }\n",
       "</style>\n",
       "<table border=\"1\" class=\"dataframe\">\n",
       "  <thead>\n",
       "    <tr style=\"text-align: right;\">\n",
       "      <th></th>\n",
       "      <th>image_file</th>\n",
       "      <th>sample_id</th>\n",
       "    </tr>\n",
       "  </thead>\n",
       "  <tbody>\n",
       "    <tr>\n",
       "      <th>0</th>\n",
       "      <td>NY_DOE-nitfix_visit3/R0004890.JPG</td>\n",
       "      <td>655cbcbb-19f8-4664-9eb5-e59291dbbd37</td>\n",
       "    </tr>\n",
       "    <tr>\n",
       "      <th>1</th>\n",
       "      <td>NY_DOE-nitfix_visit3/R0004891.JPG</td>\n",
       "      <td>65527f87-8e12-4c15-91e6-1aa2f282f1b7</td>\n",
       "    </tr>\n",
       "    <tr>\n",
       "      <th>2</th>\n",
       "      <td>NY_DOE-nitfix_visit3/R0004892.JPG</td>\n",
       "      <td>6552469c-0952-4185-8b93-7fde26747b0e</td>\n",
       "    </tr>\n",
       "    <tr>\n",
       "      <th>3</th>\n",
       "      <td>NY_DOE-nitfix_visit3/R0004893.JPG</td>\n",
       "      <td>653fc52a-c880-4507-96b4-eaf3f2db2218</td>\n",
       "    </tr>\n",
       "    <tr>\n",
       "      <th>4</th>\n",
       "      <td>NY_DOE-nitfix_visit3/R0004894.JPG</td>\n",
       "      <td>653bfbc9-a3a5-4464-b8cd-574b5db4e96e</td>\n",
       "    </tr>\n",
       "  </tbody>\n",
       "</table>\n",
       "</div>"
      ],
      "text/plain": [
       "                          image_file                             sample_id\n",
       "0  NY_DOE-nitfix_visit3/R0004890.JPG  655cbcbb-19f8-4664-9eb5-e59291dbbd37\n",
       "1  NY_DOE-nitfix_visit3/R0004891.JPG  65527f87-8e12-4c15-91e6-1aa2f282f1b7\n",
       "2  NY_DOE-nitfix_visit3/R0004892.JPG  6552469c-0952-4185-8b93-7fde26747b0e\n",
       "3  NY_DOE-nitfix_visit3/R0004893.JPG  653fc52a-c880-4507-96b4-eaf3f2db2218\n",
       "4  NY_DOE-nitfix_visit3/R0004894.JPG  653bfbc9-a3a5-4464-b8cd-574b5db4e96e"
      ]
     },
     "execution_count": 6,
     "metadata": {},
     "output_type": "execute_result"
    }
   ],
   "source": [
    "df.head()"
   ]
  },
  {
   "cell_type": "code",
   "execution_count": 8,
   "metadata": {
    "ExecuteTime": {
     "end_time": "2020-04-09T17:45:11.901471Z",
     "start_time": "2020-04-09T17:45:11.893057Z"
    }
   },
   "outputs": [
    {
     "data": {
      "text/plain": [
       "(2400,)"
      ]
     },
     "execution_count": 8,
     "metadata": {},
     "output_type": "execute_result"
    }
   ],
   "source": [
    "used = pd.read_csv(THE_2400_MANIFEST)['image_file']\n",
    "used.shape"
   ]
  },
  {
   "cell_type": "code",
   "execution_count": 10,
   "metadata": {
    "ExecuteTime": {
     "end_time": "2020-04-09T17:47:13.693327Z",
     "start_time": "2020-04-09T17:47:13.688265Z"
    }
   },
   "outputs": [
    {
     "data": {
      "text/plain": [
       "(3017, 2)"
      ]
     },
     "execution_count": 10,
     "metadata": {},
     "output_type": "execute_result"
    }
   ],
   "source": [
    "df2 = df.loc[df['image_file'].isin(used) == False, :]\n",
    "df2.shape"
   ]
  },
  {
   "cell_type": "code",
   "execution_count": 11,
   "metadata": {
    "ExecuteTime": {
     "end_time": "2020-04-09T17:50:42.641715Z",
     "start_time": "2020-04-09T17:50:42.637767Z"
    }
   },
   "outputs": [
    {
     "data": {
      "text/plain": [
       "(100, 2)"
      ]
     },
     "execution_count": 11,
     "metadata": {},
     "output_type": "execute_result"
    }
   ],
   "source": [
    "df3 = df2.sample(n=100)\n",
    "df3.shape"
   ]
  },
  {
   "cell_type": "code",
   "execution_count": 13,
   "metadata": {
    "ExecuteTime": {
     "end_time": "2020-04-09T17:52:28.533264Z",
     "start_time": "2020-04-09T17:52:28.526852Z"
    }
   },
   "outputs": [],
   "source": [
    "df3['manifest_file'] = df3['image_file'].str.replace('/', '_')"
   ]
  },
  {
   "cell_type": "code",
   "execution_count": 14,
   "metadata": {
    "ExecuteTime": {
     "end_time": "2020-04-09T17:52:29.197297Z",
     "start_time": "2020-04-09T17:52:29.190880Z"
    }
   },
   "outputs": [
    {
     "data": {
      "text/html": [
       "<div>\n",
       "<style scoped>\n",
       "    .dataframe tbody tr th:only-of-type {\n",
       "        vertical-align: middle;\n",
       "    }\n",
       "\n",
       "    .dataframe tbody tr th {\n",
       "        vertical-align: top;\n",
       "    }\n",
       "\n",
       "    .dataframe thead th {\n",
       "        text-align: right;\n",
       "    }\n",
       "</style>\n",
       "<table border=\"1\" class=\"dataframe\">\n",
       "  <thead>\n",
       "    <tr style=\"text-align: right;\">\n",
       "      <th></th>\n",
       "      <th>image_file</th>\n",
       "      <th>sample_id</th>\n",
       "      <th>manifest_file</th>\n",
       "    </tr>\n",
       "  </thead>\n",
       "  <tbody>\n",
       "    <tr>\n",
       "      <th>1370</th>\n",
       "      <td>NY_DOE-nitfix_visit4/R0006285.JPG</td>\n",
       "      <td>2d205bb7-3788-4326-b4bc-1f38c84fb003</td>\n",
       "      <td>NY_DOE-nitfix_visit4_R0006285.JPG</td>\n",
       "    </tr>\n",
       "    <tr>\n",
       "      <th>2665</th>\n",
       "      <td>NY_DOE-nitfix_visit5/R0007589.JPG</td>\n",
       "      <td>cae3f489-4c32-44cb-9bac-668f27cec5dd</td>\n",
       "      <td>NY_DOE-nitfix_visit5_R0007589.JPG</td>\n",
       "    </tr>\n",
       "    <tr>\n",
       "      <th>1724</th>\n",
       "      <td>NY_DOE-nitfix_visit4/R0006643.JPG</td>\n",
       "      <td>f32d9c33-69cc-45ac-ad29-b1f1c3ed2d23</td>\n",
       "      <td>NY_DOE-nitfix_visit4_R0006643.JPG</td>\n",
       "    </tr>\n",
       "    <tr>\n",
       "      <th>1377</th>\n",
       "      <td>NY_DOE-nitfix_visit4/R0006292.JPG</td>\n",
       "      <td>2cf5dfab-f821-4394-a798-b5515fd3da67</td>\n",
       "      <td>NY_DOE-nitfix_visit4_R0006292.JPG</td>\n",
       "    </tr>\n",
       "    <tr>\n",
       "      <th>1289</th>\n",
       "      <td>NY_DOE-nitfix_visit4/R0006200.JPG</td>\n",
       "      <td>2b678ccf-8316-44cd-8625-342f99c886b1</td>\n",
       "      <td>NY_DOE-nitfix_visit4_R0006200.JPG</td>\n",
       "    </tr>\n",
       "  </tbody>\n",
       "</table>\n",
       "</div>"
      ],
      "text/plain": [
       "                             image_file                             sample_id  \\\n",
       "1370  NY_DOE-nitfix_visit4/R0006285.JPG  2d205bb7-3788-4326-b4bc-1f38c84fb003   \n",
       "2665  NY_DOE-nitfix_visit5/R0007589.JPG  cae3f489-4c32-44cb-9bac-668f27cec5dd   \n",
       "1724  NY_DOE-nitfix_visit4/R0006643.JPG  f32d9c33-69cc-45ac-ad29-b1f1c3ed2d23   \n",
       "1377  NY_DOE-nitfix_visit4/R0006292.JPG  2cf5dfab-f821-4394-a798-b5515fd3da67   \n",
       "1289  NY_DOE-nitfix_visit4/R0006200.JPG  2b678ccf-8316-44cd-8625-342f99c886b1   \n",
       "\n",
       "                          manifest_file  \n",
       "1370  NY_DOE-nitfix_visit4_R0006285.JPG  \n",
       "2665  NY_DOE-nitfix_visit5_R0007589.JPG  \n",
       "1724  NY_DOE-nitfix_visit4_R0006643.JPG  \n",
       "1377  NY_DOE-nitfix_visit4_R0006292.JPG  \n",
       "1289  NY_DOE-nitfix_visit4_R0006200.JPG  "
      ]
     },
     "execution_count": 14,
     "metadata": {},
     "output_type": "execute_result"
    }
   ],
   "source": [
    "df3.head()"
   ]
  },
  {
   "cell_type": "code",
   "execution_count": 35,
   "metadata": {
    "ExecuteTime": {
     "end_time": "2020-04-09T18:08:03.096575Z",
     "start_time": "2020-04-09T18:08:03.087269Z"
    }
   },
   "outputs": [],
   "source": [
    "def zip_images(images, image_dir):\n",
    "    \"\"\"Shrink and rotate images and then put them into a zip file.\"\"\"\n",
    "    image_zip_dir = TEMP_DIR / image_dir\n",
    "    os.makedirs(image_zip_dir, exist_ok=True)\n",
    "\n",
    "    for _, image_file in images.image_file.iteritems():\n",
    "        src = PHOTOS / image_file\n",
    "        dst = image_zip_dir / image_file.replace('/', '_')\n",
    "        original = Image.open(src)\n",
    "        transformed = original.resize((\n",
    "            int(original.size[0] * 0.75),\n",
    "            int(original.size[1] * 0.75)))\n",
    "        dir_name = dirname(image_file)\n",
    "        if original.size[0] > original.size[1]:\n",
    "            if (dir_name.startswith('Tingshuang')\n",
    "                    and dir_name != 'Tingshuang_US_nitfix_photos') \\\n",
    "               or dir_name in (\n",
    "                   'MO-DOE-nitfix_visit3', 'NY_DOE-nitfix_visit3',\n",
    "                   'NY_DOE-nitfix_visit4', 'NY_DOE-nitfix_visit5'):\n",
    "                transformed = transformed.transpose(Image.ROTATE_90)\n",
    "            else:\n",
    "                transformed = transformed.transpose(Image.ROTATE_270)\n",
    "        transformed.save(dst)\n"
   ]
  },
  {
   "cell_type": "code",
   "execution_count": 37,
   "metadata": {
    "ExecuteTime": {
     "end_time": "2020-04-09T18:09:28.792012Z",
     "start_time": "2020-04-09T18:09:28.787773Z"
    }
   },
   "outputs": [],
   "source": [
    "df3.to_csv(THE_100_MANIFEST, index=False)"
   ]
  },
  {
   "cell_type": "code",
   "execution_count": 36,
   "metadata": {
    "ExecuteTime": {
     "end_time": "2020-04-09T18:09:08.481080Z",
     "start_time": "2020-04-09T18:08:07.209070Z"
    },
    "scrolled": true
   },
   "outputs": [
    {
     "name": "stdout",
     "output_type": "stream",
     "text": [
      "NY_DOE-nitfix_visit4/R0006285.JPG\n",
      "NY_DOE-nitfix_visit5/R0007589.JPG\n",
      "NY_DOE-nitfix_visit4/R0006643.JPG\n",
      "NY_DOE-nitfix_visit4/R0006292.JPG\n",
      "NY_DOE-nitfix_visit4/R0006200.JPG\n",
      "NY_DOE-nitfix_visit4/R0007081.JPG\n",
      "NY_DOE-nitfix_visit5/R0007851.JPG\n",
      "NY_DOE-nitfix_visit4/R0006471.JPG\n",
      "NY_DOE-nitfix_visit3/R0005169.JPG\n",
      "NY_DOE-nitfix_visit5/R0007859.JPG\n",
      "NY_DOE-nitfix_visit3/R0005069.JPG\n",
      "NY_DOE-nitfix_visit3/R0005788.JPG\n",
      "NY_DOE-nitfix_visit4/R0006483.JPG\n",
      "NY_DOE-nitfix_visit4/R0006007.JPG\n",
      "NY_DOE-nitfix_visit4/R0006804.JPG\n",
      "NY_DOE-nitfix_visit5/R0008338.JPG\n",
      "NY_DOE-nitfix_visit5/R0007667.JPG\n",
      "NY_DOE-nitfix_visit5/R0008470.JPG\n",
      "NY_DOE-nitfix_visit4/R0006734.JPG\n",
      "NY_DOE-nitfix_visit4/R0006180.JPG\n",
      "NY_DOE-nitfix_visit5/R0008135.JPG\n",
      "NY_DOE-nitfix_visit4/R0006862.JPG\n",
      "NY_DOE-nitfix_visit5/R0007564.JPG\n",
      "NY_DOE-nitfix_visit3/R0005638.JPG\n",
      "NY_DOE-nitfix_visit3/R0005608.JPG\n",
      "NY_DOE-nitfix_visit4/R0006422.JPG\n",
      "NY_DOE-nitfix_visit3/R0005089.JPG\n",
      "NY_DOE-nitfix_visit3/R0005450.JPG\n",
      "NY_DOE-nitfix_visit5/R0008331.JPG\n",
      "NY_DOE-nitfix_visit4/R0007137.JPG\n",
      "NY_DOE-nitfix_visit5/R0007401.JPG\n",
      "NY_DOE-nitfix_visit3/R0004982.JPG\n",
      "NY_DOE-nitfix_visit4/R0007105.JPG\n",
      "NY_DOE-nitfix_visit4/R0006374.JPG\n",
      "NY_DOE-nitfix_visit4/R0006197.JPG\n",
      "NY_DOE-nitfix_visit3/R0005975.JPG\n",
      "NY_DOE-nitfix_visit3/R0005673.JPG\n",
      "NY_DOE-nitfix_visit4/R0006530.JPG\n",
      "NY_DOE-nitfix_visit5/R0008036.JPG\n",
      "NY_DOE-nitfix_visit5/R0007572.JPG\n",
      "NY_DOE-nitfix_visit3/R0005500.JPG\n",
      "NY_DOE-nitfix_visit5/R0008172.JPG\n",
      "NY_DOE-nitfix_visit3/R0005853.JPG\n",
      "NY_DOE-nitfix_visit4/R0007240.JPG\n",
      "NY_DOE-nitfix_visit4/R0006978.JPG\n",
      "NY_DOE-nitfix_visit3/R0005063.JPG\n",
      "NY_DOE-nitfix_visit5/R0007554.JPG\n",
      "NY_DOE-nitfix_visit5/R0007768.JPG\n",
      "NY_DOE-nitfix_visit4/R0006814.JPG\n",
      "NY_DOE-nitfix_visit5/R0007777.JPG\n",
      "NY_DOE-nitfix_visit4/R0007235.JPG\n",
      "NY_DOE-nitfix_visit4/R0006537.JPG\n",
      "NY_DOE-nitfix_visit5/R0007430.JPG\n",
      "NY_DOE-nitfix_visit4/R0006856.JPG\n",
      "NY_DOE-nitfix_visit5/R0007805.JPG\n",
      "NY_DOE-nitfix_visit4/R0006325.JPG\n",
      "NY_DOE-nitfix_visit3/R0005070.JPG\n",
      "NY_DOE-nitfix_visit3/R0005866.JPG\n",
      "NY_DOE-nitfix_visit3/R0005355.JPG\n",
      "NY_DOE-nitfix_visit5/R0007610.JPG\n",
      "NY_DOE-nitfix_visit5/R0008315.JPG\n",
      "NY_DOE-nitfix_visit4/R0006462.JPG\n",
      "NY_DOE-nitfix_visit5/R0008057.JPG\n",
      "NY_DOE-nitfix_visit3/R0005684.JPG\n",
      "NY_DOE-nitfix_visit3/R0005737.JPG\n",
      "NY_DOE-nitfix_visit4/R0007162.JPG\n",
      "NY_DOE-nitfix_visit5/R0008145.JPG\n",
      "NY_DOE-nitfix_visit5/R0007895.JPG\n",
      "NY_DOE-nitfix_visit4/R0006037.JPG\n",
      "NY_DOE-nitfix_visit5/R0007586.JPG\n",
      "NY_DOE-nitfix_visit3/R0005234.JPG\n",
      "NY_DOE-nitfix_visit4/R0006086.JPG\n",
      "NY_DOE-nitfix_visit4/R0006650.JPG\n",
      "NY_DOE-nitfix_visit5/R0007901.JPG\n",
      "NY_DOE-nitfix_visit5/R0008307.JPG\n",
      "NY_DOE-nitfix_visit4/R0006455.JPG\n",
      "NY_DOE-nitfix_visit5/R0008193.JPG\n",
      "NY_DOE-nitfix_visit4/R0007209.JPG\n",
      "NY_DOE-nitfix_visit5/R0008196.JPG\n",
      "NY_DOE-nitfix_visit5/R0008151.JPG\n",
      "NY_DOE-nitfix_visit5/R0007976.JPG\n",
      "NY_DOE-nitfix_visit4/R0006817.JPG\n",
      "NY_DOE-nitfix_visit3/R0004985.JPG\n",
      "NY_DOE-nitfix_visit5/R0007876.JPG\n",
      "NY_DOE-nitfix_visit3/R0005716.JPG\n",
      "NY_DOE-nitfix_visit5/R0007522.JPG\n",
      "NY_DOE-nitfix_visit3/R0005170.JPG\n",
      "NY_DOE-nitfix_visit5/R0007380.JPG\n",
      "NY_DOE-nitfix_visit5/R0007868.JPG\n",
      "NY_DOE-nitfix_visit3/R0005172.JPG\n",
      "NY_DOE-nitfix_visit4/R0006321.JPG\n",
      "NY_DOE-nitfix_visit5/R0008361.JPG\n",
      "NY_DOE-nitfix_visit4/R0007196.JPG\n",
      "NY_DOE-nitfix_visit4/R0006590.JPG\n",
      "NY_DOE-nitfix_visit4/R0006550.JPG\n",
      "NY_DOE-nitfix_visit4/R0006119.JPG\n",
      "NY_DOE-nitfix_visit3/R0005094.JPG\n",
      "NY_DOE-nitfix_visit3/R0005682.JPG\n",
      "NY_DOE-nitfix_visit4/R0006151.JPG\n",
      "NY_DOE-nitfix_visit4/R0007061.JPG\n"
     ]
    }
   ],
   "source": [
    "zip_images(df3, THE_100_IMAGES)"
   ]
  },
  {
   "cell_type": "code",
   "execution_count": null,
   "metadata": {},
   "outputs": [],
   "source": []
  },
  {
   "cell_type": "code",
   "execution_count": null,
   "metadata": {},
   "outputs": [],
   "source": []
  },
  {
   "cell_type": "code",
   "execution_count": null,
   "metadata": {},
   "outputs": [],
   "source": []
  },
  {
   "cell_type": "code",
   "execution_count": null,
   "metadata": {},
   "outputs": [],
   "source": []
  },
  {
   "cell_type": "code",
   "execution_count": null,
   "metadata": {},
   "outputs": [],
   "source": []
  }
 ],
 "metadata": {
  "kernelspec": {
   "display_name": "Python 3",
   "language": "python",
   "name": "python3"
  },
  "language_info": {
   "codemirror_mode": {
    "name": "ipython",
    "version": 3
   },
   "file_extension": ".py",
   "mimetype": "text/x-python",
   "name": "python",
   "nbconvert_exporter": "python",
   "pygments_lexer": "ipython3",
   "version": "3.7.5rc1"
  }
 },
 "nbformat": 4,
 "nbformat_minor": 4
}
