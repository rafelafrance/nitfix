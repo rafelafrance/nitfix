{
 "cells": [
  {
   "cell_type": "code",
   "execution_count": 1,
   "metadata": {},
   "outputs": [],
   "source": [
    "from pathlib import Path\n",
    "from datetime import datetime\n",
    "\n",
    "import pandas as pd\n",
    "from jinja2 import Environment, FileSystemLoader\n",
    "\n",
    "import lib.db as db\n",
    "import lib.util as util"
   ]
  },
  {
   "cell_type": "code",
   "execution_count": 2,
   "metadata": {},
   "outputs": [],
   "source": [
    "CXN = db.connect()\n",
    "\n",
    "NOW = datetime.now()\n",
    "\n",
    "OUTPUT_DIR = Path('..') / 'output'\n",
    "TEMPLATE_DIR = str(Path('.') / 'reports')\n",
    "\n",
    "REPORT_NAME = f'sample_plates_report_{NOW.strftime(\"%Y-%m-%d\")}.html'\n",
    "REPORT_TEMPLATE = 'sample_plates_report.html'\n",
    "REPORT_PATH = OUTPUT_DIR / REPORT_NAME"
   ]
  },
  {
   "cell_type": "markdown",
   "metadata": {},
   "source": []
  },
  {
   "cell_type": "code",
   "execution_count": 3,
   "metadata": {},
   "outputs": [],
   "source": [
    "def print_report(cxn):\n",
    "    \"\"\"Generate the report.\"\"\"\n",
    "    env = Environment(loader=FileSystemLoader(TEMPLATE_DIR))\n",
    "    template = env.get_template(REPORT_TEMPLATE)\n",
    "\n",
    "    wells = get_wells(cxn)\n",
    "    samples = pd.read_sql('SELECT * FROM samples', cxn)\n",
    "\n",
    "    report = template.render(\n",
    "        now=NOW,\n",
    "        wells=get_plate_wells(wells),\n",
    "        plates=get_plates(wells).to_dict(orient='records'),\n",
    "        genera=get_genus_coverage(cxn, samples).to_dict(orient='records'),\n",
    "        missing=get_missing(cxn, wells, samples).to_dict(orient='records'))\n",
    "\n",
    "    with open(REPORT_PATH, 'w') as out_file:\n",
    "        out_file.write(report)"
   ]
  },
  {
   "cell_type": "markdown",
   "metadata": {},
   "source": []
  },
  {
   "cell_type": "code",
   "execution_count": 4,
   "metadata": {},
   "outputs": [],
   "source": [
    "def get_plates(wells):\n",
    "    columns = ['plate_id', 'entry_date', 'local_id', 'protocol', 'notes']\n",
    "    plates = wells.loc[:, columns]\n",
    "    plates = plates.drop_duplicates()\n",
    "    return plates"
   ]
  },
  {
   "cell_type": "markdown",
   "metadata": {},
   "source": []
  },
  {
   "cell_type": "code",
   "execution_count": 5,
   "metadata": {},
   "outputs": [],
   "source": [
    "def get_plate_wells(wells):\n",
    "    \"\"\"Get the plate well data for the report.\"\"\"\n",
    "    plate_wells = {}\n",
    "    for group, plate in wells.groupby('group'):\n",
    "        plate_id = plate['plate_id'].iloc[0]\n",
    "        plate_wells[plate_id] = plate.fillna('').to_dict(orient='records')\n",
    "    return plate_wells"
   ]
  },
  {
   "cell_type": "markdown",
   "metadata": {},
   "source": []
  },
  {
   "cell_type": "code",
   "execution_count": 6,
   "metadata": {},
   "outputs": [],
   "source": [
    "def get_wells(cxn):\n",
    "    wells = pd.read_sql('SELECT * FROM plates', cxn)\n",
    "    wells['group'] = wells.local_id.str.replace(r'\\D+', '').astype('int')\n",
    "    wells.sort_values(['group', 'row', 'col'], inplace=True)\n",
    "    return wells"
   ]
  },
  {
   "cell_type": "markdown",
   "metadata": {},
   "source": []
  },
  {
   "cell_type": "code",
   "execution_count": 7,
   "metadata": {},
   "outputs": [],
   "source": [
    "def get_missing(cxn, wells, samples):\n",
    "    \"\"\"Get the plate samples that are not in the master taxonomy.\"\"\"\n",
    "    in_samples = wells.sample_id.isin(samples.sample_id)\n",
    "    is_uuid = wells.sample_id.map(util.split_uuids)\n",
    "    missing = wells[~in_samples & is_uuid]\n",
    "    return missing"
   ]
  },
  {
   "cell_type": "markdown",
   "metadata": {},
   "source": []
  },
  {
   "cell_type": "code",
   "execution_count": 8,
   "metadata": {},
   "outputs": [],
   "source": [
    "def get_genus_coverage(cxn, samples):\n",
    "    taxons = pd.read_sql(\n",
    "        'SELECT family, genus, scientific_name FROM taxons', cxn)\n",
    "    images = pd.read_sql('SELECT * FROM images', cxn)\n",
    "\n",
    "    taxons['total'] = 1\n",
    "    taxons['imaged'] = 0\n",
    "\n",
    "    sample_has_image = samples.sample_id.isin(images.sample_id)\n",
    "    sampled_image = samples[sample_has_image]\n",
    "\n",
    "    is_imaged = taxons.scientific_name.isin(sampled_image.scientific_name)\n",
    "    taxons.loc[is_imaged, 'imaged'] = 1\n",
    "\n",
    "    aggs = {'total': sum, 'imaged': sum}\n",
    "\n",
    "    families = taxons.groupby('family').agg(aggs)\n",
    "    families['genus'] = ''\n",
    "    families['family'] = families.index\n",
    "\n",
    "    genera = taxons.groupby(['family', 'genus']).agg(aggs)\n",
    "    genera['family'] = genera.index.get_level_values('family')\n",
    "    genera['genus'] = genera.index.get_level_values('genus')\n",
    "\n",
    "    coverage = pd.concat([families, genera])\n",
    "    total = pd.DataFrame([{\n",
    "        'family': '~Total~',\n",
    "        'genus': '',\n",
    "        'imaged': taxons.imaged.sum(),\n",
    "        'total': taxons.total.sum()}])\n",
    "    coverage = coverage.append(total)\n",
    "\n",
    "    coverage.sort_values(['family', 'genus'], inplace=True)\n",
    "    coverage.index = range(len(coverage))\n",
    "    has_genus = coverage.genus != ''\n",
    "    coverage.loc[has_genus, 'family'] = ''\n",
    "    coverage['percent'] = coverage['imaged'] / coverage['total'] * 100.0\n",
    "    return coverage"
   ]
  },
  {
   "cell_type": "code",
   "execution_count": 9,
   "metadata": {},
   "outputs": [],
   "source": [
    "print_report(CXN)"
   ]
  },
  {
   "cell_type": "code",
   "execution_count": null,
   "metadata": {},
   "outputs": [],
   "source": []
  }
 ],
 "metadata": {
  "kernelspec": {
   "display_name": "Python 3",
   "language": "python",
   "name": "python3"
  },
  "language_info": {
   "codemirror_mode": {
    "name": "ipython",
    "version": 3
   },
   "file_extension": ".py",
   "mimetype": "text/x-python",
   "name": "python",
   "nbconvert_exporter": "python",
   "pygments_lexer": "ipython3",
   "version": "3.6.3"
  },
  "toc": {
   "nav_menu": {},
   "number_sections": true,
   "sideBar": true,
   "skip_h1_title": false,
   "title_cell": "Table of Contents",
   "title_sidebar": "Contents",
   "toc_cell": false,
   "toc_position": {},
   "toc_section_display": true,
   "toc_window_display": false
  }
 },
 "nbformat": 4,
 "nbformat_minor": 2
}
