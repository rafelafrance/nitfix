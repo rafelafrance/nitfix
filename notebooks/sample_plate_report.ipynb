{
 "cells": [
  {
   "cell_type": "markdown",
   "metadata": {
    "toc": true
   },
   "source": [
    "<h1>Table of Contents<span class=\"tocSkip\"></span></h1>\n",
    "<div class=\"toc\"><ul class=\"toc-item\"><li><span><a href=\"#Setup\" data-toc-modified-id=\"Setup-1\"><span class=\"toc-item-num\">1&nbsp;&nbsp;</span>Setup</a></span></li><li><span><a href=\"#Get-Well-Data-from-the-Database\" data-toc-modified-id=\"Get-Well-Data-from-the-Database-2\"><span class=\"toc-item-num\">2&nbsp;&nbsp;</span>Get Well Data from the Database</a></span></li><li><span><a href=\"#Get-a-List-of-Plates\" data-toc-modified-id=\"Get-a-List-of-Plates-3\"><span class=\"toc-item-num\">3&nbsp;&nbsp;</span>Get a List of Plates</a></span></li><li><span><a href=\"#Get-Wells-for-Each-Plate\" data-toc-modified-id=\"Get-Wells-for-Each-Plate-4\"><span class=\"toc-item-num\">4&nbsp;&nbsp;</span>Get Wells for Each Plate</a></span></li><li><span><a href=\"#Get-Samples-Missing-from-the-Taxonomy\" data-toc-modified-id=\"Get-Samples-Missing-from-the-Taxonomy-5\"><span class=\"toc-item-num\">5&nbsp;&nbsp;</span>Get Samples Missing from the Taxonomy</a></span></li><li><span><a href=\"#Get-Family-and-Genus-Coverage\" data-toc-modified-id=\"Get-Family-and-Genus-Coverage-6\"><span class=\"toc-item-num\">6&nbsp;&nbsp;</span>Get Family and Genus Coverage</a></span></li><li><span><a href=\"#Generate-Report\" data-toc-modified-id=\"Generate-Report-7\"><span class=\"toc-item-num\">7&nbsp;&nbsp;</span>Generate Report</a></span></li></ul></div>"
   ]
  },
  {
   "cell_type": "markdown",
   "metadata": {},
   "source": [
    "# Setup"
   ]
  },
  {
   "cell_type": "code",
   "execution_count": 1,
   "metadata": {},
   "outputs": [],
   "source": [
    "from pathlib import Path\n",
    "from datetime import datetime\n",
    "\n",
    "import pandas as pd\n",
    "from jinja2 import Environment, FileSystemLoader\n",
    "\n",
    "import lib.db as db\n",
    "import lib.util as util"
   ]
  },
  {
   "cell_type": "code",
   "execution_count": 2,
   "metadata": {},
   "outputs": [],
   "source": [
    "CXN = db.connect()\n",
    "\n",
    "NOW = datetime.now()\n",
    "\n",
    "OUTPUT_DIR = Path('..') / 'output'\n",
    "TEMPLATE_DIR = str(Path('.') / 'reports')\n",
    "\n",
    "REPORT_NAME = f'sample_plates_report_{NOW.strftime(\"%Y-%m-%d\")}.html'\n",
    "REPORT_TEMPLATE = 'sample_plates_report.html'\n",
    "REPORT_PATH = OUTPUT_DIR / REPORT_NAME"
   ]
  },
  {
   "cell_type": "markdown",
   "metadata": {},
   "source": [
    "# Get Well Data from the Database"
   ]
  },
  {
   "cell_type": "code",
   "execution_count": 3,
   "metadata": {},
   "outputs": [],
   "source": [
    "def get_wells(cxn):\n",
    "    sql = \"\"\"\n",
    "        SELECT wells.*, picogreen_id, scientific_name, ng_microliter_mean\n",
    "          FROM wells\n",
    "          JOIN taxon_ids ON (wells.sample_id = taxon_ids.id)\n",
    "     LEFT JOIN picogreen USING (sample_id)\n",
    "        ORDER BY local_no, row, col\n",
    "    \"\"\"\n",
    "    wells = pd.read_sql(sql, cxn)\n",
    "    return wells"
   ]
  },
  {
   "cell_type": "markdown",
   "metadata": {},
   "source": [
    "# Get a List of Plates"
   ]
  },
  {
   "cell_type": "code",
   "execution_count": 4,
   "metadata": {},
   "outputs": [],
   "source": [
    "def get_plates(wells):\n",
    "    columns = ['plate_id', 'entry_date', 'local_id', 'protocol', 'notes']\n",
    "    plates = wells.loc[:, columns]\n",
    "    plates = plates.drop_duplicates()\n",
    "    return plates"
   ]
  },
  {
   "cell_type": "markdown",
   "metadata": {},
   "source": [
    "# Get Wells for Each Plate"
   ]
  },
  {
   "cell_type": "code",
   "execution_count": 5,
   "metadata": {},
   "outputs": [],
   "source": [
    "def get_plate_wells(wells):\n",
    "    plate_wells = {}\n",
    "    for group, plate in wells.groupby('local_no'):\n",
    "        plate_id = plate['plate_id'].iloc[0]\n",
    "        plate_wells[plate_id] = plate.fillna('').to_dict(orient='records')\n",
    "    return plate_wells"
   ]
  },
  {
   "cell_type": "markdown",
   "metadata": {},
   "source": [
    "# Get Samples Missing from the Taxonomy"
   ]
  },
  {
   "cell_type": "code",
   "execution_count": 6,
   "metadata": {},
   "outputs": [],
   "source": [
    "def get_missing(cxn, wells):\n",
    "    taxon_ids = pd.read_sql('SELECT * FROM taxon_ids', cxn)\n",
    "    in_ids = wells.sample_id.isin(taxon_ids.id)\n",
    "    missing = wells[~in_ids]\n",
    "    return missing"
   ]
  },
  {
   "cell_type": "markdown",
   "metadata": {},
   "source": [
    "# Get Family and Genus Coverage"
   ]
  },
  {
   "cell_type": "code",
   "execution_count": 7,
   "metadata": {},
   "outputs": [],
   "source": [
    "def get_genus_coverage(cxn):\n",
    "    taxonomy = pd.read_sql('SELECT * FROM taxonomy', cxn)\n",
    "    taxonomy.rename(\n",
    "        columns={'scientific_name': 'total', 'file_names': 'imaged'},\n",
    "        inplace=True)\n",
    "    taxonomy = taxonomy[['family', 'genus', 'total', 'imaged']]\n",
    "\n",
    "    genera = taxonomy.groupby(['family', 'genus']).count()\n",
    "\n",
    "    taxonomy['genus'] = ''\n",
    "    families = taxonomy.groupby(['family', 'genus']).count()\n",
    "\n",
    "    taxonomy['family'] = '~Total~'\n",
    "    total = taxonomy.groupby(['family', 'genus']).count()\n",
    "\n",
    "    coverage = pd.concat([families, genera, total])\n",
    "    coverage['family'] = coverage.index.get_level_values('family')\n",
    "    coverage['genus'] = coverage.index.get_level_values('genus')\n",
    "    coverage['percent'] = coverage['imaged'] / coverage['total'] * 100.0\n",
    "\n",
    "    coverage.sort_values(['family', 'genus'], inplace=True)\n",
    "    return coverage"
   ]
  },
  {
   "cell_type": "markdown",
   "metadata": {},
   "source": [
    "# Generate Report"
   ]
  },
  {
   "cell_type": "code",
   "execution_count": 8,
   "metadata": {},
   "outputs": [],
   "source": [
    "def print_report(cxn):\n",
    "    env = Environment(loader=FileSystemLoader(TEMPLATE_DIR))\n",
    "    template = env.get_template(REPORT_TEMPLATE)\n",
    "\n",
    "    wells = get_wells(cxn)\n",
    "\n",
    "    report = template.render(\n",
    "        now=NOW,\n",
    "        wells=get_plate_wells(wells),\n",
    "        plates=get_plates(wells).to_dict(orient='records'),\n",
    "        genera=get_genus_coverage(cxn).to_dict(orient='records'),\n",
    "        missing=get_missing(cxn, wells).to_dict(orient='records'))\n",
    "\n",
    "    with open(REPORT_PATH, 'w') as out_file:\n",
    "        out_file.write(report)"
   ]
  },
  {
   "cell_type": "code",
   "execution_count": 9,
   "metadata": {},
   "outputs": [],
   "source": [
    "print_report(CXN)"
   ]
  },
  {
   "cell_type": "code",
   "execution_count": null,
   "metadata": {},
   "outputs": [],
   "source": []
  }
 ],
 "metadata": {
  "kernelspec": {
   "display_name": "Python 3",
   "language": "python",
   "name": "python3"
  },
  "language_info": {
   "codemirror_mode": {
    "name": "ipython",
    "version": 3
   },
   "file_extension": ".py",
   "mimetype": "text/x-python",
   "name": "python",
   "nbconvert_exporter": "python",
   "pygments_lexer": "ipython3",
   "version": "3.6.3"
  },
  "toc": {
   "nav_menu": {},
   "number_sections": true,
   "sideBar": true,
   "skip_h1_title": false,
   "title_cell": "Table of Contents",
   "title_sidebar": "Contents",
   "toc_cell": true,
   "toc_position": {},
   "toc_section_display": true,
   "toc_window_display": false
  }
 },
 "nbformat": 4,
 "nbformat_minor": 2
}
